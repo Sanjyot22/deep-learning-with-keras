{
 "cells": [
  {
   "cell_type": "markdown",
   "metadata": {},
   "source": [
    "## UNDERSTANDING SEQUENTIAL MODEL'S RNN, LSTM & BASIC IMPLEMENTATION"
   ]
  },
  {
   "cell_type": "code",
   "execution_count": 2,
   "metadata": {},
   "outputs": [
    {
     "name": "stderr",
     "output_type": "stream",
     "text": [
      "Using TensorFlow backend.\n"
     ]
    },
    {
     "ename": "ModuleNotFoundError",
     "evalue": "No module named 'cv2'",
     "output_type": "error",
     "traceback": [
      "\u001b[0;31m---------------------------------------------------------------------------\u001b[0m",
      "\u001b[0;31mModuleNotFoundError\u001b[0m                       Traceback (most recent call last)",
      "\u001b[0;32m<ipython-input-2-2ed8a1a70add>\u001b[0m in \u001b[0;36m<module>\u001b[0;34m\u001b[0m\n\u001b[1;32m     12\u001b[0m \u001b[0;32mfrom\u001b[0m \u001b[0mIPython\u001b[0m\u001b[0;34m.\u001b[0m\u001b[0mdisplay\u001b[0m \u001b[0;32mimport\u001b[0m \u001b[0mdisplay\u001b[0m\u001b[0;34m,\u001b[0m \u001b[0mMarkdown\u001b[0m \u001b[0;31m#just to display markdown\u001b[0m\u001b[0;34m\u001b[0m\u001b[0;34m\u001b[0m\u001b[0m\n\u001b[1;32m     13\u001b[0m \u001b[0;32mimport\u001b[0m \u001b[0mnumpy\u001b[0m \u001b[0;32mas\u001b[0m \u001b[0mnp\u001b[0m\u001b[0;34m\u001b[0m\u001b[0;34m\u001b[0m\u001b[0m\n\u001b[0;32m---> 14\u001b[0;31m \u001b[0;32mimport\u001b[0m \u001b[0mcv2\u001b[0m\u001b[0;34m\u001b[0m\u001b[0;34m\u001b[0m\u001b[0m\n\u001b[0m\u001b[1;32m     15\u001b[0m \u001b[0;34m\u001b[0m\u001b[0m\n\u001b[1;32m     16\u001b[0m \u001b[0;34m\u001b[0m\u001b[0m\n",
      "\u001b[0;31mModuleNotFoundError\u001b[0m: No module named 'cv2'"
     ]
    }
   ],
   "source": [
    "#imports\n",
    "\n",
    "#keras imports\n",
    "from keras.models import Sequential, Model\n",
    "from keras.layers import Embedding, SimpleRNN, Flatten, Input, Dense\n",
    "from keras.layers import LSTM\n",
    "from keras.datasets import imdb\n",
    "from keras.preprocessing import sequence\n",
    "\n",
    "\n",
    "# general imports\n",
    "from IPython.display import display, Markdown #just to display markdown\n",
    "import numpy as np\n",
    "import cv2\n",
    "\n",
    "\n",
    "# visualiaztion imports\n",
    "%matplotlib inline\n",
    "import matplotlib.pyplot as plt"
   ]
  },
  {
   "cell_type": "code",
   "execution_count": 2,
   "metadata": {},
   "outputs": [
    {
     "data": {
      "text/markdown": [
       "## UNDERSTANDING RECURRENT NEURAL NETWORKS"
      ],
      "text/plain": [
       "<IPython.core.display.Markdown object>"
      ]
     },
     "metadata": {},
     "output_type": "display_data"
    },
    {
     "name": "stdout",
     "output_type": "stream",
     "text": [
      "\n",
      "RNN processes sequences by iterating through the sequence elements and maintaining \n",
      "a \"state\" containing information relative to what they have seen so far. \n",
      "\n",
      "Note: RNN is a loop\n",
      "\n",
      "state_t = 0\n",
      "for input_t in input_sequence:\n",
      "    output_t = activation(dot(W, input_t) + dot(U, state_t) + b)\n",
      "    state_t = output_t\n",
      "    \n",
      "\n"
     ]
    }
   ],
   "source": [
    "display(Markdown(\"## UNDERSTANDING RECURRENT NEURAL NETWORKS\"))\n",
    "\n",
    "print (\"\"\"\n",
    "RNN processes sequences by iterating through the sequence elements and maintaining \n",
    "a \"state\" containing information relative to what they have seen so far. \n",
    "\n",
    "Note: RNN is a loop\n",
    "\n",
    "state_t = 0\n",
    "for input_t in input_sequence:\n",
    "    output_t = activation(dot(W, input_t) + dot(U, state_t) + b)\n",
    "    state_t = output_t\n",
    "    \n",
    "\"\"\")"
   ]
  },
  {
   "cell_type": "code",
   "execution_count": 3,
   "metadata": {},
   "outputs": [
    {
     "data": {
      "text/markdown": [
       "## NUMPY IMPLEMENTATION OF RECURRENT NEURAL NETWORKS"
      ],
      "text/plain": [
       "<IPython.core.display.Markdown object>"
      ]
     },
     "metadata": {},
     "output_type": "display_data"
    },
    {
     "name": "stdout",
     "output_type": "stream",
     "text": [
      "Raw data\n",
      "\n",
      "Shape of input data: (100, 32)\n",
      "first 2 timestamps data \n",
      "[[0.93941628 0.18366029 0.86495493 0.62966376 0.77272952 0.69192685\n",
      "  0.08294574 0.56900931 0.35218716 0.161232   0.1101947  0.66966643\n",
      "  0.56980041 0.54103126 0.64655182 0.05960005 0.48020999 0.59481123\n",
      "  0.70780551 0.80787832 0.97688166 0.03897529 0.24695992 0.66135359\n",
      "  0.36806898 0.82592663 0.18009636 0.50370567 0.5056014  0.96078077\n",
      "  0.10818129 0.83617888]\n",
      " [0.29626298 0.31352476 0.73610419 0.67041195 0.67757434 0.45467884\n",
      "  0.6678764  0.19161967 0.70308297 0.93616663 0.77160761 0.89197689\n",
      "  0.50928076 0.33251088 0.53285764 0.12711935 0.23892908 0.58955827\n",
      "  0.73203272 0.18063891 0.91959683 0.74940958 0.89571044 0.74078123\n",
      "  0.62549485 0.50984978 0.01685391 0.44041757 0.111873   0.5094952\n",
      "  0.0126755  0.68095461]]\n",
      "\n",
      "Expected output shape/timestamp: (64,)\n",
      "Random initial output state \n",
      "[0. 0. 0. 0. 0. 0. 0. 0. 0. 0. 0. 0. 0. 0. 0. 0. 0. 0. 0. 0. 0. 0. 0. 0.\n",
      " 0. 0. 0. 0. 0. 0. 0. 0. 0. 0. 0. 0. 0. 0. 0. 0. 0. 0. 0. 0. 0. 0. 0. 0.\n",
      " 0. 0. 0. 0. 0. 0. 0. 0. 0. 0. 0. 0. 0. 0. 0. 0.]\n",
      "\n"
     ]
    },
    {
     "data": {
      "text/markdown": [
       "### result"
      ],
      "text/plain": [
       "<IPython.core.display.Markdown object>"
      ]
     },
     "metadata": {},
     "output_type": "display_data"
    },
    {
     "name": "stdout",
     "output_type": "stream",
     "text": [
      "We have a 64 dimension vector for each time-step of input sequence\n",
      "\n",
      "[[0.99999995 0.99999999 0.99999964 ... 1.         0.99999993 1.        ]\n",
      " [1.         1.         1.         ... 1.         1.         1.        ]\n",
      " [1.         1.         1.         ... 1.         1.         1.        ]\n",
      " ...\n",
      " [1.         1.         1.         ... 1.         1.         1.        ]\n",
      " [1.         1.         1.         ... 1.         1.         1.        ]\n",
      " [1.         1.         1.         ... 1.         1.         1.        ]]\n",
      "\n",
      "Note:\n",
      "\n",
      "- RNN in each loop, produce result for that particular timestamp\n",
      "- While in a loop, RNN has output from earlier states stored in the form of state variable\n",
      "- This output corresponds is produced when \"return sequence = True\" in rnn parameter initialization\n",
      "- The above input data is 1 sample in a batch (for next sample the loop restarts)\n",
      "- The above implementation is the actual Keras SimpleRNN layer \n",
      "(the only difference is it can process batches of sequence)\n",
      "\n"
     ]
    }
   ],
   "source": [
    "display(Markdown(\"## NUMPY IMPLEMENTATION OF RECURRENT NEURAL NETWORKS\"))\n",
    "\n",
    "timesteps = 100  # Number of timesteps in the input sequence\n",
    "inputs_features = 32  # Dimensionality of the input feature space\n",
    "output_features = 64  # Dimensionality of the output feature space\n",
    "\n",
    "\n",
    "# This is our input data - just random noise for the sake of our example.\n",
    "inputs = np.random.random((timesteps, inputs_features))\n",
    "# This is our \"initial state\": an all-zero vector.\n",
    "state_t = np.zeros((output_features,))\n",
    "\n",
    "\n",
    "\n",
    "print (\"Raw data\\n\")\n",
    "print(\"Shape of input data: {}\".format(inputs.shape))\n",
    "print (\"first 2 timestamps data \\n{}\\n\".format(inputs[:2]))\n",
    "print(\"Expected output shape/timestamp: {}\".format(state_t.shape))\n",
    "print (\"Random initial output state \\n{}\\n\".format(state_t))\n",
    "\n",
    "# Creating random weight matrices\n",
    "W = np.random.random((output_features, inputs_features))\n",
    "U = np.random.random((output_features, output_features))\n",
    "b = np.random.random((output_features,))\n",
    "\n",
    "successive_outputs = []\n",
    "for input_t in inputs:  # input_t is a vector of shape (input_features,)\n",
    "    # We combine the input with the current state\n",
    "    # (i.e. the previous output) to obtain the current output.\n",
    "    \n",
    "    output_t = np.tanh(np.dot(W, input_t) + np.dot(U, state_t) + b)\n",
    "    \n",
    "    # We store this output in a list.\n",
    "    successive_outputs.append(output_t)\n",
    "    \n",
    "    # We update the \"state\" of the network for the next timestep\n",
    "    state_t = output_t\n",
    "    \n",
    "\n",
    "\n",
    "display(Markdown(\"### result\"))\n",
    "\n",
    "# The final output is a 2D tensor of shape (timesteps, output_features).\n",
    "# final_output_sequence = np.concatenate(successive_outputs, axis=0)\n",
    "final_output_sequence = np.reshape(successive_outputs, (timesteps,output_features))\n",
    "\n",
    "print (\"We have a {} dimension vector for each time-step of input sequence\\n\".format(final_output_sequence.shape[1]))\n",
    "print (final_output_sequence)\n",
    "\n",
    "print (\"\"\"\n",
    "Note:\n",
    "\n",
    "- RNN in each loop, produce result for that particular timestamp\n",
    "- While in a loop, RNN has output from earlier states stored in the form of state variable\n",
    "- This output corresponds is produced when \"return sequence = True\" in rnn parameter initialization\n",
    "- The above input data is 1 sample in a batch (for next sample the loop restarts)\n",
    "- The above implementation is the actual Keras SimpleRNN layer \n",
    "(the only difference is it can process batches of sequence)\n",
    "\"\"\")"
   ]
  },
  {
   "cell_type": "code",
   "execution_count": 4,
   "metadata": {},
   "outputs": [
    {
     "data": {
      "text/markdown": [
       "## implementing above model using keras SimpleRNN layer"
      ],
      "text/plain": [
       "<IPython.core.display.Markdown object>"
      ]
     },
     "metadata": {},
     "output_type": "display_data"
    },
    {
     "name": "stdout",
     "output_type": "stream",
     "text": [
      "_________________________________________________________________\n",
      "Layer (type)                 Output Shape              Param #   \n",
      "=================================================================\n",
      "rnn_layer (SimpleRNN)        (None, 100, 64)           6208      \n",
      "=================================================================\n",
      "Total params: 6,208\n",
      "Trainable params: 6,208\n",
      "Non-trainable params: 0\n",
      "_________________________________________________________________\n",
      "\n",
      "Note:\n",
      "In case of text, the embedding layer help to create this 2 dimensional input vector. \n",
      "In text each word represent the timestamp and word vector is smallest data unit.\n",
      "\n"
     ]
    }
   ],
   "source": [
    "display(Markdown(\"## implementing above model using keras SimpleRNN layer\"))\n",
    "\n",
    "model = Sequential()\n",
    "model.add(SimpleRNN(64,return_sequences=True,input_shape=(100,32),name=\"rnn_layer\"))\n",
    "model.summary()\n",
    "\n",
    "print (\"\"\"\n",
    "Note:\n",
    "In case of text, the embedding layer help to create this 2 dimensional input vector. \n",
    "In text each word represent the timestamp and word vector is smallest data unit.\n",
    "\"\"\")"
   ]
  },
  {
   "cell_type": "code",
   "execution_count": 5,
   "metadata": {},
   "outputs": [
    {
     "data": {
      "text/markdown": [
       "## USING SIMPLE-RNN & RETURNING THE LAST STATE"
      ],
      "text/plain": [
       "<IPython.core.display.Markdown object>"
      ]
     },
     "metadata": {},
     "output_type": "display_data"
    },
    {
     "name": "stdout",
     "output_type": "stream",
     "text": [
      "_________________________________________________________________\n",
      "Layer (type)                 Output Shape              Param #   \n",
      "=================================================================\n",
      "embedding_layer (Embedding)  (None, 100, 32)           320000    \n",
      "_________________________________________________________________\n",
      "rnn_layer (SimpleRNN)        (None, 64)                6208      \n",
      "=================================================================\n",
      "Total params: 326,208\n",
      "Trainable params: 326,208\n",
      "Non-trainable params: 0\n",
      "_________________________________________________________________\n"
     ]
    },
    {
     "data": {
      "text/markdown": [
       "### USING SIMPLE-RNN & RETURNING ALL STATE's SEQUENCES"
      ],
      "text/plain": [
       "<IPython.core.display.Markdown object>"
      ]
     },
     "metadata": {},
     "output_type": "display_data"
    },
    {
     "name": "stdout",
     "output_type": "stream",
     "text": [
      "_________________________________________________________________\n",
      "Layer (type)                 Output Shape              Param #   \n",
      "=================================================================\n",
      "embedding_layer (Embedding)  (None, 100, 32)           320000    \n",
      "_________________________________________________________________\n",
      "rnn_layer (SimpleRNN)        (None, 100, 64)           6208      \n",
      "=================================================================\n",
      "Total params: 326,208\n",
      "Trainable params: 326,208\n",
      "Non-trainable params: 0\n",
      "_________________________________________________________________\n",
      "\n",
      "\"return_sequences\" parameter decides if the output is produced at each stage or final output is produced \n",
      "\n"
     ]
    }
   ],
   "source": [
    "display(Markdown(\"## USING SIMPLE-RNN & RETURNING THE LAST STATE\"))\n",
    "\n",
    "#embedding layer initializations\n",
    "n_vocab_embedding_layer = 10000\n",
    "size_of_word_vector = 32\n",
    "\n",
    "model = Sequential()\n",
    "model.add(Embedding(n_vocab_embedding_layer, output_dim=size_of_word_vector , input_length=100,name=\"embedding_layer\"))\n",
    "model.add(SimpleRNN(64, name = \"rnn_layer\"))\n",
    "model.summary()\n",
    "\n",
    "\n",
    "display(Markdown(\"### USING SIMPLE-RNN & RETURNING ALL STATE's SEQUENCES\"))\n",
    "\n",
    "model = Sequential()\n",
    "model.add(Embedding(n_vocab_embedding_layer, output_dim=size_of_word_vector, input_length=100,name=\"embedding_layer\"))\n",
    "model.add(SimpleRNN(64, return_sequences=True, name = \"rnn_layer\"))\n",
    "model.summary()\n",
    "\n",
    "print (\"\"\"\n",
    "\"return_sequences\" parameter decides if the output is produced at each stage or final output is produced \n",
    "\"\"\")"
   ]
  },
  {
   "cell_type": "code",
   "execution_count": 6,
   "metadata": {},
   "outputs": [],
   "source": [
    "def plot_model_training_history(history,accuracy = True):\n",
    "    \n",
    "    #collecting all post-training values \n",
    "    if accuracy:\n",
    "        acc = history.history['acc']\n",
    "        val_acc = history.history['val_acc']\n",
    "    \n",
    "    loss = history.history['loss']\n",
    "    val_loss = history.history['val_loss']\n",
    "    epochs = range(1, len(loss) + 1)\n",
    "    \n",
    "    import matplotlib.pyplot as plt\n",
    "    plt.rcParams[\"figure.figsize\"] = (20,3)\n",
    "    \n",
    "    # ploting losses\n",
    "    plt.plot(epochs, loss, 'bo', label='Training loss')\n",
    "    plt.plot(epochs, val_loss, 'b', label='Validation loss')\n",
    "    plt.title('Training and validation loss')\n",
    "    plt.legend()\n",
    "    plt.show()\n",
    "    \n",
    "    plt.figure()\n",
    "    \n",
    "    if accuracy:\n",
    "        # ploting accuracies\n",
    "        plt.plot(epochs, acc, 'bo', label='Training acc')\n",
    "        plt.plot(epochs, val_acc, 'b', label='Validation acc')\n",
    "        plt.title('Training and validation accuracy')\n",
    "        plt.legend()\n",
    "    return\n",
    "\n",
    "def plot_large_image_without_borders(path_to_image):\n",
    "    # change the figure size\n",
    "    fig2 = plt.figure(figsize = (15,15)) # create a 5 x 5 figure \n",
    "    ax3 = fig2.add_subplot(111)\n",
    "    ax3.imshow(cv2.imread(path_to_image), interpolation='none')\n",
    "    plt.axis('off')\n",
    "    plt.show()"
   ]
  },
  {
   "cell_type": "code",
   "execution_count": 1,
   "metadata": {},
   "outputs": [
    {
     "ename": "NameError",
     "evalue": "name 'Markdown' is not defined",
     "output_type": "error",
     "traceback": [
      "\u001b[0;31m---------------------------------------------------------------------------\u001b[0m",
      "\u001b[0;31mNameError\u001b[0m                                 Traceback (most recent call last)",
      "\u001b[0;32m<ipython-input-1-74dcff1ae795>\u001b[0m in \u001b[0;36m<module>\u001b[0;34m\u001b[0m\n\u001b[0;32m----> 1\u001b[0;31m \u001b[0mdisplay\u001b[0m\u001b[0;34m(\u001b[0m\u001b[0mMarkdown\u001b[0m\u001b[0;34m(\u001b[0m\u001b[0;34m\"## LOADING DATA FOR ALL THE BELOW MODEL \"\u001b[0m\u001b[0;34m)\u001b[0m\u001b[0;34m)\u001b[0m\u001b[0;34m\u001b[0m\u001b[0;34m\u001b[0m\u001b[0m\n\u001b[0m\u001b[1;32m      2\u001b[0m \u001b[0;34m\u001b[0m\u001b[0m\n\u001b[1;32m      3\u001b[0m \u001b[0;31m# pre-processing initializations\u001b[0m\u001b[0;34m\u001b[0m\u001b[0;34m\u001b[0m\u001b[0;34m\u001b[0m\u001b[0m\n\u001b[1;32m      4\u001b[0m \u001b[0mmax_features\u001b[0m \u001b[0;34m=\u001b[0m \u001b[0;36m10000\u001b[0m  \u001b[0;31m# number of words to consider as features\u001b[0m\u001b[0;34m\u001b[0m\u001b[0;34m\u001b[0m\u001b[0m\n\u001b[1;32m      5\u001b[0m \u001b[0mmaxlen\u001b[0m \u001b[0;34m=\u001b[0m \u001b[0;36m500\u001b[0m  \u001b[0;31m# cut texts after this number of words (among top max_features most common words)\u001b[0m\u001b[0;34m\u001b[0m\u001b[0;34m\u001b[0m\u001b[0m\n",
      "\u001b[0;31mNameError\u001b[0m: name 'Markdown' is not defined"
     ]
    }
   ],
   "source": [
    "display(Markdown(\"## LOADING DATA FOR ALL THE BELOW MODEL \"))\n",
    "\n",
    "# pre-processing initializations\n",
    "max_features = 10000  # number of words to consider as features\n",
    "maxlen = 500  # cut texts after this number of words (among top max_features most common words)\n",
    "batch_size = 32\n",
    "\n",
    "# data pre-prcessing\n",
    "### IMDB data encoding from text will be extensively covered in \"text_pre-processing_basic_model_building\"###\n",
    "\n",
    "\n",
    "print('Loading data...')\n",
    "(input_train, y_train), (input_test, y_test) = imdb.load_data(num_words=max_features)\n",
    "\n",
    "# cutting sentences to max length of 500\n",
    "input_train = sequence.pad_sequences(input_train, maxlen=maxlen)\n",
    "input_test = sequence.pad_sequences(input_test, maxlen=maxlen)\n",
    "\n",
    "print (\"after data preprocessing\")\n",
    "print('input_train shape:', input_train.shape)\n",
    "print('input_test shape:', input_test.shape, \"\\n\")\n",
    "\n",
    "print(\"\\nImdb review 1 sample input data\\n\")\n",
    "print(input_train[:1]) \n",
    "\n",
    "print(\"\\nImdb review data lables\")\n",
    "print(y_train[:2])\n",
    "print(\n",
    "\"\"\"\n",
    "Note:  \n",
    "0 : \"Negative review\"\n",
    "1 : \"Positive review\"\n",
    "post_padding in input data helps gragient in LSTM flow better \n",
    "\n",
    "\"\"\"\n",
    ")"
   ]
  },
  {
   "cell_type": "code",
   "execution_count": 8,
   "metadata": {
    "scrolled": false
   },
   "outputs": [
    {
     "data": {
      "text/markdown": [
       "## TRAINING MODEL USING SIMPLE-RNN LAYER "
      ],
      "text/plain": [
       "<IPython.core.display.Markdown object>"
      ]
     },
     "metadata": {},
     "output_type": "display_data"
    },
    {
     "name": "stdout",
     "output_type": "stream",
     "text": [
      "starting model training...\n",
      "_________________________________________________________________\n",
      "Layer (type)                 Output Shape              Param #   \n",
      "=================================================================\n",
      "embedding_1 (Embedding)      (None, None, 32)          320000    \n",
      "_________________________________________________________________\n",
      "simple_rnn_1 (SimpleRNN)     (None, 32)                2080      \n",
      "_________________________________________________________________\n",
      "dense_1 (Dense)              (None, 1)                 33        \n",
      "=================================================================\n",
      "Total params: 322,113\n",
      "Trainable params: 322,113\n",
      "Non-trainable params: 0\n",
      "_________________________________________________________________\n",
      "\n",
      "\n",
      "Train on 20000 samples, validate on 5000 samples\n",
      "Epoch 1/10\n",
      "20000/20000 [==============================] - 75s 4ms/step - loss: 0.6441 - acc: 0.6087 - val_loss: 0.6313 - val_acc: 0.6610\n",
      "Epoch 2/10\n",
      "20000/20000 [==============================] - 76s 4ms/step - loss: 0.4105 - acc: 0.8225 - val_loss: 0.4135 - val_acc: 0.8178\n",
      "Epoch 3/10\n",
      "20000/20000 [==============================] - 74s 4ms/step - loss: 0.2907 - acc: 0.8844 - val_loss: 0.3844 - val_acc: 0.8342\n",
      "Epoch 4/10\n",
      "20000/20000 [==============================] - 13136s 657ms/step - loss: 0.2198 - acc: 0.9156 - val_loss: 0.4195 - val_acc: 0.8330\n",
      "Epoch 5/10\n",
      "20000/20000 [==============================] - 74s 4ms/step - loss: 0.1621 - acc: 0.9416 - val_loss: 0.4088 - val_acc: 0.8638\n",
      "Epoch 6/10\n",
      "20000/20000 [==============================] - 77s 4ms/step - loss: 0.1101 - acc: 0.9619 - val_loss: 0.4086 - val_acc: 0.8450\n",
      "Epoch 7/10\n",
      "20000/20000 [==============================] - 78s 4ms/step - loss: 0.0679 - acc: 0.9780 - val_loss: 0.4583 - val_acc: 0.8506\n",
      "Epoch 8/10\n",
      "20000/20000 [==============================] - 90s 4ms/step - loss: 0.0441 - acc: 0.9864 - val_loss: 0.6423 - val_acc: 0.7830\n",
      "Epoch 9/10\n",
      "20000/20000 [==============================] - 91s 5ms/step - loss: 0.0259 - acc: 0.9924 - val_loss: 0.6250 - val_acc: 0.8152\n",
      "Epoch 10/10\n",
      "20000/20000 [==============================] - 97s 5ms/step - loss: 0.0195 - acc: 0.9942 - val_loss: 0.7410 - val_acc: 0.7898\n"
     ]
    },
    {
     "data": {
      "text/markdown": [
       "### result"
      ],
      "text/plain": [
       "<IPython.core.display.Markdown object>"
      ]
     },
     "metadata": {},
     "output_type": "display_data"
    },
    {
     "data": {
      "image/png": "[encoded data removed]",
      "text/plain": [
       "<Figure size 1440x216 with 1 Axes>"
      ]
     },
     "metadata": {
      "needs_background": "light"
     },
     "output_type": "display_data"
    },
    {
     "data": {
      "image/png": "[encoded data removed]",
      "text/plain": [
       "<Figure size 1440x216 with 1 Axes>"
      ]
     },
     "metadata": {
      "needs_background": "light"
     },
     "output_type": "display_data"
    }
   ],
   "source": [
    "display(Markdown(\"## TRAINING MODEL USING SIMPLE-RNN LAYER \"))\n",
    "\n",
    "# model architecture and training\n",
    "print(\"starting model training...\")\n",
    "model = Sequential()\n",
    "model.add(Embedding(max_features, 32))\n",
    "model.add(SimpleRNN(32))\n",
    "model.add(Dense(1, activation='sigmoid'))\n",
    "model.summary()\n",
    "print (\"\\n\")\n",
    "model.compile(optimizer='rmsprop', loss='binary_crossentropy', metrics=['acc'])\n",
    "history = model.fit(input_train, y_train,\n",
    "                    epochs=10,\n",
    "                    batch_size=128,\n",
    "                    validation_split=0.2)\n",
    "\n",
    "# ploting model training results\n",
    "display(Markdown(\"### result\"))\n",
    "plot_model_training_history(history)"
   ]
  },
  {
   "cell_type": "code",
   "execution_count": 9,
   "metadata": {},
   "outputs": [
    {
     "data": {
      "text/markdown": [
       "## UNDERSTANDING LONG SHORT TERM MEMORY (LSTM)"
      ],
      "text/plain": [
       "<IPython.core.display.Markdown object>"
      ]
     },
     "metadata": {},
     "output_type": "display_data"
    },
    {
     "name": "stdout",
     "output_type": "stream",
     "text": [
      "\n"
     ]
    }
   ],
   "source": [
    "display(Markdown(\"## UNDERSTANDING LONG SHORT TERM MEMORY (LSTM)\"))\n",
    "print (\"\"\"\"\"\")"
   ]
  },
  {
   "cell_type": "code",
   "execution_count": 10,
   "metadata": {},
   "outputs": [
    {
     "data": {
      "text/markdown": [
       "## TRAINING A MODEL USING LSTM LAYER"
      ],
      "text/plain": [
       "<IPython.core.display.Markdown object>"
      ]
     },
     "metadata": {},
     "output_type": "display_data"
    },
    {
     "name": "stdout",
     "output_type": "stream",
     "text": [
      "starting model training...\n",
      "_________________________________________________________________\n",
      "Layer (type)                 Output Shape              Param #   \n",
      "=================================================================\n",
      "embedding_2 (Embedding)      (None, None, 32)          320000    \n",
      "_________________________________________________________________\n",
      "lstm_1 (LSTM)                (None, 32)                8320      \n",
      "_________________________________________________________________\n",
      "dense_2 (Dense)              (None, 1)                 33        \n",
      "=================================================================\n",
      "Total params: 328,353\n",
      "Trainable params: 328,353\n",
      "Non-trainable params: 0\n",
      "_________________________________________________________________\n",
      "\n",
      "\n",
      "Train on 20000 samples, validate on 5000 samples\n",
      "Epoch 1/10\n",
      "20000/20000 [==============================] - 343s 17ms/step - loss: 0.5031 - acc: 0.7637 - val_loss: 0.3781 - val_acc: 0.8454\n",
      "Epoch 2/10\n",
      "20000/20000 [==============================] - 388s 19ms/step - loss: 0.2883 - acc: 0.8872 - val_loss: 0.3760 - val_acc: 0.8274\n",
      "Epoch 3/10\n",
      "20000/20000 [==============================] - 314s 16ms/step - loss: 0.2318 - acc: 0.9114 - val_loss: 0.3218 - val_acc: 0.8748\n",
      "Epoch 4/10\n",
      "20000/20000 [==============================] - 326s 16ms/step - loss: 0.1923 - acc: 0.9268 - val_loss: 0.5413 - val_acc: 0.8448\n",
      "Epoch 5/10\n",
      "20000/20000 [==============================] - 331s 17ms/step - loss: 0.1755 - acc: 0.9357 - val_loss: 0.3089 - val_acc: 0.8662\n",
      "Epoch 6/10\n",
      "20000/20000 [==============================] - 346s 17ms/step - loss: 0.1525 - acc: 0.9442 - val_loss: 0.3917 - val_acc: 0.8622\n",
      "Epoch 7/10\n",
      "20000/20000 [==============================] - 328s 16ms/step - loss: 0.1430 - acc: 0.9479 - val_loss: 0.3511 - val_acc: 0.8882\n",
      "Epoch 8/10\n",
      "20000/20000 [==============================] - 317s 16ms/step - loss: 0.1281 - acc: 0.9551 - val_loss: 0.3269 - val_acc: 0.8856\n",
      "Epoch 9/10\n",
      "20000/20000 [==============================] - 315s 16ms/step - loss: 0.1144 - acc: 0.9600 - val_loss: 0.3386 - val_acc: 0.8862\n",
      "Epoch 10/10\n",
      "20000/20000 [==============================] - 323s 16ms/step - loss: 0.1089 - acc: 0.9618 - val_loss: 0.4195 - val_acc: 0.8446\n"
     ]
    },
    {
     "data": {
      "text/markdown": [
       "### result"
      ],
      "text/plain": [
       "<IPython.core.display.Markdown object>"
      ]
     },
     "metadata": {},
     "output_type": "display_data"
    },
    {
     "data": {
      "image/png": "[encoded data removed]",
      "text/plain": [
       "<Figure size 1440x216 with 1 Axes>"
      ]
     },
     "metadata": {
      "needs_background": "light"
     },
     "output_type": "display_data"
    },
    {
     "data": {
      "image/png": "[encoded data removed]",
      "text/plain": [
       "<Figure size 1440x216 with 1 Axes>"
      ]
     },
     "metadata": {
      "needs_background": "light"
     },
     "output_type": "display_data"
    }
   ],
   "source": [
    "display(Markdown(\"## TRAINING A MODEL USING LSTM LAYER\"))\n",
    "\n",
    "# model architecture and training\n",
    "print(\"starting model training...\")\n",
    "model = Sequential()\n",
    "model.add(Embedding(max_features, 32))\n",
    "model.add(LSTM(32))\n",
    "model.add(Dense(1, activation='sigmoid'))\n",
    "model.summary()\n",
    "print (\"\\n\")\n",
    "\n",
    "model.compile(optimizer='rmsprop',\n",
    "              loss='binary_crossentropy',\n",
    "              metrics=['acc'])\n",
    "\n",
    "history = model.fit(input_train, y_train,\n",
    "                    epochs=10,\n",
    "                    batch_size=128,\n",
    "                    validation_split=0.2)\n",
    "\n",
    "# ploting model training results\n",
    "display(Markdown(\"### result\"))\n",
    "plot_model_training_history(history)"
   ]
  },
  {
   "cell_type": "code",
   "execution_count": 3,
   "metadata": {},
   "outputs": [
    {
     "data": {
      "text/markdown": [
       "## UNDERSTANDING BIDIRECTIONAL RNNs"
      ],
      "text/plain": [
       "<IPython.core.display.Markdown object>"
      ]
     },
     "metadata": {},
     "output_type": "display_data"
    },
    {
     "ename": "NameError",
     "evalue": "name 'plot_large_image_without_borders' is not defined",
     "output_type": "error",
     "traceback": [
      "\u001b[0;31m---------------------------------------------------------------------------\u001b[0m",
      "\u001b[0;31mNameError\u001b[0m                                 Traceback (most recent call last)",
      "\u001b[0;32m<ipython-input-3-b1f8cfd6a0c0>\u001b[0m in \u001b[0;36m<module>\u001b[0;34m\u001b[0m\n\u001b[1;32m      1\u001b[0m \u001b[0mdisplay\u001b[0m\u001b[0;34m(\u001b[0m\u001b[0mMarkdown\u001b[0m\u001b[0;34m(\u001b[0m\u001b[0;34m\"## UNDERSTANDING BIDIRECTIONAL RNNs\"\u001b[0m\u001b[0;34m)\u001b[0m\u001b[0;34m)\u001b[0m\u001b[0;34m\u001b[0m\u001b[0;34m\u001b[0m\u001b[0m\n\u001b[0;32m----> 2\u001b[0;31m \u001b[0mplot_large_image_without_borders\u001b[0m\u001b[0;34m(\u001b[0m\u001b[0;34m\"bi-directional_rnn.png\"\u001b[0m\u001b[0;34m)\u001b[0m\u001b[0;34m\u001b[0m\u001b[0;34m\u001b[0m\u001b[0m\n\u001b[0m\u001b[1;32m      3\u001b[0m \u001b[0mdisplay\u001b[0m\u001b[0;34m(\u001b[0m\u001b[0mMarkdown\u001b[0m\u001b[0;34m(\u001b[0m\u001b[0;34m\"### reversing data for sequential model training\"\u001b[0m\u001b[0;34m)\u001b[0m\u001b[0;34m)\u001b[0m\u001b[0;34m\u001b[0m\u001b[0;34m\u001b[0m\u001b[0m\n\u001b[1;32m      4\u001b[0m \u001b[0;34m\u001b[0m\u001b[0m\n\u001b[1;32m      5\u001b[0m print (\"\"\"\n",
      "\u001b[0;31mNameError\u001b[0m: name 'plot_large_image_without_borders' is not defined"
     ]
    }
   ],
   "source": [
    "display(Markdown(\"## UNDERSTANDING BIDIRECTIONAL RNNs\"))\n",
    "plot_large_image_without_borders(\"bi-directional_rnn.png\")\n",
    "display(Markdown(\"### reversing data for sequential model training\"))\n",
    "\n",
    "print (\"\"\"\n",
    "Undertanding the results, if the data is feed in reverse manner. \n",
    "Which is the second input in bi-directional RNN layer.\n",
    "\"\"\")\n",
    "\n",
    "print (\"Data reversing\")\n",
    "# Reverse sequences\n",
    "input_train_ = [x[::-1] for x in input_train]\n",
    "input_test_ = [x[::-1] for x in input_test]\n",
    "\n",
    "# Pad sequences\n",
    "x_train_ = sequence.pad_sequences(input_train_, maxlen=maxlen)\n",
    "x_test_ = sequence.pad_sequences(input_test_, maxlen=maxlen)\n",
    "\n",
    "# model architecture and training\n",
    "print(\"starting model training...\")\n",
    "model = Sequential()\n",
    "model.add(layers.Embedding(max_features, 128))\n",
    "model.add(layers.LSTM(32))\n",
    "model.add(layers.Dense(1, activation='sigmoid'))\n",
    "model.summary()\n",
    "print (\"\\n\")\n",
    "\n",
    "model.compile(optimizer='rmsprop',\n",
    "              loss='binary_crossentropy',\n",
    "              metrics=['acc'])\n",
    "history = model.fit(x_train_, y_train,\n",
    "                    epochs=10,\n",
    "                    batch_size=128,\n",
    "                    validation_split=0.2)\n",
    "\n",
    "# ploting model training results\n",
    "display(Markdown(\"### result\"))\n",
    "plot_model_training_history(history)\n",
    "\n",
    "print (\"\"\"\n",
    "Thus, remarkably, on such a text dataset, reversed-order processing works \n",
    "just as well as chronological processing\n",
    "\"\"\"\n",
    ")"
   ]
  },
  {
   "cell_type": "code",
   "execution_count": null,
   "metadata": {},
   "outputs": [],
   "source": [
    "display(Markdown(\"## TRAINING AND EVALUATING A BIDIRECTIONAL LSTM\"))\n",
    "\n",
    "# model architecture and training\n",
    "print(\"starting model training...\")\n",
    "model = Sequential()\n",
    "model.add(layers.Embedding(max_features, 32))\n",
    "model.add(layers.Bidirectional(layers.LSTM(32)))\n",
    "model.add(layers.Dense(1, activation='sigmoid'))\n",
    "model.summary()\n",
    "print (\"\\n\")\n",
    "\n",
    "model.compile(optimizer='rmsprop', loss='binary_crossentropy', metrics=['acc'])\n",
    "history = model.fit(input_train, y_train, epochs=10, batch_size=128, validation_split=0.2)\n",
    "\n",
    "# ploting model training results\n",
    "display(Markdown(\"### result\"))\n",
    "plot_model_training_history(history)\n",
    "\n",
    "print (\"\"\"\n",
    "It performs slightly better than the regular LSTM we tried in the previous section, \n",
    "going above 89% validation accuracy. It also seems to overfit faster, which is unsurprising \n",
    "since a bidirectional layer has twice more parameters than a chronological LSTM.\n",
    "\"\"\"\n",
    ")"
   ]
  },
  {
   "cell_type": "markdown",
   "metadata": {},
   "source": [
    "## UNDERSTANDING SEQUENCE PROCESSING WITH CONVNETS\"\n",
    "![title](convnets.png)"
   ]
  },
  {
   "cell_type": "code",
   "execution_count": null,
   "metadata": {},
   "outputs": [],
   "source": [
    "display(Markdown(\"### training and evaluating a simple 1D convnet\"))\n",
    "\n",
    "# model architecture and training\n",
    "print(\"starting model training...\")\n",
    "\n",
    "model = Sequential()\n",
    "model.add(layers.Embedding(max_features, 128, input_length=max_len))\n",
    "model.add(layers.Conv1D(32, 7, activation='relu'))\n",
    "model.add(layers.MaxPooling1D(5))\n",
    "model.add(layers.Conv1D(32, 7, activation='relu'))\n",
    "model.add(layers.GlobalMaxPooling1D())\n",
    "model.add(layers.Dense(1))\n",
    "model.summary()\n",
    "print (\"\\n\")\n",
    "\n",
    "model.compile(optimizer=RMSprop(lr=1e-4),\n",
    "              loss='binary_crossentropy',\n",
    "              metrics=['acc'])\n",
    "history = model.fit(input_train, y_train,\n",
    "                    epochs=10,\n",
    "                    batch_size=128,\n",
    "                    validation_split=0.2)\n",
    "\n",
    "# ploting model training results\n",
    "display(Markdown(\"### result\"))\n",
    "plot_model_training_history(history)"
   ]
  },
  {
   "cell_type": "markdown",
   "metadata": {},
   "source": [
    "### COMBINING CNNs & RNNs FOR LONG SEQUENCES\"\n",
    "![title](combined_model.png)"
   ]
  },
  {
   "cell_type": "code",
   "execution_count": null,
   "metadata": {},
   "outputs": [],
   "source": [
    "display(Markdown(\"### training 1D convnet with GRU\"))\n",
    "\n",
    "# model architecture and training\n",
    "print(\"starting model training...\")\n",
    "\n",
    "model = Sequential()\n",
    "model.add(layers.Embedding(max_features, 128, input_length=max_len))\n",
    "model.add(layers.Conv1D(32, 7, activation='relu'))\n",
    "model.add(layers.MaxPooling1D(5))\n",
    "model.add(layers.Conv1D(32, 7, activation='relu'))\n",
    "model.add(layers.GRU(32, dropout=0.1, recurrent_dropout=0.5))\n",
    "model.add(layers.Dense(1))\n",
    "model.summary()\n",
    "print (\"\\n\")\n",
    "\n",
    "model.compile(optimizer=RMSprop(lr=1e-4),\n",
    "              loss='binary_crossentropy',\n",
    "              metrics=['acc'])\n",
    "history = model.fit(input_train, y_train,\n",
    "                    epochs=10,\n",
    "                    batch_size=128,\n",
    "                    validation_split=0.2)\n",
    "\n",
    "# ploting model training results\n",
    "display(Markdown(\"### result\"))\n",
    "plot_model_training_history(history)"
   ]
  }
 ],
 "metadata": {
  "kernelspec": {
   "display_name": "Python 3",
   "language": "python",
   "name": "python3"
  },
  "language_info": {
   "codemirror_mode": {
    "name": "ipython",
    "version": 3
   },
   "file_extension": ".py",
   "mimetype": "text/x-python",
   "name": "python",
   "nbconvert_exporter": "python",
   "pygments_lexer": "ipython3",
   "version": "3.6.8"
  }
 },
 "nbformat": 4,
 "nbformat_minor": 2
}
