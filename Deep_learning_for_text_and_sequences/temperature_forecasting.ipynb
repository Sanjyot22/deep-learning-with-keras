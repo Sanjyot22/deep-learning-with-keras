{
 "cells": [
  {
   "cell_type": "markdown",
   "metadata": {},
   "source": [
    "## ADVANCED USE OF RNN MODELS"
   ]
  },
  {
   "cell_type": "code",
   "execution_count": 1,
   "metadata": {},
   "outputs": [
    {
     "name": "stderr",
     "output_type": "stream",
     "text": [
      "Using TensorFlow backend.\n"
     ]
    }
   ],
   "source": [
    "#imports\n",
    "\n",
    "# general imports\n",
    "from IPython.display import display, Markdown #just to display markdown\n",
    "import numpy as np  #for vector operation\n",
    "import string   # provides strings variations for character embedding\n",
    "import os\n",
    "\n",
    "# keras imports\n",
    "from keras.models import Sequential\n",
    "from keras import layers\n",
    "from keras.optimizers import RMSprop\n",
    "\n",
    "\n",
    "# visualiaztion imports\n",
    "%matplotlib inline\n",
    "import matplotlib.pyplot as plt"
   ]
  },
  {
   "cell_type": "code",
   "execution_count": 2,
   "metadata": {},
   "outputs": [
    {
     "data": {
      "text/markdown": [
       "## TEMPERATURE FORECASTING PROBLEM"
      ],
      "text/plain": [
       "<IPython.core.display.Markdown object>"
      ]
     },
     "metadata": {},
     "output_type": "display_data"
    },
    {
     "data": {
      "text/markdown": [
       "### PROBLEM STATEMENT"
      ],
      "text/plain": [
       "<IPython.core.display.Markdown object>"
      ]
     },
     "metadata": {},
     "output_type": "display_data"
    },
    {
     "name": "stdout",
     "output_type": "stream",
     "text": [
      "\n",
      "Given data going as far back as lookback timesteps (a timestep is 10 minutes) and \n",
      "sampled every steps timesteps, can we predict the temperature in delay timesteps?\n",
      "\n",
      "We will use the following parameter values:\n",
      "\n",
      "lookback = 1440, i.e. our observations will go back 10 days.\n",
      "steps = 6, i.e. our observations will be sampled at one data point per hour. \n",
      "delay = 144, i.e. our targets will be 24 hour in the future.\n",
      "\n",
      "\n"
     ]
    },
    {
     "data": {
      "text/markdown": [
       "### TRAINING DATA "
      ],
      "text/plain": [
       "<IPython.core.display.Markdown object>"
      ]
     },
     "metadata": {},
     "output_type": "display_data"
    },
    {
     "data": {
      "text/markdown": [
       "### Data summary \n"
      ],
      "text/plain": [
       "<IPython.core.display.Markdown object>"
      ]
     },
     "metadata": {},
     "output_type": "display_data"
    },
    {
     "name": "stdout",
     "output_type": "stream",
     "text": [
      "\n",
      "Data contains 15 columns\n",
      "\n",
      "['\"Date Time\"', '\"p (mbar)\"', '\"T (degC)\"', '\"Tpot (K)\"', '\"Tdew (degC)\"', '\"rh (%)\"', '\"VPmax (mbar)\"', '\"VPact (mbar)\"', '\"VPdef (mbar)\"', '\"sh (g/kg)\"', '\"H2OC (mmol/mol)\"', '\"rho (g/m**3)\"', '\"wv (m/s)\"', '\"max. wv (m/s)\"', '\"wd (deg)\"']\n",
      "\n",
      "Data has 420551 samples for training and testing\n",
      "\n",
      "3 sample data points\n",
      "['01.01.2009 00:10:00,996.52,-8.02,265.40,-8.90,93.30,3.33,3.11,0.22,1.94,3.12,1307.75,1.03,1.75,152.30', '01.01.2009 00:20:00,996.57,-8.41,265.01,-9.28,93.40,3.23,3.02,0.21,1.89,3.03,1309.80,0.72,1.50,136.10', '01.01.2009 00:30:00,996.53,-8.51,264.91,-9.31,93.90,3.21,3.01,0.20,1.88,3.02,1310.24,0.19,0.63,171.60']\n",
      "\n",
      "converting data to numpy array(omiting first column date & time)\n",
      "\n",
      "[[ 9.96520e+02 -8.02000e+00  2.65400e+02 -8.90000e+00  9.33000e+01\n",
      "   3.33000e+00  3.11000e+00  2.20000e-01  1.94000e+00  3.12000e+00\n",
      "   1.30775e+03  1.03000e+00  1.75000e+00  1.52300e+02]\n",
      " [ 9.96570e+02 -8.41000e+00  2.65010e+02 -9.28000e+00  9.34000e+01\n",
      "   3.23000e+00  3.02000e+00  2.10000e-01  1.89000e+00  3.03000e+00\n",
      "   1.30980e+03  7.20000e-01  1.50000e+00  1.36100e+02]\n",
      " [ 9.96530e+02 -8.51000e+00  2.64910e+02 -9.31000e+00  9.39000e+01\n",
      "   3.21000e+00  3.01000e+00  2.00000e-01  1.88000e+00  3.02000e+00\n",
      "   1.31024e+03  1.90000e-01  6.30000e-01  1.71600e+02]]\n",
      "\n",
      "data shape: rows 420551, columns 14\n",
      "\n"
     ]
    }
   ],
   "source": [
    "display(Markdown(\"## TEMPERATURE FORECASTING PROBLEM\"))\n",
    "\n",
    "display(Markdown(\"### PROBLEM STATEMENT\"))\n",
    "print (\"\"\"\n",
    "Given data going as far back as lookback timesteps (a timestep is 10 minutes) and \n",
    "sampled every steps timesteps, can we predict the temperature in delay timesteps?\n",
    "\n",
    "We will use the following parameter values:\n",
    "\n",
    "lookback = 1440, i.e. our observations will go back 10 days.\n",
    "steps = 6, i.e. our observations will be sampled at one data point per hour. \n",
    "delay = 144, i.e. our targets will be 24 hour in the future.\n",
    "\n",
    "\"\"\")\n",
    "\n",
    "display(Markdown(\"### TRAINING DATA \"))\n",
    "\n",
    "data_dir = './jena_climate'\n",
    "fname = os.path.join(data_dir, 'jena_climate_2009_2016.csv') # path to the data\n",
    "\n",
    "# reading the data file\n",
    "f = open(fname)\n",
    "data = f.read()\n",
    "f.close()\n",
    "\n",
    "# reading the headers and the content\n",
    "lines = data.split('\\n')\n",
    "header = lines[0].split(',')\n",
    "lines = lines[1:]\n",
    "\n",
    "display(Markdown(\"### Data summary \\n\"))\n",
    "print (\"\\nData contains {} columns\\n\".format(len(header)))\n",
    "print(header)\n",
    "\n",
    "print(\"\\nData has {} samples for training and testing\\n\".format(len(lines)))\n",
    "print(\"3 sample data points\")\n",
    "print(lines[:3])\n",
    "\n",
    "#data pre-processing\n",
    "float_data = np.zeros((len(lines), len(header) - 1))\n",
    "for i, line in enumerate(lines):\n",
    "    values = [float(x) for x in line.split(',')[1:]] # omiting first column date & time\n",
    "    float_data[i, :] = values\n",
    "\n",
    "print(\"\\nconverting data to numpy array(omiting first column date & time)\\n\")\n",
    "print (float_data[:3])\n",
    "print(\"\\ndata shape: rows {}, columns {}\\n\".format(float_data.shape[0],float_data.shape[1]))"
   ]
  },
  {
   "cell_type": "code",
   "execution_count": 3,
   "metadata": {},
   "outputs": [
    {
     "data": {
      "text/markdown": [
       "## PLOTTING TEMP VS TIME"
      ],
      "text/plain": [
       "<IPython.core.display.Markdown object>"
      ]
     },
     "metadata": {},
     "output_type": "display_data"
    },
    {
     "data": {
      "text/markdown": [
       "### temperature plot across years & 10 days"
      ],
      "text/plain": [
       "<IPython.core.display.Markdown object>"
      ]
     },
     "metadata": {},
     "output_type": "display_data"
    },
    {
     "data": {
      "image/png": "[encoded data removed]",
      "text/plain": [
       "<Figure size 432x288 with 1 Axes>"
      ]
     },
     "metadata": {
      "needs_background": "light"
     },
     "output_type": "display_data"
    },
    {
     "data": {
      "image/png": "[encoded data removed]",
      "text/plain": [
       "<Figure size 432x288 with 1 Axes>"
      ]
     },
     "metadata": {
      "needs_background": "light"
     },
     "output_type": "display_data"
    }
   ],
   "source": [
    "display(Markdown(\"## PLOTTING TEMP VS TIME\"))\n",
    "\n",
    "temp = float_data[:, 1]  # temperature (in degrees Celsius)\n",
    "\n",
    "display(Markdown(\"### temperature plot across years & 10 days\"))\n",
    "\n",
    "# plotting temperature across years\n",
    "plt.plot(range(len(temp)), temp)\n",
    "plt.title('Plotting temperature seasonality over year')\n",
    "\n",
    "plt.figure()\n",
    "\n",
    "#plotting temperature for first 10 days collected every 10 mins a day(144 data points/day)\n",
    "plt.plot(range(1440), temp[:1440])\n",
    "plt.title('Plotting temperature change across 10 days')\n",
    "plt.show()"
   ]
  },
  {
   "cell_type": "code",
   "execution_count": 4,
   "metadata": {},
   "outputs": [
    {
     "data": {
      "text/markdown": [
       "## DATA PREPARATION"
      ],
      "text/plain": [
       "<IPython.core.display.Markdown object>"
      ]
     },
     "metadata": {},
     "output_type": "display_data"
    },
    {
     "data": {
      "text/markdown": [
       "### data normalization"
      ],
      "text/plain": [
       "<IPython.core.display.Markdown object>"
      ]
     },
     "metadata": {},
     "output_type": "display_data"
    },
    {
     "name": "stdout",
     "output_type": "stream",
     "text": [
      "\n",
      " data before normalization\n",
      "\n",
      "[[ 9.96520e+02 -8.02000e+00  2.65400e+02 -8.90000e+00  9.33000e+01\n",
      "   3.33000e+00  3.11000e+00  2.20000e-01  1.94000e+00  3.12000e+00\n",
      "   1.30775e+03  1.03000e+00  1.75000e+00  1.52300e+02]\n",
      " [ 9.96570e+02 -8.41000e+00  2.65010e+02 -9.28000e+00  9.34000e+01\n",
      "   3.23000e+00  3.02000e+00  2.10000e-01  1.89000e+00  3.03000e+00\n",
      "   1.30980e+03  7.20000e-01  1.50000e+00  1.36100e+02]\n",
      " [ 9.96530e+02 -8.51000e+00  2.64910e+02 -9.31000e+00  9.39000e+01\n",
      "   3.21000e+00  3.01000e+00  2.00000e-01  1.88000e+00  3.02000e+00\n",
      "   1.31024e+03  1.90000e-01  6.30000e-01  1.71600e+02]]\n",
      "\n",
      " data after normalization\n",
      "\n",
      "[[ 0.90014748 -1.93135845 -1.98211036 -1.86280029  1.07285236 -1.30742164\n",
      "  -1.47375773 -0.79868641 -1.4762674  -1.47815522  2.12375056 -0.72950452\n",
      "  -0.78067973 -0.27613603]\n",
      " [ 0.9060434  -1.97541381 -2.02567    -1.91582958  1.07883061 -1.32042698\n",
      "  -1.4951961  -0.80075238 -1.49502455 -1.49932141  2.17199852 -0.93124017\n",
      "  -0.88794488 -0.46317443]\n",
      " [ 0.90132666 -1.98671006 -2.03683914 -1.92001611  1.10872183 -1.32302805\n",
      "  -1.49757814 -0.80281834 -1.49877598 -1.50167321  2.18235418 -1.27614304\n",
      "  -1.26122763 -0.05330633]]\n",
      "\n",
      " data shape: rows 420551, columns 14\n",
      "\n"
     ]
    }
   ],
   "source": [
    "display(Markdown(\"## DATA PREPARATION\"))\n",
    "\n",
    "# pre-processing\n",
    "display(Markdown(\"### data normalization\"))\n",
    "\n",
    "print(\"\\n data before normalization\\n\")\n",
    "print (float_data[:3])\n",
    "\n",
    "float_data_ = float_data\n",
    "mean = float_data_[:200000].mean(axis=0) # calcaulating mean of first 200K samples for each columns\n",
    "float_data_ -= mean  # substracting the mean from each element in the column\n",
    "std = float_data_[:200000].std(axis=0) # calcaulating standard deviation of first 200K samples  for each columns\n",
    "float_data_ /= std  # normalizing each element in the column with the standard deviation of the columns\n",
    "\n",
    "print(\"\\n data after normalization\\n\")\n",
    "print (float_data[:3])\n",
    "print(\"\\n data shape: rows {}, columns {}\\n\".format(float_data.shape[0],float_data.shape[1]))"
   ]
  },
  {
   "cell_type": "code",
   "execution_count": null,
   "metadata": {},
   "outputs": [],
   "source": [
    "#creating a custom generator (prepares training, validation and test data as per problem statement)\n",
    "#Now here is the data generator that we will use. It yields a tuple (samples, targets) \n",
    "#where samples is one batch of input data and targets is the corresponding array of target temperatures\n",
    "\n",
    "\"\"\"\n",
    "data: The original array of floating point data, which we just normalized in the code snippet above.\n",
    "\n",
    "lookback(measured in timesteps) : How many timesteps back should our input data go. \n",
    "\n",
    "delay(measured in timesteps) : How many timesteps in the future should our target be. \n",
    "\n",
    "min_index and max_index: Indices in the data array that delimit which timesteps to draw from. \n",
    "This is useful for keeping a segment of the data for validation and another one for testing.\n",
    "\n",
    "shuffle: Whether to shuffle our samples or draw them in chronological order. \n",
    "\n",
    "batch_size: The number of samples per batch.\n",
    "\n",
    "step(measured in timesteps) : The period, in timesteps, at which we sample data. \n",
    "We will set it 6 in order to draw one data point every hour \n",
    "\"\"\"\n",
    "\n",
    "def generator(data, lookback, delay, min_index, max_index,\n",
    "              shuffle=False, batch_size=128, step=6):\n",
    "    if max_index is None:\n",
    "        max_index = len(data) - delay - 1\n",
    "    i = min_index + lookback\n",
    "    while 1:\n",
    "        if shuffle:\n",
    "            rows = np.random.randint(\n",
    "                min_index + lookback, max_index, size=batch_size)\n",
    "        else:\n",
    "\n",
    "            if i + batch_size >= max_index:\n",
    "                i = min_index + lookback\n",
    "            rows = np.arange(i, min(i + batch_size, max_index))\n",
    "            i += len(rows)\n",
    "\n",
    "        samples = np.zeros((len(rows),\n",
    "                           lookback // step,\n",
    "                           data.shape[-1]))\n",
    "        targets = np.zeros((len(rows),))\n",
    "        for j, row in enumerate(rows):\n",
    "            indices = range(rows[j] - lookback, rows[j], step)\n",
    "            samples[j] = data[indices]\n",
    "            targets[j] = data[rows[j] + delay][1]\n",
    "            \n",
    "        yield samples, targets"
   ]
  },
  {
   "cell_type": "code",
   "execution_count": null,
   "metadata": {},
   "outputs": [
    {
     "data": {
      "text/markdown": [
       "## lets underatand this data preparation w.r.t problem statement"
      ],
      "text/plain": [
       "<IPython.core.display.Markdown object>"
      ]
     },
     "metadata": {},
     "output_type": "display_data"
    },
    {
     "name": "stdout",
     "output_type": "stream",
     "text": [
      "\n",
      "Problem statement:\n",
      "Given data going as far back as lookback timesteps (a timestep is 10 minutes) and \n",
      "sampled every steps timesteps, can we predict the temperature in delay timesteps?\n",
      "\n",
      "We will use the following parameter values:\n",
      "\n",
      "lookback = 1440, i.e. our observations will go back 10 days.\n",
      "steps = 6, i.e. our observations will be sampled at one data point per hour. \n",
      "delay = 144, i.e. our targets will be 24 hour in the future.\n",
      "\n",
      "Variable understanding:\n",
      "lookback = 1440 timesteps (1 timesteps == 10 minutes)\n",
      "Therefore lookback = 1440 * 10 minutes\n",
      "i.e lookback = (1440 * 10)/60 hours\n",
      "i.e lookback = (1440 * 10)/(60*24) days = 10 days\n",
      "\n",
      "\n",
      "similarly,\n",
      "\n",
      "step = 6 timestamp = 6 * 10 minutes = 1 hour  \n",
      "delay = 144 timestamps = (144*10)/(60*24) = 1 day\n",
      "\n",
      "\n",
      "Note: to understand the concept of yield and generator.\n",
      "visit: https://stackoverflow.com/questions/231767/what-does-the-yield-keyword-do\n",
      "\n",
      "Understanding first batch\n",
      "\n",
      "First batch data sample shape is (128, 240, 14)\n",
      "128 : batch-size\n",
      "240 : number of sample collected (in lookback timestamp's 10 days). \n",
      "Note: Not all 1440 sample colleted, only (timestamps in lookback)/(steps) = 1440/6 = 240 \n",
      "14  : number of columns in data \n"
     ]
    },
    {
     "data": {
      "text/markdown": [
       "### 1 data sample"
      ],
      "text/plain": [
       "<IPython.core.display.Markdown object>"
      ]
     },
     "metadata": {},
     "output_type": "display_data"
    },
    {
     "name": "stdout",
     "output_type": "stream",
     "text": [
      "[[-0.30615873  0.53800074  0.55775178 ... -1.23058983 -1.26122763\n",
      "   0.91074962]\n",
      " [-0.32030895  0.41939016  0.44047582 ... -0.98330098 -1.04669731\n",
      "   0.52743636]\n",
      " [-0.34153428  0.22057625  0.24501589 ... -0.22841922 -0.56614942\n",
      "   0.52743636]\n",
      " ...\n",
      " [-1.33087045  1.30049729  1.39767101 ...  0.51995494  0.93556276\n",
      "  -1.00466215]\n",
      " [-1.34973741  0.97290618  1.07264907 ...  1.80195242  1.74219673\n",
      "  -1.54834352]\n",
      " [-1.30492838  0.83170311  0.92856718 ... -0.17635841  0.50650214\n",
      "  -1.49488749]]\n",
      "\n",
      "First batch target shape is (128,)\n",
      "128 : '128' temperature values for each batch.\n",
      "Note: temperature values 1 day ahead in furture(as per delay = 1 day) are collected \n"
     ]
    },
    {
     "data": {
      "text/markdown": [
       "### 5 target sample"
      ],
      "text/plain": [
       "<IPython.core.display.Markdown object>"
      ]
     },
     "metadata": {},
     "output_type": "display_data"
    },
    {
     "name": "stdout",
     "output_type": "stream",
     "text": [
      "[-0.17931083 -0.33858789  0.70292592  0.45214928]\n"
     ]
    }
   ],
   "source": [
    "display(Markdown(\"## lets underatand this data preparation w.r.t problem statement\"))\n",
    "\n",
    "lookback = 1440\n",
    "step = 6\n",
    "delay = 144\n",
    "batch_size = 128\n",
    "\n",
    "# sample generator for understanding the data preparation\n",
    "undertansing_gen = generator(float_data,\n",
    "                      lookback=lookback,\n",
    "                      delay=delay,\n",
    "                      min_index=0,\n",
    "                      max_index=200000,\n",
    "                      shuffle=True,\n",
    "                      step=step,\n",
    "                      batch_size=batch_size)\n",
    "\n",
    "print (\"\"\"\n",
    "Problem statement:\n",
    "Given data going as far back as lookback timesteps (a timestep is 10 minutes) and \n",
    "sampled every steps timesteps, can we predict the temperature in delay timesteps?\n",
    "\n",
    "We will use the following parameter values:\n",
    "\n",
    "lookback = 1440, i.e. our observations will go back 10 days.\n",
    "steps = 6, i.e. our observations will be sampled at one data point per hour. \n",
    "delay = 144, i.e. our targets will be 24 hour in the future.\n",
    "\n",
    "Variable understanding:\n",
    "lookback = 1440 timesteps (1 timesteps == 10 minutes)\n",
    "Therefore lookback = 1440 * 10 minutes\n",
    "i.e lookback = (1440 * 10)/60 hours\n",
    "i.e lookback = (1440 * 10)/(60*24) days = 10 days\n",
    "\n",
    "\n",
    "similarly,\n",
    "\n",
    "step = 6 timestamp = 6 * 10 minutes = 1 hour  \n",
    "delay = 144 timestamps = (144*10)/(60*24) = 1 day\n",
    "\n",
    "\"\"\")\n",
    "\n",
    "print (\"\"\"Note: to understand the concept of yield and generator.\n",
    "visit: https://stackoverflow.com/questions/231767/what-does-the-yield-keyword-do\n",
    "\"\"\")\n",
    "\n",
    "print (\"\"\"Understanding first batch\\n\"\"\")\n",
    "for value in undertansing_gen:\n",
    "    first_batch_samples, first_batch_target = value\n",
    "    break\n",
    "\n",
    "print (\"First batch data sample shape is {}\".format(first_batch_samples.shape))\n",
    "print (\"\"\"128 : batch-size\n",
    "240 : number of sample collected (in lookback timestamp's 10 days). \n",
    "Note: Not all 1440 sample colleted, only (timestamps in lookback)/(steps) = 1440/6 = 240 \n",
    "14  : number of columns in data \"\"\")\n",
    "\n",
    "display(Markdown(\"### 1 data sample\"))\n",
    "print (first_batch_samples[0])\n",
    "\n",
    "print (\"\\nFirst batch target shape is {}\".format(first_batch_target.shape))\n",
    "print (\"\"\"128 : '128' temperature values for each batch.\n",
    "Note: temperature values 1 day ahead in furture(as per delay = 1 day) are collected \"\"\")\n",
    "display(Markdown(\"### 5 target sample\"))\n",
    "print (first_batch_target[:4])"
   ]
  },
  {
   "cell_type": "code",
   "execution_count": null,
   "metadata": {},
   "outputs": [
    {
     "data": {
      "text/markdown": [
       "### preparing the training, validation and test generators"
      ],
      "text/plain": [
       "<IPython.core.display.Markdown object>"
      ]
     },
     "metadata": {},
     "output_type": "display_data"
    },
    {
     "name": "stdout",
     "output_type": "stream",
     "text": [
      "\n",
      "the training generator looks at the first 200,000 timesteps, \n",
      "the validation generator looks at the following 100,000, & \n",
      "the test generator looks at the remainder\n",
      "\n",
      "Number of batches in training: 1551\n",
      "Number of batches in validation: 769\n",
      "Number of batches in testing: 930\n"
     ]
    }
   ],
   "source": [
    "display(Markdown(\"### preparing the training, validation and test generators\"))\n",
    "\n",
    "print (\"\"\"\n",
    "the training generator looks at the first 200,000 timesteps, \n",
    "the validation generator looks at the following 100,000, & \n",
    "the test generator looks at the remainder\n",
    "\"\"\")\n",
    "\n",
    "lookback = 1440\n",
    "step = 6\n",
    "delay = 144\n",
    "batch_size = 128\n",
    "\n",
    "#training data preparation\n",
    "train_gen = generator(float_data,\n",
    "                      lookback=lookback,\n",
    "                      delay=delay,\n",
    "                      min_index=0,\n",
    "                      max_index=200000,\n",
    "                      shuffle=True,\n",
    "                      step=step,\n",
    "                      batch_size=batch_size)\n",
    "\n",
    "val_gen = generator(float_data,\n",
    "                    lookback=lookback,\n",
    "                    delay=delay,\n",
    "                    min_index=200001,\n",
    "                    max_index=300000,\n",
    "                    step=step,\n",
    "                    batch_size=batch_size)\n",
    "\n",
    "test_gen = generator(float_data,\n",
    "                     lookback=lookback,\n",
    "                     delay=delay,\n",
    "                     min_index=300001,\n",
    "                     max_index=None,\n",
    "                     step=step,\n",
    "                     batch_size=batch_size)\n",
    "\n",
    "# This is how many batches to draw from `val_gen`\n",
    "# in order to see the whole validation set:\n",
    "val_batches = (300000 - 200001 - lookback) // batch_size\n",
    "\n",
    "# This is how many steps to draw from `test_gen`\n",
    "# in order to see the whole test set:\n",
    "test_batches = (len(float_data) - 300001 - lookback) // batch_size\n",
    "\n",
    "print (\"Number of batches in training: {}\".format((200000-lookback)//batch_size))\n",
    "print (\"Number of batches in validation: {}\".format(val_batches))\n",
    "print (\"Number of batches in testing: {}\".format(test_batches))"
   ]
  },
  {
   "cell_type": "code",
   "execution_count": null,
   "metadata": {},
   "outputs": [
    {
     "data": {
      "text/markdown": [
       "### creating non-machine learning baseline"
      ],
      "text/plain": [
       "<IPython.core.display.Markdown object>"
      ]
     },
     "metadata": {},
     "output_type": "display_data"
    },
    {
     "name": "stdout",
     "output_type": "stream",
     "text": [
      "the temperature timeseries can safely be assumed to be continuous \n",
      "(the temperatures tomorrow are likely to be close to the temperatures today) \n",
      "as well as periodical with a daily period. Thus a common sense approach would be to always \n",
      "predict that the temperature 24 hours from now will be equal to the temperature right now\n",
      "\n",
      "baseline yields a MAE of 0.29\n",
      "\n",
      "Since our temperature data has been normalized to be centered on 0 \n",
      "and have a standard deviation of one, this number is not immediately interpretable. \n",
      "It translates to an average absolute error of 0.29 * temperature_std degrees Celsius, i.e. 2.57°C\n",
      "\n",
      "temperature deviation in baseline 2.57°C\n"
     ]
    }
   ],
   "source": [
    "display(Markdown(\"### creating non-machine learning baseline\"))\n",
    "\n",
    "# implementation of baseline model\n",
    "def evaluate_naive_method():\n",
    "    batch_maes = []\n",
    "    for step in range(val_batches):\n",
    "        samples, targets = next(val_gen)\n",
    "        preds = samples[:, -1, 1]\n",
    "        mae = np.mean(np.abs(preds - targets))\n",
    "        batch_maes.append(mae)\n",
    "    return(np.mean(batch_maes))\n",
    "    \n",
    "print (\"\"\"the temperature timeseries can safely be assumed to be continuous \n",
    "(the temperatures tomorrow are likely to be close to the temperatures today) \n",
    "as well as periodical with a daily period. Thus a common sense approach would be to always \n",
    "predict that the temperature 24 hours from now will be equal to the temperature right now\n",
    "\"\"\")\n",
    "\n",
    "mae = evaluate_naive_method()\n",
    "print (\"baseline yields a MAE of %.2f\\n\"%(mae))\n",
    "\n",
    "print (\"\"\"Since our temperature data has been normalized to be centered on 0 \n",
    "and have a standard deviation of one, this number is not immediately interpretable. \n",
    "It translates to an average absolute error of 0.29 * temperature_std degrees Celsius, i.e. 2.57°C\n",
    "\"\"\")\n",
    "\n",
    "celsius_mae = 0.29 * std[1]\n",
    "print (\"temperature deviation in baseline %.2f°C\"%(celsius_mae))"
   ]
  },
  {
   "cell_type": "code",
   "execution_count": null,
   "metadata": {},
   "outputs": [],
   "source": [
    "def plot_model_training_history(history,accuracy = True):\n",
    "    \n",
    "    #collecting all post-training values \n",
    "    if accuracy:\n",
    "        acc = history.history['acc']\n",
    "        val_acc = history.history['val_acc']\n",
    "    \n",
    "    loss = history.history['loss']\n",
    "    val_loss = history.history['val_loss']\n",
    "    epochs = range(1, len(loss) + 1)\n",
    "    \n",
    "    # ploting losses\n",
    "    plt.plot(epochs, loss, 'bo', label='Training loss')\n",
    "    plt.plot(epochs, val_loss, 'b', label='Validation loss')\n",
    "    plt.title('Training and validation loss')\n",
    "    plt.legend()\n",
    "    plt.show()\n",
    "    \n",
    "    plt.figure()\n",
    "    \n",
    "    if accuracy:\n",
    "        # ploting accuracies\n",
    "        plt.plot(epochs, acc, 'bo', label='Training acc')\n",
    "        plt.plot(epochs, val_acc, 'b', label='Validation acc')\n",
    "        plt.title('Training and validation accuracy')\n",
    "        plt.legend()\n",
    "    return"
   ]
  },
  {
   "cell_type": "code",
   "execution_count": null,
   "metadata": {},
   "outputs": [
    {
     "data": {
      "text/markdown": [
       "### Training and evaluating a densely-connected model using the data generators"
      ],
      "text/plain": [
       "<IPython.core.display.Markdown object>"
      ]
     },
     "metadata": {},
     "output_type": "display_data"
    },
    {
     "name": "stdout",
     "output_type": "stream",
     "text": [
      "starting model training...\n",
      "\n",
      "\n",
      "_________________________________________________________________\n",
      "Layer (type)                 Output Shape              Param #   \n",
      "=================================================================\n",
      "flatten_1 (Flatten)          (None, 3360)              0         \n",
      "_________________________________________________________________\n",
      "dense_1 (Dense)              (None, 32)                107552    \n",
      "_________________________________________________________________\n",
      "dense_2 (Dense)              (None, 1)                 33        \n",
      "=================================================================\n",
      "Total params: 107,585\n",
      "Trainable params: 107,585\n",
      "Non-trainable params: 0\n",
      "_________________________________________________________________\n",
      "Epoch 1/20\n",
      "500/500 [==============================] - 9s 18ms/step - loss: 1.4931 - val_loss: 0.8024\n",
      "Epoch 2/20\n",
      "500/500 [==============================] - 9s 18ms/step - loss: 0.4354 - val_loss: 0.3186\n",
      "Epoch 3/20\n",
      "500/500 [==============================] - 9s 17ms/step - loss: 0.2897 - val_loss: 0.3116\n",
      "Epoch 4/20\n",
      "500/500 [==============================] - 9s 18ms/step - loss: 0.2680 - val_loss: 0.3688\n",
      "Epoch 5/20\n",
      "500/500 [==============================] - 9s 18ms/step - loss: 0.2541 - val_loss: 0.3171\n",
      "Epoch 6/20\n",
      "500/500 [==============================] - 9s 17ms/step - loss: 0.2462 - val_loss: 0.3099\n",
      "Epoch 7/20\n",
      "500/500 [==============================] - 9s 17ms/step - loss: 0.2385 - val_loss: 0.3314\n",
      "Epoch 8/20\n",
      "500/500 [==============================] - 9s 17ms/step - loss: 0.2329 - val_loss: 0.3320\n",
      "Epoch 9/20\n",
      "500/500 [==============================] - 9s 17ms/step - loss: 0.2291 - val_loss: 0.3476\n",
      "Epoch 10/20\n",
      "500/500 [==============================] - 9s 17ms/step - loss: 0.2243 - val_loss: 0.3254\n",
      "Epoch 11/20\n",
      "500/500 [==============================] - 9s 17ms/step - loss: 0.2213 - val_loss: 0.3291\n",
      "Epoch 12/20\n",
      "500/500 [==============================] - 9s 17ms/step - loss: 0.2180 - val_loss: 0.3465\n",
      "Epoch 13/20\n",
      "500/500 [==============================] - 9s 17ms/step - loss: 0.2136 - val_loss: 0.3528\n",
      "Epoch 14/20\n",
      "500/500 [==============================] - 8s 17ms/step - loss: 0.2122 - val_loss: 0.3436\n",
      "Epoch 15/20\n",
      "500/500 [==============================] - 8s 17ms/step - loss: 0.2091 - val_loss: 0.3541\n",
      "Epoch 16/20\n",
      "500/500 [==============================] - 8s 17ms/step - loss: 0.2069 - val_loss: 0.3527\n",
      "Epoch 17/20\n",
      "500/500 [==============================] - 8s 16ms/step - loss: 0.2065 - val_loss: 0.3577\n",
      "Epoch 18/20\n",
      "500/500 [==============================] - 9s 17ms/step - loss: 0.2028 - val_loss: 0.3424\n",
      "Epoch 19/20\n",
      "500/500 [==============================] - 9s 17ms/step - loss: 0.2010 - val_loss: 0.3388\n",
      "Epoch 20/20\n",
      "500/500 [==============================] - 8s 17ms/step - loss: 0.1993 - val_loss: 0.3603\n"
     ]
    },
    {
     "data": {
      "text/markdown": [
       "### result"
      ],
      "text/plain": [
       "<IPython.core.display.Markdown object>"
      ]
     },
     "metadata": {},
     "output_type": "display_data"
    },
    {
     "data": {
      "image/png": "[encoded data removed]",
      "text/plain": [
       "<Figure size 432x288 with 1 Axes>"
      ]
     },
     "metadata": {
      "needs_background": "light"
     },
     "output_type": "display_data"
    },
    {
     "data": {
      "text/plain": [
       "<Figure size 432x288 with 0 Axes>"
      ]
     },
     "metadata": {},
     "output_type": "display_data"
    }
   ],
   "source": [
    "display(Markdown(\"### Training and evaluating a densely-connected model using the data generators\"))\n",
    "\n",
    "print(\"starting model training...\")\n",
    "# model architecture and training\n",
    "model = Sequential()\n",
    "model.add(layers.Flatten(input_shape=(lookback // step, float_data.shape[-1])))\n",
    "model.add(layers.Dense(32, activation='relu'))\n",
    "model.add(layers.Dense(1))\n",
    "model.compile(optimizer=RMSprop(), loss='mae')\n",
    "print (\"\\n\")\n",
    "model.summary()\n",
    "history = model.fit_generator(train_gen,\n",
    "                              steps_per_epoch=500,\n",
    "                              epochs=20,\n",
    "                              validation_data=val_gen,\n",
    "                              validation_steps=val_batches)\n",
    "\n",
    "# ploting model training results\n",
    "display(Markdown(\"### result\"))\n",
    "plot_model_training_history(history,accuracy=False)"
   ]
  },
  {
   "cell_type": "code",
   "execution_count": null,
   "metadata": {},
   "outputs": [
    {
     "data": {
      "text/markdown": [
       "### Training and evaluating a GRU-based model"
      ],
      "text/plain": [
       "<IPython.core.display.Markdown object>"
      ]
     },
     "metadata": {},
     "output_type": "display_data"
    },
    {
     "name": "stdout",
     "output_type": "stream",
     "text": [
      "starting model training...\n",
      "_________________________________________________________________\n",
      "Layer (type)                 Output Shape              Param #   \n",
      "=================================================================\n",
      "gru_1 (GRU)                  (None, 32)                4512      \n",
      "_________________________________________________________________\n",
      "dense_3 (Dense)              (None, 1)                 33        \n",
      "=================================================================\n",
      "Total params: 4,545\n",
      "Trainable params: 4,545\n",
      "Non-trainable params: 0\n",
      "_________________________________________________________________\n",
      "\n",
      "\n",
      "Epoch 1/20\n",
      "500/500 [==============================] - 436s 872ms/step - loss: 0.3378 - val_loss: 0.2766\n",
      "Epoch 2/20\n",
      "500/500 [==============================] - 430s 861ms/step - loss: 0.3155 - val_loss: 0.2736\n",
      "Epoch 3/20\n",
      "500/500 [==============================] - 426s 852ms/step - loss: 0.3081 - val_loss: 0.2699\n",
      "Epoch 4/20\n",
      "500/500 [==============================] - 424s 849ms/step - loss: 0.3022 - val_loss: 0.2658\n",
      "Epoch 5/20\n",
      "500/500 [==============================] - 424s 849ms/step - loss: 0.3007 - val_loss: 0.2729\n",
      "Epoch 6/20\n",
      "500/500 [==============================] - 425s 850ms/step - loss: 0.2959 - val_loss: 0.2666\n",
      "Epoch 7/20\n",
      "500/500 [==============================] - 426s 851ms/step - loss: 0.2919 - val_loss: 0.2699\n",
      "Epoch 8/20\n",
      "500/500 [==============================] - 425s 851ms/step - loss: 0.2937 - val_loss: 0.2663\n",
      "Epoch 9/20\n",
      "500/500 [==============================] - 425s 851ms/step - loss: 0.2913 - val_loss: 0.2702\n",
      "Epoch 10/20\n",
      "500/500 [==============================] - 425s 851ms/step - loss: 0.2891 - val_loss: 0.2696\n",
      "Epoch 11/20\n",
      "499/500 [============================>.] - ETA: 0s - loss: 0.2889"
     ]
    }
   ],
   "source": [
    "display(Markdown(\"### Training and evaluating a GRU-based model\"))\n",
    "\n",
    "print(\"starting model training...\")\n",
    "# model architecture and training\n",
    "model = Sequential()\n",
    "model.add(layers.GRU(32,dropout=0.2,\n",
    "                     recurrent_dropout=0.2,\n",
    "                     input_shape=(None, float_data.shape[-1])))\n",
    "model.add(layers.Dense(1))\n",
    "model.compile(optimizer=RMSprop(), loss='mae')\n",
    "model.summary()\n",
    "print(\"\\n\")\n",
    "history = model.fit_generator(train_gen,\n",
    "                              steps_per_epoch=500,\n",
    "                              epochs=20,\n",
    "                              validation_data=val_gen,\n",
    "                              validation_steps=val_batches)\n",
    "\n",
    "# ploting model training results\n",
    "display(Markdown(\"### result\"))\n",
    "plot_model_training_history(history,accuracy=False)"
   ]
  },
  {
   "cell_type": "code",
   "execution_count": null,
   "metadata": {},
   "outputs": [],
   "source": [
    "display(Markdown(\"### Stacking recurrent layers\"))\n",
    "\n",
    "print(\"starting model training...\")\n",
    "# model architecture and training\n",
    "model = Sequential()\n",
    "model.add(layers.GRU(32,\n",
    "                     dropout=0.1,\n",
    "                     recurrent_dropout=0.5,\n",
    "                     return_sequences=True,\n",
    "                     input_shape=(None, float_data.shape[-1])))\n",
    "model.add(layers.GRU(64, activation='relu',\n",
    "                     dropout=0.1,\n",
    "                     recurrent_dropout=0.5))\n",
    "model.add(layers.Dense(1))\n",
    "model.summary()\n",
    "print(\"\\n\")\n",
    "model.compile(optimizer=RMSprop(), loss='mae')\n",
    "history = model.fit_generator(train_gen,\n",
    "                              steps_per_epoch=500,\n",
    "                              epochs=40,\n",
    "                              validation_data=val_gen,\n",
    "                              validation_steps=val_batches)\n",
    "\n",
    "# ploting model training results\n",
    "display(Markdown(\"### result\"))\n",
    "plot_model_training_history(history,accuracy=False)"
   ]
  },
  {
   "cell_type": "code",
   "execution_count": null,
   "metadata": {},
   "outputs": [],
   "source": []
  }
 ],
 "metadata": {
  "kernelspec": {
   "display_name": "Python 3",
   "language": "python",
   "name": "python3"
  },
  "language_info": {
   "codemirror_mode": {
    "name": "ipython",
    "version": 3
   },
   "file_extension": ".py",
   "mimetype": "text/x-python",
   "name": "python",
   "nbconvert_exporter": "python",
   "pygments_lexer": "ipython3",
   "version": "3.6.7"
  }
 },
 "nbformat": 4,
 "nbformat_minor": 2
}
