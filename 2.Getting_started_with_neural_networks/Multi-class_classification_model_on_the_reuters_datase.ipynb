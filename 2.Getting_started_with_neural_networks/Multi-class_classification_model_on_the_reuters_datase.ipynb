{
 "cells": [
  {
   "cell_type": "markdown",
   "metadata": {},
   "source": [
    "# Training a multi-class classification model on the reuters dataset"
   ]
  },
  {
   "cell_type": "code",
   "execution_count": 2,
   "metadata": {},
   "outputs": [],
   "source": [
    "# imports\n",
    "\n",
    "# keras imports\n",
    "from keras import layers\n",
    "from keras import models\n",
    "from keras import optimizers\n",
    "from keras.datasets import reuters\n",
    "from keras.preprocessing import sequence\n",
    "from keras.utils.np_utils import to_categorical\n",
    "\n",
    "\n",
    "# general imports\n",
    "import numpy as np\n",
    "import matplotlib.pyplot as plt\n",
    "from IPython.display import display, Markdown #just to display markdown\n",
    "\n",
    "# utility functions\n",
    "import os\n",
    "import sys\n",
    "%matplotlib inline\n",
    "os.path.dirname(os.path.abspath(\"__file__\"))\n",
    "sys.path.append(os.path.dirname(os.path.dirname(os.path.abspath(\"__file__\"))))\n",
    "from utility.utils import utils\n",
    "utility_obj = utils()"
   ]
  },
  {
   "cell_type": "code",
   "execution_count": 3,
   "metadata": {},
   "outputs": [
    {
     "name": "stdout",
     "output_type": "stream",
     "text": [
      "\n",
      "before data preprocessing\n",
      "input_train shape: (8982,)\n",
      "input_test shape: (2246,) \n",
      "\n",
      "\n",
      "reuters dataset's 1 sample input data\n",
      "\n",
      "[list([1, 2, 2, 8, 43, 10, 447, 5, 25, 207, 270, 5, 3095, 111, 16, 369, 186, 90, 67, 7, 89, 5, 19, 102, 6, 19, 124, 15, 90, 67, 84, 22, 482, 26, 7, 48, 4, 49, 8, 864, 39, 209, 154, 6, 151, 6, 83, 11, 15, 22, 155, 11, 15, 7, 48, 9, 4579, 1005, 504, 6, 258, 6, 272, 11, 15, 22, 134, 44, 11, 15, 16, 8, 197, 1245, 90, 67, 52, 29, 209, 30, 32, 132, 6, 109, 15, 17, 12])]\n",
      "\n",
      "reuters dataset's 2 data lables\n",
      "[3 4]\n",
      "\n",
      " reuters dataset's sample input data after encoding\n",
      "\n",
      "[[0. 1. 1. ... 0. 0. 0.]]\n",
      "\n",
      "reuters dataset's lables after encoding\n",
      "[[0. 1. 1. ... 0. 0. 0.]\n",
      " [0. 1. 1. ... 0. 0. 0.]]\n"
     ]
    }
   ],
   "source": [
    "# Loading the Reuters dataset\n",
    "(train_data, train_labels), (test_data, test_labels) = reuters.load_data(num_words=10000)\n",
    "\n",
    "# Taking a look at the data\n",
    "print (\"\\nbefore data preprocessing\")\n",
    "print('input_train shape:', train_data.shape)\n",
    "print('input_test shape:', test_data.shape, \"\\n\")\n",
    "\n",
    "print(\"\\nreuters dataset's 1 sample input data\\n\")\n",
    "print(train_data[:1]) \n",
    "\n",
    "print(\"\\nreuters dataset's 2 data lables\")\n",
    "print(train_labels[:2])\n",
    "\n",
    "# pre-processing the dataset\n",
    "\n",
    "# sentences pre-processing\n",
    "def vectorize_sequences(sequences, dimension=10000):\n",
    "    results = np.zeros((len(sequences), dimension))\n",
    "    for i, sequence in enumerate(sequences):\n",
    "        results[i, sequence] = 1.\n",
    "    return results\n",
    "# Our vectorized training data\n",
    "x_train = vectorize_sequences(train_data)\n",
    "# Our vectorized test data\n",
    "x_test = vectorize_sequences(test_data)\n",
    "\n",
    "print(\"\\n reuters dataset's sample input data after encoding\\n\")\n",
    "print(x_train[:1]) \n",
    "\n",
    "print(\"\\nreuters dataset's lables after encoding\")\n",
    "print(x_test[:2])\n",
    "\n",
    "# lables one-hot encoding\n",
    "def to_one_hot(labels, dimension=46):\n",
    "    results = np.zeros((len(labels), dimension))\n",
    "    for i, label in enumerate(labels):\n",
    "        results[i, label] = 1.\n",
    "    return results\n",
    "# Our vectorized training labels\n",
    "one_hot_train_labels = to_one_hot(train_labels)\n",
    "# Our vectorized test labels\n",
    "one_hot_test_labels = to_one_hot(test_labels)\n",
    "\n",
    "# keras one-liner (lables one-hot encoding)\n",
    "one_hot_train_labels = to_categorical(train_labels)\n",
    "one_hot_test_labels = to_categorical(test_labels)\n",
    "\n",
    "\n",
    "# model architecture development\n",
    "model = models.Sequential()\n",
    "model.add(layers.Dense(64, activation='relu', input_shape=(10000,)))\n",
    "model.add(layers.Dense(64, activation='relu'))\n",
    "model.add(layers.Dense(46, activation='softmax'))\n",
    "\n",
    "# Compiling our model\n",
    "model.compile(optimizer='rmsprop',\n",
    "              loss='categorical_crossentropy',\n",
    "              metrics=['accuracy'])\n",
    "\n",
    "# Setting aside a validation set\n",
    "x_val = x_train[:1000]\n",
    "partial_x_train = x_train[1000:]\n",
    "y_val = one_hot_train_labels[:1000]\n",
    "partial_y_train = one_hot_train_labels[1000:]"
   ]
  },
  {
   "cell_type": "markdown",
   "metadata": {},
   "source": [
    "## Training model on reuter dataset"
   ]
  },
  {
   "cell_type": "code",
   "execution_count": 4,
   "metadata": {},
   "outputs": [
    {
     "name": "stdout",
     "output_type": "stream",
     "text": [
      "Epoch 1/12\n",
      "16/16 [==============================] - 1s 22ms/step - loss: 2.6915 - accuracy: 0.5269 - val_loss: 1.7529 - val_accuracy: 0.6390\n",
      "Epoch 2/12\n",
      "16/16 [==============================] - 0s 11ms/step - loss: 1.4295 - accuracy: 0.7081 - val_loss: 1.3180 - val_accuracy: 0.7050\n",
      "Epoch 3/12\n",
      "16/16 [==============================] - 0s 11ms/step - loss: 1.0583 - accuracy: 0.7757 - val_loss: 1.1693 - val_accuracy: 0.7380\n",
      "Epoch 4/12\n",
      "16/16 [==============================] - 0s 12ms/step - loss: 0.8386 - accuracy: 0.8242 - val_loss: 1.0501 - val_accuracy: 0.7700\n",
      "Epoch 5/12\n",
      "16/16 [==============================] - 0s 11ms/step - loss: 0.6644 - accuracy: 0.8629 - val_loss: 0.9664 - val_accuracy: 0.7940\n",
      "Epoch 6/12\n",
      "16/16 [==============================] - 0s 12ms/step - loss: 0.5300 - accuracy: 0.8882 - val_loss: 0.9233 - val_accuracy: 0.8040\n",
      "Epoch 7/12\n",
      "16/16 [==============================] - 0s 13ms/step - loss: 0.4270 - accuracy: 0.9088 - val_loss: 0.9118 - val_accuracy: 0.8070\n",
      "Epoch 8/12\n",
      "16/16 [==============================] - 0s 13ms/step - loss: 0.3450 - accuracy: 0.9248 - val_loss: 0.8767 - val_accuracy: 0.8140\n",
      "Epoch 9/12\n",
      "16/16 [==============================] - 0s 12ms/step - loss: 0.2830 - accuracy: 0.9372 - val_loss: 0.8989 - val_accuracy: 0.8100\n",
      "Epoch 10/12\n",
      "16/16 [==============================] - 0s 11ms/step - loss: 0.2379 - accuracy: 0.9440 - val_loss: 0.8940 - val_accuracy: 0.8060\n",
      "Epoch 11/12\n",
      "16/16 [==============================] - 0s 11ms/step - loss: 0.2074 - accuracy: 0.9490 - val_loss: 0.9514 - val_accuracy: 0.8000\n",
      "Epoch 12/12\n",
      "16/16 [==============================] - 0s 10ms/step - loss: 0.1835 - accuracy: 0.9504 - val_loss: 0.9363 - val_accuracy: 0.8180\n"
     ]
    }
   ],
   "source": [
    "history = model.fit(partial_x_train,\n",
    "                    partial_y_train,\n",
    "                    epochs=12,\n",
    "                    batch_size=512,\n",
    "                    validation_data=(x_val, y_val))"
   ]
  },
  {
   "cell_type": "markdown",
   "metadata": {},
   "source": [
    "## Plotting the training and validation loss & accuracy"
   ]
  },
  {
   "cell_type": "code",
   "execution_count": 5,
   "metadata": {},
   "outputs": [
    {
     "data": {
      "image/png": "[encoded data removed]",
      "text/plain": [
       "<Figure size 1080x360 with 2 Axes>"
      ]
     },
     "metadata": {
      "needs_background": "light"
     },
     "output_type": "display_data"
    }
   ],
   "source": [
    "# ploting model training results\n",
    "utility_obj.plot_training_history(history.history)"
   ]
  }
 ],
 "metadata": {
  "kernelspec": {
   "display_name": "Python 3",
   "language": "python",
   "name": "python3"
  },
  "language_info": {
   "codemirror_mode": {
    "name": "ipython",
    "version": 3
   },
   "file_extension": ".py",
   "mimetype": "text/x-python",
   "name": "python",
   "nbconvert_exporter": "python",
   "pygments_lexer": "ipython3",
   "version": "3.6.13"
  }
 },
 "nbformat": 4,
 "nbformat_minor": 2
}
