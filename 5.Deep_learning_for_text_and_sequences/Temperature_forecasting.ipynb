{
 "cells": [
  {
   "cell_type": "markdown",
   "metadata": {},
   "source": [
    "## TEMPERATURE FORECASTING USING SEQUENTIAL MODELS"
   ]
  },
  {
   "cell_type": "code",
   "execution_count": 1,
   "metadata": {},
   "outputs": [
    {
     "name": "stderr",
     "output_type": "stream",
     "text": [
      "Using TensorFlow backend.\n"
     ]
    }
   ],
   "source": [
    "#imports\n",
    "\n",
    "# general imports\n",
    "from IPython.display import display, Markdown #just to display markdown\n",
    "import numpy as np  #for vector operation\n",
    "import string   # provides strings variations for character embedding\n",
    "import os\n",
    "\n",
    "# keras imports\n",
    "from keras.models import Sequential\n",
    "from keras import layers\n",
    "from keras.optimizers import RMSprop\n",
    "\n",
    "\n",
    "# visualiaztion imports\n",
    "%matplotlib inline\n",
    "import matplotlib.pyplot as plt"
   ]
  },
  {
   "cell_type": "markdown",
   "metadata": {},
   "source": [
    "### TEMPERATURE FORECASTING PROBLEM\n",
    "#### PROBLEM STATEMENT\n",
    "\n",
    "dataset: https://s3.amazonaws.com/keras-datasets/jena_climate_2009_2016.csv.zip\n",
    "\n",
    "Given data going as far back as lookback timesteps (a timestep is 10 minutes) and \n",
    "sampled every steps timesteps, can we predict the temperature in delay timesteps?\n",
    "\n",
    "We will use the following parameter values:\n",
    "\n",
    "lookback = 1440, i.e. our observations will go back 10 days.\n",
    "steps = 6, i.e. our observations will be sampled at one data point per hour. \n",
    "delay = 144, i.e. our targets will be 24 hour in the future."
   ]
  },
  {
   "cell_type": "markdown",
   "metadata": {},
   "source": [
    "### TRAINING DATA"
   ]
  },
  {
   "cell_type": "code",
   "execution_count": 2,
   "metadata": {},
   "outputs": [
    {
     "data": {
      "text/markdown": [
       "### Data summary \n"
      ],
      "text/plain": [
       "<IPython.core.display.Markdown object>"
      ]
     },
     "metadata": {},
     "output_type": "display_data"
    },
    {
     "name": "stdout",
     "output_type": "stream",
     "text": [
      "\n",
      "Data contains 15 columns\n",
      "\n",
      "['\"Date Time\"', '\"p (mbar)\"', '\"T (degC)\"', '\"Tpot (K)\"', '\"Tdew (degC)\"', '\"rh (%)\"', '\"VPmax (mbar)\"', '\"VPact (mbar)\"', '\"VPdef (mbar)\"', '\"sh (g/kg)\"', '\"H2OC (mmol/mol)\"', '\"rho (g/m**3)\"', '\"wv (m/s)\"', '\"max. wv (m/s)\"', '\"wd (deg)\"']\n",
      "\n",
      "Data has 420551 samples for training and testing\n",
      "\n",
      "3 sample data points\n",
      "['01.01.2009 00:10:00,996.52,-8.02,265.40,-8.90,93.30,3.33,3.11,0.22,1.94,3.12,1307.75,1.03,1.75,152.30', '01.01.2009 00:20:00,996.57,-8.41,265.01,-9.28,93.40,3.23,3.02,0.21,1.89,3.03,1309.80,0.72,1.50,136.10', '01.01.2009 00:30:00,996.53,-8.51,264.91,-9.31,93.90,3.21,3.01,0.20,1.88,3.02,1310.24,0.19,0.63,171.60']\n",
      "\n",
      "converting data to numpy array(omiting first column date & time)\n",
      "\n",
      "[[ 9.96520e+02 -8.02000e+00  2.65400e+02 -8.90000e+00  9.33000e+01\n",
      "   3.33000e+00  3.11000e+00  2.20000e-01  1.94000e+00  3.12000e+00\n",
      "   1.30775e+03  1.03000e+00  1.75000e+00  1.52300e+02]\n",
      " [ 9.96570e+02 -8.41000e+00  2.65010e+02 -9.28000e+00  9.34000e+01\n",
      "   3.23000e+00  3.02000e+00  2.10000e-01  1.89000e+00  3.03000e+00\n",
      "   1.30980e+03  7.20000e-01  1.50000e+00  1.36100e+02]\n",
      " [ 9.96530e+02 -8.51000e+00  2.64910e+02 -9.31000e+00  9.39000e+01\n",
      "   3.21000e+00  3.01000e+00  2.00000e-01  1.88000e+00  3.02000e+00\n",
      "   1.31024e+03  1.90000e-01  6.30000e-01  1.71600e+02]]\n",
      "\n",
      "data shape: rows 420551, columns 14\n",
      "\n"
     ]
    }
   ],
   "source": [
    "# path to the data\n",
    "fname = '/home/sj-ai-lsb/Documents/datasets/jena_climate/jena_climate_2009_2016.csv'\n",
    "\n",
    "# reading the data file\n",
    "f = open(fname)\n",
    "data = f.read()\n",
    "f.close()\n",
    "\n",
    "# reading the headers and the content\n",
    "lines = data.split('\\n')\n",
    "header = lines[0].split(',')\n",
    "lines = lines[1:]\n",
    "\n",
    "display(Markdown(\"### Data summary \\n\"))\n",
    "print (\"\\nData contains {} columns\\n\".format(len(header)))\n",
    "print(header)\n",
    "\n",
    "print(\"\\nData has {} samples for training and testing\\n\".format(len(lines)))\n",
    "print(\"3 sample data points\")\n",
    "print(lines[:3])\n",
    "\n",
    "#data pre-processing\n",
    "float_data = np.zeros((len(lines), len(header) - 1))\n",
    "for i, line in enumerate(lines):\n",
    "    values = [float(x) for x in line.split(',')[1:]] # omiting first column date & time\n",
    "    float_data[i, :] = values\n",
    "\n",
    "print(\"\\nconverting data to numpy array(omiting first column date & time)\\n\")\n",
    "print (float_data[:3])\n",
    "print(\"\\ndata shape: rows {}, columns {}\\n\".format(float_data.shape[0],float_data.shape[1]))"
   ]
  },
  {
   "cell_type": "markdown",
   "metadata": {},
   "source": [
    "### PLOTTING TEMP VS TIME"
   ]
  },
  {
   "cell_type": "code",
   "execution_count": 3,
   "metadata": {},
   "outputs": [
    {
     "data": {
      "text/markdown": [
       "### temperature plot across years & 10 days"
      ],
      "text/plain": [
       "<IPython.core.display.Markdown object>"
      ]
     },
     "metadata": {},
     "output_type": "display_data"
    },
    {
     "data": {
      "image/png": "[encoded data removed]",
      "text/plain": [
       "<Figure size 432x288 with 1 Axes>"
      ]
     },
     "metadata": {
      "needs_background": "light"
     },
     "output_type": "display_data"
    },
    {
     "data": {
      "image/png": "[encoded data removed]",
      "text/plain": [
       "<Figure size 432x288 with 1 Axes>"
      ]
     },
     "metadata": {
      "needs_background": "light"
     },
     "output_type": "display_data"
    }
   ],
   "source": [
    "temp = float_data[:, 1]  # temperature (in degrees Celsius)\n",
    "\n",
    "display(Markdown(\"### temperature plot across years & 10 days\"))\n",
    "\n",
    "# plotting temperature across years\n",
    "plt.plot(range(len(temp)), temp)\n",
    "plt.title('Plotting temperature seasonality over year')\n",
    "\n",
    "plt.figure()\n",
    "\n",
    "#plotting temperature for first 10 days collected every 10 mins a day(144 data points/day)\n",
    "plt.plot(range(1440), temp[:1440])\n",
    "plt.title('Plotting temperature change across 10 days')\n",
    "plt.show()"
   ]
  },
  {
   "cell_type": "markdown",
   "metadata": {},
   "source": [
    "### DATA PREPARATION"
   ]
  },
  {
   "cell_type": "code",
   "execution_count": 4,
   "metadata": {},
   "outputs": [
    {
     "data": {
      "text/markdown": [
       "### data normalization"
      ],
      "text/plain": [
       "<IPython.core.display.Markdown object>"
      ]
     },
     "metadata": {},
     "output_type": "display_data"
    },
    {
     "name": "stdout",
     "output_type": "stream",
     "text": [
      "\n",
      " data before normalization\n",
      "\n",
      "[[ 9.96520e+02 -8.02000e+00  2.65400e+02 -8.90000e+00  9.33000e+01\n",
      "   3.33000e+00  3.11000e+00  2.20000e-01  1.94000e+00  3.12000e+00\n",
      "   1.30775e+03  1.03000e+00  1.75000e+00  1.52300e+02]\n",
      " [ 9.96570e+02 -8.41000e+00  2.65010e+02 -9.28000e+00  9.34000e+01\n",
      "   3.23000e+00  3.02000e+00  2.10000e-01  1.89000e+00  3.03000e+00\n",
      "   1.30980e+03  7.20000e-01  1.50000e+00  1.36100e+02]\n",
      " [ 9.96530e+02 -8.51000e+00  2.64910e+02 -9.31000e+00  9.39000e+01\n",
      "   3.21000e+00  3.01000e+00  2.00000e-01  1.88000e+00  3.02000e+00\n",
      "   1.31024e+03  1.90000e-01  6.30000e-01  1.71600e+02]]\n",
      "\n",
      " data after normalization\n",
      "\n",
      "[[ 0.90014748 -1.93135845 -1.98211036 -1.86280029  1.07285236 -1.30742164\n",
      "  -1.47375773 -0.79868641 -1.4762674  -1.47815522  2.12375056 -0.72950452\n",
      "  -0.78067973 -0.27613603]\n",
      " [ 0.9060434  -1.97541381 -2.02567    -1.91582958  1.07883061 -1.32042698\n",
      "  -1.4951961  -0.80075238 -1.49502455 -1.49932141  2.17199852 -0.93124017\n",
      "  -0.88794488 -0.46317443]\n",
      " [ 0.90132666 -1.98671006 -2.03683914 -1.92001611  1.10872183 -1.32302805\n",
      "  -1.49757814 -0.80281834 -1.49877598 -1.50167321  2.18235418 -1.27614304\n",
      "  -1.26122763 -0.05330633]]\n",
      "\n",
      " data shape: rows 420551, columns 14\n",
      "\n"
     ]
    }
   ],
   "source": [
    "# pre-processing\n",
    "display(Markdown(\"### data normalization\"))\n",
    "\n",
    "print(\"\\n data before normalization\\n\")\n",
    "print (float_data[:3])\n",
    "\n",
    "float_data_ = float_data\n",
    "mean = float_data_[:200000].mean(axis=0) # calcaulating mean of first 200K samples for each columns\n",
    "float_data_ -= mean  # substracting the mean from each element in the column\n",
    "std = float_data_[:200000].std(axis=0) # calcaulating standard deviation of first 200K samples  for each columns\n",
    "float_data_ /= std  # normalizing each element in the column with the standard deviation of the columns\n",
    "\n",
    "print(\"\\n data after normalization\\n\")\n",
    "print (float_data[:3])\n",
    "print(\"\\n data shape: rows {}, columns {}\\n\".format(float_data.shape[0],float_data.shape[1]))"
   ]
  },
  {
   "cell_type": "code",
   "execution_count": 5,
   "metadata": {},
   "outputs": [],
   "source": [
    "#creating a custom generator (prepares training, validation and test data as per problem statement)\n",
    "#Now here is the data generator that we will use. It yields a tuple (samples, targets) \n",
    "#where samples is one batch of input data and targets is the corresponding array of target temperatures\n",
    "\n",
    "\"\"\"\n",
    "data: The original array of floating point data, which we just normalized in the code snippet above.\n",
    "\n",
    "lookback(measured in timesteps) : How many timesteps back should our input data go. \n",
    "\n",
    "delay(measured in timesteps) : How many timesteps in the future should our target be. \n",
    "\n",
    "min_index and max_index: Indices in the data array that delimit which timesteps to draw from. \n",
    "This is useful for keeping a segment of the data for validation and another one for testing.\n",
    "\n",
    "shuffle: Whether to shuffle our samples or draw them in chronological order. \n",
    "\n",
    "batch_size: The number of samples per batch.\n",
    "\n",
    "step(measured in timesteps) : The period, in timesteps, at which we sample data. \n",
    "We will set it 6 in order to draw one data point every hour \n",
    "\"\"\"\n",
    "\n",
    "def generator(data, lookback, delay, min_index, max_index,\n",
    "              shuffle=False, batch_size=128, step=6):\n",
    "    if max_index is None:\n",
    "        max_index = len(data) - delay - 1\n",
    "    i = min_index + lookback\n",
    "    while 1:\n",
    "        if shuffle:\n",
    "            rows = np.random.randint(\n",
    "                min_index + lookback, max_index, size=batch_size)\n",
    "        else:\n",
    "\n",
    "            if i + batch_size >= max_index:\n",
    "                i = min_index + lookback\n",
    "            rows = np.arange(i, min(i + batch_size, max_index))\n",
    "            i += len(rows)\n",
    "\n",
    "        samples = np.zeros((len(rows),\n",
    "                           lookback // step,\n",
    "                           data.shape[-1]))\n",
    "        targets = np.zeros((len(rows),))\n",
    "        for j, row in enumerate(rows):\n",
    "            indices = range(rows[j] - lookback, rows[j], step)\n",
    "            samples[j] = data[indices]\n",
    "            targets[j] = data[rows[j] + delay][1]\n",
    "            \n",
    "        yield samples, targets"
   ]
  },
  {
   "cell_type": "markdown",
   "metadata": {},
   "source": [
    "### lets underatand this data preparation w.r.t problem statement"
   ]
  },
  {
   "cell_type": "code",
   "execution_count": 6,
   "metadata": {},
   "outputs": [
    {
     "name": "stdout",
     "output_type": "stream",
     "text": [
      "\n",
      "Problem statement:\n",
      "Given data going as far back as lookback timesteps (a timestep is 10 minutes) and \n",
      "sampled every steps timesteps, can we predict the temperature in delay timesteps?\n",
      "\n",
      "We will use the following parameter values:\n",
      "\n",
      "lookback = 1440, i.e. our observations will go back 10 days.\n",
      "steps = 6, i.e. our observations will be sampled at one data point per hour. \n",
      "delay = 144, i.e. our targets will be 24 hour in the future.\n",
      "\n",
      "Variable understanding:\n",
      "lookback = 1440 timesteps (1 timesteps == 10 minutes)\n",
      "Therefore lookback = 1440 * 10 minutes\n",
      "i.e lookback = (1440 * 10)/60 hours\n",
      "i.e lookback = (1440 * 10)/(60*24) days = 10 days\n",
      "\n",
      "\n",
      "similarly,\n",
      "\n",
      "step = 6 timestamp = 6 * 10 minutes = 1 hour  \n",
      "delay = 144 timestamps = (144*10)/(60*24) = 1 day\n",
      "\n",
      "\n",
      "Note: to understand the concept of yield and generator.\n",
      "visit: https://stackoverflow.com/questions/231767/what-does-the-yield-keyword-do\n",
      "\n",
      "Understanding first batch\n",
      "\n",
      "First batch data sample shape is (128, 240, 14)\n",
      "128 : batch-size\n",
      "240 : number of sample collected (in lookback timestamp's 10 days). \n",
      "Note: Not all 1440 sample colleted, only (timestamps in lookback)/(steps) = 1440/6 = 240 \n",
      "14  : number of columns in data \n"
     ]
    },
    {
     "data": {
      "text/markdown": [
       "### 1 data sample"
      ],
      "text/plain": [
       "<IPython.core.display.Markdown object>"
      ]
     },
     "metadata": {},
     "output_type": "display_data"
    },
    {
     "name": "stdout",
     "output_type": "stream",
     "text": [
      "[[ 0.7810498  -1.27730586 -1.32536501 ...  1.2292835   0.66954518\n",
      "  -1.69220145]\n",
      " [ 0.79048327 -1.3529907  -1.40131515 ...  1.50260276  0.99563125\n",
      "  -1.62627619]\n",
      " [ 0.80817105 -1.38574981 -1.43482257 ...  2.1924085   1.61347854\n",
      "  -1.54649623]\n",
      " ...\n",
      " [-2.7918806  -0.97795536 -0.75797276 ... -0.89870216 -0.67341457\n",
      "   0.9361499 ]\n",
      " [-2.78598468 -1.05476983 -0.83503982 ... -1.23709743 -1.30842429\n",
      "  -1.85129955]\n",
      " [-2.80603082 -1.08301044 -0.86184575 ... -0.72950452 -0.7592267\n",
      "  -1.61830974]]\n",
      "\n",
      "First batch target shape is (128,)\n",
      "128 : '128' temperature values for each batch.\n",
      "Note: temperature values 1 day ahead in furture(as per delay = 1 day) are collected \n"
     ]
    },
    {
     "data": {
      "text/markdown": [
       "### 5 target sample"
      ],
      "text/plain": [
       "<IPython.core.display.Markdown object>"
      ]
     },
     "metadata": {},
     "output_type": "display_data"
    },
    {
     "name": "stdout",
     "output_type": "stream",
     "text": [
      "[-1.20613952 -0.26855117 -0.34084714  1.13557211]\n"
     ]
    }
   ],
   "source": [
    "lookback = 1440\n",
    "step = 6\n",
    "delay = 144\n",
    "batch_size = 128\n",
    "\n",
    "# sample generator for understanding the data preparation\n",
    "undertansing_gen = generator(float_data,\n",
    "                      lookback=lookback,\n",
    "                      delay=delay,\n",
    "                      min_index=0,\n",
    "                      max_index=200000,\n",
    "                      shuffle=True,\n",
    "                      step=step,\n",
    "                      batch_size=batch_size)\n",
    "\n",
    "print (\"\"\"\n",
    "Problem statement:\n",
    "Given data going as far back as lookback timesteps (a timestep is 10 minutes) and \n",
    "sampled every steps timesteps, can we predict the temperature in delay timesteps?\n",
    "\n",
    "We will use the following parameter values:\n",
    "\n",
    "lookback = 1440, i.e. our observations will go back 10 days.\n",
    "steps = 6, i.e. our observations will be sampled at one data point per hour. \n",
    "delay = 144, i.e. our targets will be 24 hour in the future.\n",
    "\n",
    "Variable understanding:\n",
    "lookback = 1440 timesteps (1 timesteps == 10 minutes)\n",
    "Therefore lookback = 1440 * 10 minutes\n",
    "i.e lookback = (1440 * 10)/60 hours\n",
    "i.e lookback = (1440 * 10)/(60*24) days = 10 days\n",
    "\n",
    "\n",
    "similarly,\n",
    "\n",
    "step = 6 timestamp = 6 * 10 minutes = 1 hour  \n",
    "delay = 144 timestamps = (144*10)/(60*24) = 1 day\n",
    "\n",
    "\"\"\")\n",
    "\n",
    "print (\"\"\"Note: to understand the concept of yield and generator.\n",
    "visit: https://stackoverflow.com/questions/231767/what-does-the-yield-keyword-do\n",
    "\"\"\")\n",
    "\n",
    "print (\"\"\"Understanding first batch\\n\"\"\")\n",
    "for value in undertansing_gen:\n",
    "    first_batch_samples, first_batch_target = value\n",
    "    break\n",
    "\n",
    "print (\"First batch data sample shape is {}\".format(first_batch_samples.shape))\n",
    "print (\"\"\"128 : batch-size\n",
    "240 : number of sample collected (in lookback timestamp's 10 days). \n",
    "Note: Not all 1440 sample colleted, only (timestamps in lookback)/(steps) = 1440/6 = 240 \n",
    "14  : number of columns in data \"\"\")\n",
    "\n",
    "display(Markdown(\"### 1 data sample\"))\n",
    "print (first_batch_samples[0])\n",
    "\n",
    "print (\"\\nFirst batch target shape is {}\".format(first_batch_target.shape))\n",
    "print (\"\"\"128 : '128' temperature values for each batch.\n",
    "Note: temperature values 1 day ahead in furture(as per delay = 1 day) are collected \"\"\")\n",
    "display(Markdown(\"### 5 target sample\"))\n",
    "print (first_batch_target[:4])"
   ]
  },
  {
   "cell_type": "markdown",
   "metadata": {},
   "source": [
    "### preparing the training, validation and test generators\""
   ]
  },
  {
   "cell_type": "code",
   "execution_count": 7,
   "metadata": {},
   "outputs": [
    {
     "name": "stdout",
     "output_type": "stream",
     "text": [
      "\n",
      "the training generator looks at the first 200,000 timesteps, \n",
      "the validation generator looks at the following 100,000, & \n",
      "the test generator looks at the remainder\n",
      "\n",
      "Number of batches in training: 1551\n",
      "Number of batches in validation: 769\n",
      "Number of batches in testing: 930\n"
     ]
    }
   ],
   "source": [
    "print (\"\"\"\n",
    "the training generator looks at the first 200,000 timesteps, \n",
    "the validation generator looks at the following 100,000, & \n",
    "the test generator looks at the remainder\n",
    "\"\"\")\n",
    "\n",
    "lookback = 1440\n",
    "step = 6\n",
    "delay = 144\n",
    "batch_size = 128\n",
    "\n",
    "#training data preparation\n",
    "train_gen = generator(float_data,\n",
    "                      lookback=lookback,\n",
    "                      delay=delay,\n",
    "                      min_index=0,\n",
    "                      max_index=200000,\n",
    "                      shuffle=True,\n",
    "                      step=step,\n",
    "                      batch_size=batch_size)\n",
    "\n",
    "val_gen = generator(float_data,\n",
    "                    lookback=lookback,\n",
    "                    delay=delay,\n",
    "                    min_index=200001,\n",
    "                    max_index=300000,\n",
    "                    step=step,\n",
    "                    batch_size=batch_size)\n",
    "\n",
    "test_gen = generator(float_data,\n",
    "                     lookback=lookback,\n",
    "                     delay=delay,\n",
    "                     min_index=300001,\n",
    "                     max_index=None,\n",
    "                     step=step,\n",
    "                     batch_size=batch_size)\n",
    "\n",
    "# This is how many batches to draw from `val_gen`\n",
    "# in order to see the whole validation set:\n",
    "val_batches = (300000 - 200001 - lookback) // batch_size\n",
    "\n",
    "# This is how many steps to draw from `test_gen`\n",
    "# in order to see the whole test set:\n",
    "test_batches = (len(float_data) - 300001 - lookback) // batch_size\n",
    "\n",
    "print (\"Number of batches in training: {}\".format((200000-lookback)//batch_size))\n",
    "print (\"Number of batches in validation: {}\".format(val_batches))\n",
    "print (\"Number of batches in testing: {}\".format(test_batches))"
   ]
  },
  {
   "cell_type": "markdown",
   "metadata": {},
   "source": [
    "### creating non-machine learning baseline"
   ]
  },
  {
   "cell_type": "code",
   "execution_count": 8,
   "metadata": {},
   "outputs": [
    {
     "name": "stdout",
     "output_type": "stream",
     "text": [
      "the temperature timeseries can safely be assumed to be continuous \n",
      "(the temperatures tomorrow are likely to be close to the temperatures today) \n",
      "as well as periodical with a daily period. Thus a common sense approach would be to always \n",
      "predict that the temperature 24 hours from now will be equal to the temperature right now\n",
      "\n",
      "baseline yields a MAE of 0.29\n",
      "\n",
      "Since our temperature data has been normalized to be centered on 0 \n",
      "and have a standard deviation of one, this number is not immediately interpretable. \n",
      "It translates to an average absolute error of 0.29 * temperature_std degrees Celsius, i.e. 2.57°C\n",
      "\n",
      "temperature deviation in baseline 2.57°C\n"
     ]
    }
   ],
   "source": [
    "# implementation of baseline model\n",
    "def evaluate_naive_method():\n",
    "    batch_maes = []\n",
    "    for step in range(val_batches):\n",
    "        samples, targets = next(val_gen)\n",
    "        preds = samples[:, -1, 1]\n",
    "        mae = np.mean(np.abs(preds - targets))\n",
    "        batch_maes.append(mae)\n",
    "    return(np.mean(batch_maes))\n",
    "    \n",
    "print (\"\"\"the temperature timeseries can safely be assumed to be continuous \n",
    "(the temperatures tomorrow are likely to be close to the temperatures today) \n",
    "as well as periodical with a daily period. Thus a common sense approach would be to always \n",
    "predict that the temperature 24 hours from now will be equal to the temperature right now\n",
    "\"\"\")\n",
    "\n",
    "mae = evaluate_naive_method()\n",
    "print (\"baseline yields a MAE of %.2f\\n\"%(mae))\n",
    "\n",
    "print (\"\"\"Since our temperature data has been normalized to be centered on 0 \n",
    "and have a standard deviation of one, this number is not immediately interpretable. \n",
    "It translates to an average absolute error of 0.29 * temperature_std degrees Celsius, i.e. 2.57°C\n",
    "\"\"\")\n",
    "\n",
    "celsius_mae = 0.29 * std[1]\n",
    "print (\"temperature deviation in baseline %.2f°C\"%(celsius_mae))"
   ]
  },
  {
   "cell_type": "code",
   "execution_count": 9,
   "metadata": {},
   "outputs": [],
   "source": [
    "# function to plot model training logs    \n",
    "def plot_model_training_history(history,accuracy = True, chart_type=\"--o\"):\n",
    "        #collecting all post-training values \n",
    "        if accuracy:\n",
    "            acc = history['acc']\n",
    "            val_acc = history['val_acc']\n",
    "        loss = history['loss']\n",
    "        val_loss = history['val_loss']\n",
    "        epochs = range(1, len(loss) + 1)\n",
    "        # ploting losses\\n\",\n",
    "        plt.plot(epochs, loss, chart_type, label='Training loss')\n",
    "        plt.plot(epochs, val_loss, chart_type, label='Validation loss')\n",
    "        plt.title('Training and validation loss')\n",
    "        plt.legend()\n",
    "        plt.show()\n",
    "        plt.figure()\n",
    "        if accuracy:\n",
    "            # ploting accuracies\\n\",\n",
    "            plt.plot(epochs, acc, chart_type, label='Training acc')\n",
    "            plt.plot(epochs, val_acc, chart_type, label='Validation acc')\n",
    "            plt.title('Training and validation accuracy')\n",
    "            plt.legend()\n",
    "        return"
   ]
  },
  {
   "cell_type": "markdown",
   "metadata": {},
   "source": [
    "### Training and evaluating a densely-connected model using the data generators"
   ]
  },
  {
   "cell_type": "code",
   "execution_count": 19,
   "metadata": {},
   "outputs": [
    {
     "name": "stdout",
     "output_type": "stream",
     "text": [
      "starting model training...\n",
      "\n",
      "\n",
      "_________________________________________________________________\n",
      "Layer (type)                 Output Shape              Param #   \n",
      "=================================================================\n",
      "flatten_5 (Flatten)          (None, 3360)              0         \n",
      "_________________________________________________________________\n",
      "dense_11 (Dense)             (None, 32)                107552    \n",
      "_________________________________________________________________\n",
      "dense_12 (Dense)             (None, 1)                 33        \n",
      "=================================================================\n",
      "Total params: 107,585\n",
      "Trainable params: 107,585\n",
      "Non-trainable params: 0\n",
      "_________________________________________________________________\n",
      "Epoch 1/20\n",
      "500/500 [==============================] - 9s 18ms/step - loss: 1.2753 - val_loss: 0.6273\n",
      "Epoch 2/20\n",
      "500/500 [==============================] - 9s 17ms/step - loss: 0.4520 - val_loss: 0.3133\n",
      "Epoch 3/20\n",
      "500/500 [==============================] - 9s 17ms/step - loss: 0.2906 - val_loss: 0.3029\n",
      "Epoch 4/20\n",
      "500/500 [==============================] - 8s 17ms/step - loss: 0.2634 - val_loss: 0.3069\n",
      "Epoch 5/20\n",
      "500/500 [==============================] - 9s 17ms/step - loss: 0.2506 - val_loss: 0.3354\n",
      "Epoch 6/20\n",
      "500/500 [==============================] - 9s 17ms/step - loss: 0.2405 - val_loss: 0.3545\n",
      "Epoch 7/20\n",
      "500/500 [==============================] - 8s 17ms/step - loss: 0.2335 - val_loss: 0.3233\n",
      "Epoch 8/20\n",
      "500/500 [==============================] - 8s 17ms/step - loss: 0.2288 - val_loss: 0.3498\n",
      "Epoch 9/20\n",
      "500/500 [==============================] - 8s 17ms/step - loss: 0.2249 - val_loss: 0.3196\n",
      "Epoch 10/20\n",
      "500/500 [==============================] - 9s 17ms/step - loss: 0.2203 - val_loss: 0.3417\n",
      "Epoch 11/20\n",
      "500/500 [==============================] - 9s 17ms/step - loss: 0.2168 - val_loss: 0.3273\n",
      "Epoch 12/20\n",
      "500/500 [==============================] - 8s 17ms/step - loss: 0.2139 - val_loss: 0.3594\n",
      "Epoch 13/20\n",
      "500/500 [==============================] - 8s 17ms/step - loss: 0.2128 - val_loss: 0.3424\n",
      "Epoch 14/20\n",
      "500/500 [==============================] - 8s 16ms/step - loss: 0.2090 - val_loss: 0.3470\n",
      "Epoch 15/20\n",
      "500/500 [==============================] - 8s 17ms/step - loss: 0.2083 - val_loss: 0.3637\n",
      "Epoch 16/20\n",
      "500/500 [==============================] - 8s 17ms/step - loss: 0.2062 - val_loss: 0.3304\n",
      "Epoch 17/20\n",
      "500/500 [==============================] - 8s 17ms/step - loss: 0.2037 - val_loss: 0.3375\n",
      "Epoch 18/20\n",
      "500/500 [==============================] - 8s 17ms/step - loss: 0.2010 - val_loss: 0.3312\n",
      "Epoch 19/20\n",
      "500/500 [==============================] - 9s 17ms/step - loss: 0.2007 - val_loss: 0.3508\n",
      "Epoch 20/20\n",
      "500/500 [==============================] - 8s 17ms/step - loss: 0.1994 - val_loss: 0.3424\n"
     ]
    },
    {
     "data": {
      "text/markdown": [
       "### result"
      ],
      "text/plain": [
       "<IPython.core.display.Markdown object>"
      ]
     },
     "metadata": {},
     "output_type": "display_data"
    },
    {
     "data": {
      "image/png": "[encoded data removed]",
      "text/plain": [
       "<Figure size 432x288 with 1 Axes>"
      ]
     },
     "metadata": {
      "needs_background": "light"
     },
     "output_type": "display_data"
    },
    {
     "data": {
      "text/plain": [
       "<Figure size 432x288 with 0 Axes>"
      ]
     },
     "metadata": {},
     "output_type": "display_data"
    }
   ],
   "source": [
    "print(\"starting model training...\")\n",
    "# model architecture and training\n",
    "model = Sequential()\n",
    "model.add(layers.Flatten(input_shape=(lookback // step, float_data.shape[-1])))\n",
    "model.add(layers.Dense(32, activation='relu'))\n",
    "model.add(layers.Dense(1))\n",
    "model.compile(optimizer=RMSprop(), loss='mae')\n",
    "print (\"\\n\")\n",
    "model.summary()\n",
    "history = model.fit_generator(train_gen,\n",
    "                              steps_per_epoch=500,\n",
    "                              epochs=20,\n",
    "                              validation_data=val_gen,\n",
    "                              validation_steps=val_batches)\n",
    "\n",
    "# ploting model training results\n",
    "display(Markdown(\"### result\"))\n",
    "plot_model_training_history(history.history,accuracy=False)"
   ]
  },
  {
   "cell_type": "markdown",
   "metadata": {},
   "source": [
    "### Training and evaluating a GRU-based model"
   ]
  },
  {
   "cell_type": "code",
   "execution_count": 20,
   "metadata": {},
   "outputs": [
    {
     "name": "stdout",
     "output_type": "stream",
     "text": [
      "starting model training...\n",
      "_________________________________________________________________\n",
      "Layer (type)                 Output Shape              Param #   \n",
      "=================================================================\n",
      "gru_1 (GRU)                  (None, 32)                4512      \n",
      "_________________________________________________________________\n",
      "dense_13 (Dense)             (None, 1)                 33        \n",
      "=================================================================\n",
      "Total params: 4,545\n",
      "Trainable params: 4,545\n",
      "Non-trainable params: 0\n",
      "_________________________________________________________________\n",
      "\n",
      "\n",
      "Epoch 1/20\n",
      "500/500 [==============================] - 134s 267ms/step - loss: 0.3371 - val_loss: 0.2754\n",
      "Epoch 2/20\n",
      "500/500 [==============================] - 132s 265ms/step - loss: 0.3171 - val_loss: 0.2724\n",
      "Epoch 3/20\n",
      "500/500 [==============================] - 134s 268ms/step - loss: 0.3107 - val_loss: 0.2745\n",
      "Epoch 4/20\n",
      "500/500 [==============================] - 135s 269ms/step - loss: 0.3064 - val_loss: 0.2723\n",
      "Epoch 5/20\n",
      "500/500 [==============================] - 134s 269ms/step - loss: 0.3025 - val_loss: 0.2687\n",
      "Epoch 6/20\n",
      "500/500 [==============================] - 135s 271ms/step - loss: 0.2972 - val_loss: 0.2695\n",
      "Epoch 7/20\n",
      "500/500 [==============================] - 135s 270ms/step - loss: 0.2961 - val_loss: 0.2697\n",
      "Epoch 8/20\n",
      "500/500 [==============================] - 135s 270ms/step - loss: 0.2927 - val_loss: 0.2741\n",
      "Epoch 9/20\n",
      "500/500 [==============================] - 135s 271ms/step - loss: 0.2934 - val_loss: 0.2704\n",
      "Epoch 10/20\n",
      "500/500 [==============================] - 134s 268ms/step - loss: 0.2924 - val_loss: 0.2699\n",
      "Epoch 11/20\n",
      "500/500 [==============================] - 135s 271ms/step - loss: 0.2910 - val_loss: 0.2689\n",
      "Epoch 12/20\n",
      "500/500 [==============================] - 134s 269ms/step - loss: 0.2891 - val_loss: 0.2705\n",
      "Epoch 13/20\n",
      "500/500 [==============================] - 141s 281ms/step - loss: 0.2890 - val_loss: 0.2723\n",
      "Epoch 14/20\n",
      "500/500 [==============================] - 133s 267ms/step - loss: 0.2879 - val_loss: 0.2647\n",
      "Epoch 15/20\n",
      "500/500 [==============================] - 135s 269ms/step - loss: 0.2848 - val_loss: 0.2749\n",
      "Epoch 16/20\n",
      "500/500 [==============================] - 136s 271ms/step - loss: 0.2858 - val_loss: 0.2659\n",
      "Epoch 17/20\n",
      "500/500 [==============================] - 144s 288ms/step - loss: 0.2832 - val_loss: 0.2676\n",
      "Epoch 18/20\n",
      "500/500 [==============================] - 140s 281ms/step - loss: 0.2824 - val_loss: 0.2671\n",
      "Epoch 19/20\n",
      "500/500 [==============================] - 142s 284ms/step - loss: 0.2825 - val_loss: 0.2653\n",
      "Epoch 20/20\n",
      "500/500 [==============================] - 134s 268ms/step - loss: 0.2820 - val_loss: 0.2691\n"
     ]
    },
    {
     "data": {
      "text/markdown": [
       "### result"
      ],
      "text/plain": [
       "<IPython.core.display.Markdown object>"
      ]
     },
     "metadata": {},
     "output_type": "display_data"
    },
    {
     "data": {
      "image/png": "[encoded data removed]",
      "text/plain": [
       "<Figure size 432x288 with 1 Axes>"
      ]
     },
     "metadata": {
      "needs_background": "light"
     },
     "output_type": "display_data"
    },
    {
     "data": {
      "text/plain": [
       "<Figure size 432x288 with 0 Axes>"
      ]
     },
     "metadata": {},
     "output_type": "display_data"
    }
   ],
   "source": [
    "print(\"starting model training...\")\n",
    "# model architecture and training\n",
    "model = Sequential()\n",
    "model.add(layers.GRU(32,dropout=0.2,\n",
    "                     recurrent_dropout=0.2,\n",
    "                     input_shape=(None, float_data.shape[-1])))\n",
    "model.add(layers.Dense(1))\n",
    "model.compile(optimizer=RMSprop(), loss='mae')\n",
    "model.summary()\n",
    "print(\"\\n\")\n",
    "history = model.fit_generator(train_gen,\n",
    "                              steps_per_epoch=500,\n",
    "                              epochs=20,\n",
    "                              validation_data=val_gen,\n",
    "                              validation_steps=val_batches)\n",
    "\n",
    "# ploting model training results\n",
    "display(Markdown(\"### result\"))\n",
    "plot_model_training_history(history.history,accuracy=False)"
   ]
  },
  {
   "cell_type": "markdown",
   "metadata": {},
   "source": [
    "### Stacking recurrent layers"
   ]
  },
  {
   "cell_type": "code",
   "execution_count": 10,
   "metadata": {
    "scrolled": false
   },
   "outputs": [
    {
     "name": "stdout",
     "output_type": "stream",
     "text": [
      "starting model training...\n",
      "_________________________________________________________________\n",
      "Layer (type)                 Output Shape              Param #   \n",
      "=================================================================\n",
      "gru_1 (GRU)                  (None, None, 32)          4512      \n",
      "_________________________________________________________________\n",
      "gru_2 (GRU)                  (None, 64)                18624     \n",
      "_________________________________________________________________\n",
      "dense_1 (Dense)              (None, 1)                 65        \n",
      "=================================================================\n",
      "Total params: 23,201\n",
      "Trainable params: 23,201\n",
      "Non-trainable params: 0\n",
      "_________________________________________________________________\n",
      "\n",
      "\n"
     ]
    },
    {
     "data": {
      "text/markdown": [
       "### result"
      ],
      "text/plain": [
       "<IPython.core.display.Markdown object>"
      ]
     },
     "metadata": {},
     "output_type": "display_data"
    },
    {
     "data": {
      "image/png": "[encoded data removed]",
      "text/plain": [
       "<Figure size 432x288 with 1 Axes>"
      ]
     },
     "metadata": {
      "needs_background": "light"
     },
     "output_type": "display_data"
    },
    {
     "data": {
      "text/plain": [
       "<Figure size 432x288 with 0 Axes>"
      ]
     },
     "metadata": {},
     "output_type": "display_data"
    }
   ],
   "source": [
    "print(\"starting model training...\")\n",
    "# model architecture and training\n",
    "model = Sequential()\n",
    "model.add(layers.GRU(32,\n",
    "                     dropout=0.1,\n",
    "                     recurrent_dropout=0.5,\n",
    "                     return_sequences=True,\n",
    "                     input_shape=(None, float_data.shape[-1])))\n",
    "model.add(layers.GRU(64, activation='relu',\n",
    "                     dropout=0.1,\n",
    "                     recurrent_dropout=0.5))\n",
    "model.add(layers.Dense(1))\n",
    "model.summary()\n",
    "print(\"\\n\")\n",
    "model.compile(optimizer=RMSprop(), loss='mae')\n",
    "history = model.fit_generator(train_gen,\n",
    "                              steps_per_epoch=500,\n",
    "                              epochs=40, verbose=0,\n",
    "                              validation_data=val_gen,\n",
    "                              validation_steps=val_batches)\n",
    "\n",
    "# ploting model training results\n",
    "display(Markdown(\"### result\"))\n",
    "plot_model_training_history(history.history,accuracy=False)"
   ]
  },
  {
   "cell_type": "markdown",
   "metadata": {},
   "source": [
    "### Training a bidirectional GRU"
   ]
  },
  {
   "cell_type": "code",
   "execution_count": 12,
   "metadata": {},
   "outputs": [
    {
     "name": "stdout",
     "output_type": "stream",
     "text": [
      "starting model training...\n",
      "_________________________________________________________________\n",
      "Layer (type)                 Output Shape              Param #   \n",
      "=================================================================\n",
      "bidirectional_2 (Bidirection (None, 64)                9024      \n",
      "_________________________________________________________________\n",
      "dense_3 (Dense)              (None, 1)                 65        \n",
      "=================================================================\n",
      "Total params: 9,089\n",
      "Trainable params: 9,089\n",
      "Non-trainable params: 0\n",
      "_________________________________________________________________\n",
      "\n",
      "\n"
     ]
    },
    {
     "data": {
      "text/markdown": [
       "### result"
      ],
      "text/plain": [
       "<IPython.core.display.Markdown object>"
      ]
     },
     "metadata": {},
     "output_type": "display_data"
    },
    {
     "data": {
      "image/png": "[encoded data removed]",
      "text/plain": [
       "<Figure size 432x288 with 1 Axes>"
      ]
     },
     "metadata": {
      "needs_background": "light"
     },
     "output_type": "display_data"
    },
    {
     "data": {
      "text/plain": [
       "<Figure size 432x288 with 0 Axes>"
      ]
     },
     "metadata": {},
     "output_type": "display_data"
    }
   ],
   "source": [
    "print(\"starting model training...\")\n",
    "# model architecture and training\n",
    "model = Sequential()\n",
    "model.add(layers.Bidirectional(\n",
    "    layers.GRU(32), input_shape=(None, float_data.shape[-1])))\n",
    "model.add(layers.Dense(1))\n",
    "model.summary()\n",
    "print(\"\\n\")\n",
    "\n",
    "model.compile(optimizer=RMSprop(), loss='mae')\n",
    "history = model.fit_generator(train_gen,steps_per_epoch=500, verbose=0,\n",
    "                              epochs=40,validation_data=val_gen,\n",
    "                              validation_steps=val_batches)\n",
    "\n",
    "# ploting model training results\n",
    "display(Markdown(\"### result\"))\n",
    "plot_model_training_history(history.history,accuracy=False)"
   ]
  },
  {
   "cell_type": "markdown",
   "metadata": {},
   "source": [
    "### Training 1D convnet with GRU"
   ]
  },
  {
   "cell_type": "code",
   "execution_count": 13,
   "metadata": {},
   "outputs": [
    {
     "name": "stdout",
     "output_type": "stream",
     "text": [
      "starting model training...\n",
      "_________________________________________________________________\n",
      "Layer (type)                 Output Shape              Param #   \n",
      "=================================================================\n",
      "conv1d_1 (Conv1D)            (None, None, 32)          2272      \n",
      "_________________________________________________________________\n",
      "max_pooling1d_1 (MaxPooling1 (None, None, 32)          0         \n",
      "_________________________________________________________________\n",
      "conv1d_2 (Conv1D)            (None, None, 32)          5152      \n",
      "_________________________________________________________________\n",
      "gru_5 (GRU)                  (None, 32)                6240      \n",
      "_________________________________________________________________\n",
      "dense_4 (Dense)              (None, 1)                 33        \n",
      "=================================================================\n",
      "Total params: 13,697\n",
      "Trainable params: 13,697\n",
      "Non-trainable params: 0\n",
      "_________________________________________________________________\n",
      "\n",
      "\n",
      "Epoch 1/20\n",
      "500/500 [==============================] - 58s 116ms/step - loss: 0.3468 - val_loss: 0.2964\n",
      "Epoch 2/20\n",
      "500/500 [==============================] - 56s 112ms/step - loss: 0.3115 - val_loss: 0.2884\n",
      "Epoch 3/20\n",
      "500/500 [==============================] - 56s 112ms/step - loss: 0.2970 - val_loss: 0.2825\n",
      "Epoch 4/20\n",
      "500/500 [==============================] - 56s 112ms/step - loss: 0.2847 - val_loss: 0.2887\n",
      "Epoch 5/20\n",
      "500/500 [==============================] - 56s 113ms/step - loss: 0.2781 - val_loss: 0.2840\n",
      "Epoch 6/20\n",
      "500/500 [==============================] - 56s 112ms/step - loss: 0.2713 - val_loss: 0.2877\n",
      "Epoch 7/20\n",
      "500/500 [==============================] - 56s 113ms/step - loss: 0.2654 - val_loss: 0.2953\n",
      "Epoch 8/20\n",
      "500/500 [==============================] - 56s 112ms/step - loss: 0.2593 - val_loss: 0.2936\n",
      "Epoch 9/20\n",
      "500/500 [==============================] - 57s 113ms/step - loss: 0.2545 - val_loss: 0.3067\n",
      "Epoch 10/20\n",
      "500/500 [==============================] - 56s 112ms/step - loss: 0.2492 - val_loss: 0.2979\n",
      "Epoch 11/20\n",
      "500/500 [==============================] - 56s 113ms/step - loss: 0.2461 - val_loss: 0.2996\n",
      "Epoch 12/20\n",
      "500/500 [==============================] - 56s 113ms/step - loss: 0.2420 - val_loss: 0.3027\n",
      "Epoch 13/20\n",
      "500/500 [==============================] - 56s 112ms/step - loss: 0.2380 - val_loss: 0.3018\n",
      "Epoch 14/20\n",
      "500/500 [==============================] - 56s 112ms/step - loss: 0.2348 - val_loss: 0.3153\n",
      "Epoch 15/20\n",
      "500/500 [==============================] - 55s 111ms/step - loss: 0.2315 - val_loss: 0.3089\n",
      "Epoch 16/20\n",
      "500/500 [==============================] - 56s 112ms/step - loss: 0.2280 - val_loss: 0.3064\n",
      "Epoch 17/20\n",
      "500/500 [==============================] - 56s 112ms/step - loss: 0.2263 - val_loss: 0.3078\n",
      "Epoch 18/20\n",
      "500/500 [==============================] - 56s 111ms/step - loss: 0.2237 - val_loss: 0.3183\n",
      "Epoch 19/20\n",
      "500/500 [==============================] - 56s 112ms/step - loss: 0.2215 - val_loss: 0.3184\n",
      "Epoch 20/20\n",
      "500/500 [==============================] - 56s 112ms/step - loss: 0.2184 - val_loss: 0.3195\n"
     ]
    },
    {
     "data": {
      "text/markdown": [
       "### result"
      ],
      "text/plain": [
       "<IPython.core.display.Markdown object>"
      ]
     },
     "metadata": {},
     "output_type": "display_data"
    },
    {
     "data": {
      "image/png": "[encoded data removed]",
      "text/plain": [
       "<Figure size 432x288 with 1 Axes>"
      ]
     },
     "metadata": {
      "needs_background": "light"
     },
     "output_type": "display_data"
    },
    {
     "data": {
      "text/plain": [
       "<Figure size 432x288 with 0 Axes>"
      ]
     },
     "metadata": {},
     "output_type": "display_data"
    }
   ],
   "source": [
    "print(\"starting model training...\")\n",
    "# model architecture and training\n",
    "\n",
    "model = Sequential()\n",
    "model.add(layers.Conv1D(32, 5, activation='relu',\n",
    "                        input_shape=(None, float_data.shape[-1])))\n",
    "model.add(layers.MaxPooling1D(3))\n",
    "model.add(layers.Conv1D(32, 5, activation='relu'))\n",
    "model.add(layers.GRU(32, dropout=0.1, recurrent_dropout=0.5))\n",
    "model.add(layers.Dense(1))\n",
    "model.summary()\n",
    "print(\"\\n\")\n",
    "\n",
    "model.compile(optimizer=RMSprop(), loss='mae')\n",
    "history = model.fit_generator(train_gen,\n",
    "                              steps_per_epoch=500,\n",
    "                              epochs=20,\n",
    "                              validation_data=val_gen,\n",
    "                              validation_steps=val_batches)\n",
    "\n",
    "# ploting model training results\n",
    "display(Markdown(\"### result\"))\n",
    "plot_model_training_history(history.history,accuracy=False)"
   ]
  },
  {
   "cell_type": "markdown",
   "metadata": {},
   "source": [
    "At this stage, there are still many other things you could try in order to improve \n",
    "performance on our weather forecasting problem:\n",
    "\n",
    "- Adjust the number of units in each recurrent layer in the stacked setup. \n",
    "Our current choices are largely arbitrary and thus likely suboptimal.\n",
    "\n",
    "- Adjust the learning rate used by our RMSprop optimizer. \n",
    "\n",
    "- Try using LSTM layers instead of GRU layers.\n",
    "\n",
    "- Try using a bigger densely-connected regressor on top of the recurrent layers, \n",
    "i.e. a bigger Dense layer or even a stack of Dense layers.\n",
    "\n",
    "- Don’t forget to eventually run the best performing models \n",
    "(in terms of validation MAE) on the test set! Least you start developing architectures \n",
    "that are overfitting to the validation set.\n"
   ]
  }
 ],
 "metadata": {
  "kernelspec": {
   "display_name": "Python 3",
   "language": "python",
   "name": "python3"
  },
  "language_info": {
   "codemirror_mode": {
    "name": "ipython",
    "version": 3
   },
   "file_extension": ".py",
   "mimetype": "text/x-python",
   "name": "python",
   "nbconvert_exporter": "python",
   "pygments_lexer": "ipython3",
   "version": "3.6.7"
  }
 },
 "nbformat": 4,
 "nbformat_minor": 2
}
