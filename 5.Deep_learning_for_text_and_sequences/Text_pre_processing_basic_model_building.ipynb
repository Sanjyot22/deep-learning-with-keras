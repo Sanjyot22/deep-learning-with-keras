{
 "cells": [
  {
   "cell_type": "markdown",
   "metadata": {},
   "source": [
    "## TEXT DATA ENCODING AND BASIC NEURAL NETWORK BUILDING"
   ]
  },
  {
   "cell_type": "code",
   "execution_count": 1,
   "metadata": {},
   "outputs": [
    {
     "name": "stderr",
     "output_type": "stream",
     "text": [
      "Using TensorFlow backend.\n"
     ]
    }
   ],
   "source": [
    "#imports\n",
    "\n",
    "# general imports\n",
    "from IPython.display import display, Markdown #just to display markdown\n",
    "import numpy as np  #for vector operation\n",
    "import string   # provides strings variations for character embedding\n",
    "import os\n",
    "\n",
    "# keras imports\n",
    "os.environ[\"TF_CPP_MIN_LOG_LEVEL\"]=\"3\" # avoids tensorflow warning message\n",
    "from keras.preprocessing.text import Tokenizer\n",
    "from keras.preprocessing.sequence import pad_sequences\n",
    "from keras.layers import Embedding\n",
    "from keras.datasets import imdb\n",
    "from keras.models import Sequential\n",
    "from keras.layers import Flatten, Dense\n",
    "\n",
    "# visualiaztion imports\n",
    "%matplotlib inline\n",
    "import matplotlib.pyplot as plt"
   ]
  },
  {
   "cell_type": "markdown",
   "metadata": {},
   "source": [
    "## Understanding text encoding\n",
    "\n",
    "### Sample texts"
   ]
  },
  {
   "cell_type": "code",
   "execution_count": 2,
   "metadata": {},
   "outputs": [
    {
     "data": {
      "text/plain": [
       "['The cat sat on the mat', ' The dog ate my homework']"
      ]
     },
     "execution_count": 2,
     "metadata": {},
     "output_type": "execute_result"
    }
   ],
   "source": [
    "#creating sample text\n",
    "samples = [\"The cat sat on the mat\", \" The dog ate my homework\"] \n",
    "samples"
   ]
  },
  {
   "cell_type": "markdown",
   "metadata": {},
   "source": [
    "### Word level one hot encoding"
   ]
  },
  {
   "cell_type": "code",
   "execution_count": 3,
   "metadata": {},
   "outputs": [
    {
     "name": "stdout",
     "output_type": "stream",
     "text": [
      "\n",
      "Starting to create token_index for every distinct vocabulary\n",
      "token_index created.\n",
      "\n",
      "\n",
      "Starting to create sentence vector using token_index\n",
      "sentences vectorised.\n",
      "\n"
     ]
    },
    {
     "data": {
      "text/markdown": [
       "#### created word index's for sentence encoding"
      ],
      "text/plain": [
       "<IPython.core.display.Markdown object>"
      ]
     },
     "metadata": {},
     "output_type": "display_data"
    },
    {
     "name": "stdout",
     "output_type": "stream",
     "text": [
      "{'The': 1, 'cat': 2, 'sat': 3, 'on': 4, 'the': 5, 'mat': 6, 'dog': 7, 'ate': 8, 'my': 9, 'homework': 10}\n"
     ]
    },
    {
     "data": {
      "text/markdown": [
       "#### result"
      ],
      "text/plain": [
       "<IPython.core.display.Markdown object>"
      ]
     },
     "metadata": {},
     "output_type": "display_data"
    },
    {
     "name": "stdout",
     "output_type": "stream",
     "text": [
      "Output shape (2, 11)\n",
      "# sample:2,  specified max length:2,  # vocabulary:11\n",
      "\n",
      "[[0. 1. 1. 1. 1. 1. 1. 0. 0. 0. 0.]\n",
      " [0. 1. 0. 0. 0. 0. 0. 1. 1. 1. 1.]]\n",
      "\n",
      "Note:  In the final result, index of each element in the vectors denotes the eoncoding of the words.\n",
      "       \"0\"/\"1\" denote presence of a vocabulary\n",
      "\n"
     ]
    }
   ],
   "source": [
    "#initializing word-encoding dictionary\n",
    "token_index = {} \n",
    "\n",
    "def word_one_hot_embeddings(text_samples,max_sentence_length=8):\n",
    "    \"\"\"\n",
    "        # Creating sentence vectors by represent each word as a vector\n",
    "        # word as a vector: vector of length of vocabulary, with \"1\" for that specified word and zero elsewhere\n",
    "    \"\"\"\n",
    "\n",
    "    # Encoding words in the corpus\n",
    "    print(\"\\nStarting to create token_index for every distinct vocabulary\")\n",
    "    for sample in text_samples:\n",
    "        for word in sample.split():\n",
    "            if word not in token_index.keys():\n",
    "                token_index[word] = len(token_index) + 1\n",
    "    print(\"token_index created.\\n\")\n",
    "\n",
    "    # Word level one hot encoding\n",
    "    print(\"\\nStarting to create sentence vector using token_index\")\n",
    "    results = np.zeros(shape=(len(text_samples),len(token_index)+1))\n",
    "    for i , sample in enumerate(text_samples):\n",
    "        for j , word in enumerate(sample.split()):\n",
    "            index_ = token_index[word]\n",
    "            results[i,index_] = 1\n",
    "    print(\"sentences vectorised.\\n\")\n",
    "    return (results)\n",
    "\n",
    "word_level_vectorised_sample = word_one_hot_embeddings(text_samples=samples,max_sentence_length=8)\n",
    "shape = (word_level_vectorised_sample.shape)\n",
    "\n",
    "\n",
    "\n",
    "display(Markdown(\"#### created word index's for sentence encoding\"))\n",
    "print (token_index)\n",
    "\n",
    "display(Markdown(\"#### result\"))\n",
    "print(\"Output shape {}\".format(word_level_vectorised_sample.shape))\n",
    "print(\"# sample:{},  specified max length:{},  # vocabulary:{}\\n\".format(len(samples),shape[0],shape[1]))\n",
    "print(word_level_vectorised_sample)\n",
    "\n",
    "print(\n",
    "\"\"\"\n",
    "Note:  In the final result, index of each element in the vectors denotes the eoncoding of the words.\n",
    "       \"0\"/\"1\" denote presence of a vocabulary\n",
    "\"\"\"\n",
    ")"
   ]
  },
  {
   "cell_type": "markdown",
   "metadata": {},
   "source": [
    "### WORD LEVEL ONE HOT ENCODING - keras "
   ]
  },
  {
   "cell_type": "code",
   "execution_count": 4,
   "metadata": {},
   "outputs": [
    {
     "data": {
      "text/markdown": [
       "#### sentence encoding results"
      ],
      "text/plain": [
       "<IPython.core.display.Markdown object>"
      ]
     },
     "metadata": {},
     "output_type": "display_data"
    },
    {
     "name": "stdout",
     "output_type": "stream",
     "text": [
      "[[1, 2, 3, 4, 1, 5], [1, 6, 7, 8, 9]]\n"
     ]
    },
    {
     "data": {
      "text/markdown": [
       "#### created word index's for sentence encoding"
      ],
      "text/plain": [
       "<IPython.core.display.Markdown object>"
      ]
     },
     "metadata": {},
     "output_type": "display_data"
    },
    {
     "name": "stdout",
     "output_type": "stream",
     "text": [
      "{'the': 1, 'cat': 2, 'sat': 3, 'on': 4, 'mat': 5, 'dog': 6, 'ate': 7, 'my': 8, 'homework': 9}\n"
     ]
    },
    {
     "data": {
      "text/markdown": [
       "#### result"
      ],
      "text/plain": [
       "<IPython.core.display.Markdown object>"
      ]
     },
     "metadata": {},
     "output_type": "display_data"
    },
    {
     "name": "stdout",
     "output_type": "stream",
     "text": [
      "Output shape (2, 10)\n",
      "# sample:2,  specified max length:2,  # vocabulary:10\n",
      "\n",
      "[[0. 1. 1. 1. 1. 1. 0. 0. 0. 0.]\n",
      " [0. 1. 0. 0. 0. 0. 1. 1. 1. 1.]]\n",
      "\n",
      "Note:  In the final result, index of each element in the vectors denotes the eoncoding of the words.\n",
      "       \"0\"/\"1\" denote presence of a vocabulary\n",
      "\n"
     ]
    }
   ],
   "source": [
    "# One-hot encoding using keras\n",
    "from keras.preprocessing.text import Tokenizer\n",
    "from keras.preprocessing.text import Tokenizer\n",
    "\n",
    "tokenizer = Tokenizer(num_words=len (token_index))\n",
    "tokenizer.fit_on_texts(samples)\n",
    "\n",
    "sequences = tokenizer.texts_to_sequences(samples) # sentence encoding\n",
    "one_hot_results = tokenizer.texts_to_matrix(samples,mode='binary') # creating one hot results\n",
    "shape = (one_hot_results.shape)\n",
    "\n",
    "word_index = tokenizer.word_index\n",
    "one_hot_results\n",
    "\n",
    "display(Markdown(\"#### sentence encoding results\"))\n",
    "print (sequences)\n",
    "display(Markdown(\"#### created word index's for sentence encoding\"))\n",
    "print (word_index)\n",
    "\n",
    "\n",
    "\n",
    "display(Markdown(\"#### result\"))\n",
    "print(\"Output shape {}\".format(one_hot_results.shape))\n",
    "print(\"# sample:{},  specified max length:{},  # vocabulary:{}\\n\".format(len(samples),shape[0],shape[1]))\n",
    "print (one_hot_results)\n",
    "\n",
    "print(\n",
    "\"\"\"\n",
    "Note:  In the final result, index of each element in the vectors denotes the eoncoding of the words.\n",
    "       \"0\"/\"1\" denote presence of a vocabulary\n",
    "\"\"\"\n",
    ")"
   ]
  },
  {
   "cell_type": "markdown",
   "metadata": {},
   "source": [
    "### CHARACTER LEVEL ONE HOT ENCODING "
   ]
  },
  {
   "cell_type": "code",
   "execution_count": 5,
   "metadata": {},
   "outputs": [
    {
     "data": {
      "text/markdown": [
       "#### characters used for encoding"
      ],
      "text/plain": [
       "<IPython.core.display.Markdown object>"
      ]
     },
     "metadata": {},
     "output_type": "display_data"
    },
    {
     "name": "stdout",
     "output_type": "stream",
     "text": [
      "100 distinct character vocab present\n",
      "Character level indexing\n",
      "{'0': 1, '1': 2, '2': 3, '3': 4, '4': 5, '5': 6, '6': 7, '7': 8, '8': 9, '9': 10, 'a': 11, 'b': 12, 'c': 13, 'd': 14, 'e': 15, 'f': 16, 'g': 17, 'h': 18, 'i': 19, 'j': 20, 'k': 21, 'l': 22, 'm': 23, 'n': 24, 'o': 25, 'p': 26, 'q': 27, 'r': 28, 's': 29, 't': 30, 'u': 31, 'v': 32, 'w': 33, 'x': 34, 'y': 35, 'z': 36, 'A': 37, 'B': 38, 'C': 39, 'D': 40, 'E': 41, 'F': 42, 'G': 43, 'H': 44, 'I': 45, 'J': 46, 'K': 47, 'L': 48, 'M': 49, 'N': 50, 'O': 51, 'P': 52, 'Q': 53, 'R': 54, 'S': 55, 'T': 56, 'U': 57, 'V': 58, 'W': 59, 'X': 60, 'Y': 61, 'Z': 62, '!': 63, '\"': 64, '#': 65, '$': 66, '%': 67, '&': 68, \"'\": 69, '(': 70, ')': 71, '*': 72, '+': 73, ',': 74, '-': 75, '.': 76, '/': 77, ':': 78, ';': 79, '<': 80, '=': 81, '>': 82, '?': 83, '@': 84, '[': 85, '\\\\': 86, ']': 87, '^': 88, '_': 89, '`': 90, '{': 91, '|': 92, '}': 93, '~': 94, ' ': 95, '\\t': 96, '\\n': 97, '\\r': 98, '\\x0b': 99, '\\x0c': 100} \n",
      "\n"
     ]
    },
    {
     "data": {
      "text/markdown": [
       "#### result"
      ],
      "text/plain": [
       "<IPython.core.display.Markdown object>"
      ]
     },
     "metadata": {},
     "output_type": "display_data"
    },
    {
     "name": "stdout",
     "output_type": "stream",
     "text": [
      "Output shape (2, 30, 101)\n",
      "# sample:2,  specified max length:30,  # vocabulary:101\n",
      "\n",
      "[[[0. 0. 0. ... 0. 0. 0.]\n",
      "  [0. 0. 0. ... 0. 0. 0.]\n",
      "  [0. 0. 0. ... 0. 0. 0.]\n",
      "  ...\n",
      "  [0. 0. 0. ... 0. 0. 0.]\n",
      "  [0. 0. 0. ... 0. 0. 0.]\n",
      "  [0. 0. 0. ... 0. 0. 0.]]\n",
      "\n",
      " [[0. 0. 0. ... 0. 0. 0.]\n",
      "  [0. 0. 0. ... 0. 0. 0.]\n",
      "  [0. 0. 0. ... 0. 0. 0.]\n",
      "  ...\n",
      "  [0. 0. 0. ... 0. 0. 0.]\n",
      "  [0. 0. 0. ... 0. 0. 0.]\n",
      "  [0. 0. 0. ... 0. 0. 0.]]]\n"
     ]
    }
   ],
   "source": [
    "def character_one_hot_embeddings(characters,max_sentence_length_in_characters=30):\n",
    "    \"\"\"\n",
    "        # Creating sentence vectors by using character level encoding\n",
    "    \"\"\"\n",
    "    character_index =  dict(zip(characters,(range(1,len(characters)+1))))\n",
    "    results = np.zeros(shape=(len(samples),max_sentence_length_in_characters,len(characters)+1))\n",
    "\n",
    "    for i , sample in enumerate(samples):\n",
    "        #print (sample)\n",
    "        for j , character in enumerate(sample):\n",
    "            #print (i,j,character_index.get(character),character)\n",
    "            results[i,j,character_index.get(character)] = 1\n",
    "    return (results,character_index)\n",
    "            \n",
    "characters = string.printable\n",
    "char_level_vectorised_sample, character_index = character_one_hot_embeddings(characters)\n",
    "shape = (char_level_vectorised_sample.shape)\n",
    "\n",
    "display(Markdown(\"#### characters used for encoding\"))\n",
    "print (\"{} distinct character vocab present\".format(len(characters)))\n",
    "print (\"Character level indexing\")\n",
    "print(character_index,\"\\n\")\n",
    "\n",
    "\n",
    "display(Markdown(\"#### result\"))\n",
    "print(\"Output shape {}\".format(char_level_vectorised_sample.shape))\n",
    "print(\"# sample:{},  specified max length:{},  # vocabulary:{}\\n\".format(shape[0],shape[1],shape[2]))\n",
    "print(char_level_vectorised_sample)"
   ]
  },
  {
   "cell_type": "markdown",
   "metadata": {},
   "source": [
    "### Word level one hot encoding using hashing"
   ]
  },
  {
   "cell_type": "code",
   "execution_count": 6,
   "metadata": {},
   "outputs": [
    {
     "data": {
      "text/markdown": [
       "#### result"
      ],
      "text/plain": [
       "<IPython.core.display.Markdown object>"
      ]
     },
     "metadata": {},
     "output_type": "display_data"
    },
    {
     "data": {
      "text/plain": [
       "array([[0., 0., 0., 1., 0., 0., 0., 1., 1., 1.],\n",
       "       [0., 1., 1., 0., 0., 0., 1., 0., 0., 1.]])"
      ]
     },
     "execution_count": 6,
     "metadata": {},
     "output_type": "execute_result"
    }
   ],
   "source": [
    "dimensionality = len(token_index)\n",
    "max_length = 10\n",
    "\n",
    "results = np.zeros((len(samples),dimensionality))\n",
    "for i, sample in enumerate(samples):\n",
    "    for j, word in list(enumerate(sample.split()))[:max_length]:\n",
    "        index= abs(hash(word)% dimensionality)\n",
    "        results[i, index] =1\n",
    "        \n",
    "display(Markdown(\"#### result\"))\n",
    "results"
   ]
  },
  {
   "cell_type": "markdown",
   "metadata": {},
   "source": [
    "## UNDERSTANDING WORD EMBEDDING WITH EMBEDDING LAYER\n",
    "\n",
    "### imdb dataset preparation"
   ]
  },
  {
   "cell_type": "code",
   "execution_count": 15,
   "metadata": {},
   "outputs": [
    {
     "name": "stdout",
     "output_type": "stream",
     "text": [
      "Raw data\n",
      "\n",
      "Raw text ['Trying to conceive of something as insipid as THE SENTINEL would be pretty difficult. The problems are many. The result is terrible and loaded with plot holes.<br /><br />Michael Douglas stars as Pete Garrison, a Secret Service agent who \"took one\" for Reagan during the attempt on his life. Years later we find Pete assigned to the Whitehouse Family, mainly as a guard for the First Lady (Kim Basinger, L.A. CONFIDENTIAL). Troubles arise as we see Pete\\'s close involvement with the First Lady, and a sudden threat against the President himself (David Rasche, UNITED 93). When Pete fails a polygraph test, he\\'s singled out as a disgruntled agent by investigator David Breckinridge (Kiefer Sutherland, 24 TV series).<br /><br />As the presidential assassination plot unfolds, Pete finds himself on the run from his own people. His only confidant is the First Lady, and she\\'s reluctant to tell anyone about their affections for one another (which is why Pete failed the polygraph in the first place). But is Pete really innocent? Or is he simply trying to buy time until he can kill the President? If he is innocent, how can he help prevent the assassination attempt while running from the Secret Service? <br /><br />The one, big, overwhelming problem with this film is that there\\'s no justification for the reason behind the presidential threat. Isn\\'t that what the movie\\'s supposed to be about? One would think so! But the audience is never let in on why the assassin(s) want to kill the Prez. Hmm. Someone forget to put that in the script somewhere? <br /><br />And what\\'s with David Breckinridge\\'s (Kiefer\\'s) new partner, Jill Marin (Eva Longoria, CARLITA\\'S WAY)? Seems that she was put in the film strictly as a piece of a$$-candy. What was her purpose again? Did she do anything other than look nice in tight pants and a low-cut blouse?<br /><br />There are so many problems with the basic premise of The Sentinel as to be laughable. The action is too easily stymied by the \"What the...?\" responses sure to be uttered by those unfortunate enough to watch the movie.', 'I chose to see this movie because it got a good score here on IMDb. But a lot of people either have really poor taste or someone\\'s been fixing the score.<br /><br />Either way it was a real disappointment. The movie is exactly as stupid and far fetched as the title would suggest. There really is no reason to give a summary of the plot - but here goes: it felt like someone had been thinking: \"Wouldn\\'t it be cool to make a movie where there were snakes on a plane? And then the snakes for some reason would go crazy and start biting and stuff?!?\" And that\\'s about it! The plot is thin and unoriginal. The snakes are bad CGI (but it makes sense to cut corners on a movie that no one in their right mind will recommend to anyone!). The acting is poor, and all people are unbelievable stereo types.<br /><br />To sum it up: It\\'s one of the worst movies I\\'ve ever seen - stay away!']\n",
      "\n",
      "text labels [0, 0]\n",
      "\n"
     ]
    },
    {
     "data": {
      "text/markdown": [
       "#### creating word embedding on imdb dataset"
      ],
      "text/plain": [
       "<IPython.core.display.Markdown object>"
      ]
     },
     "metadata": {},
     "output_type": "display_data"
    },
    {
     "name": "stdout",
     "output_type": "stream",
     "text": [
      "Found 88582 unique token.\n",
      "\n",
      "After data preprocessing\n",
      " # Training samples 200, # Testing samples 10000\n",
      "\n",
      "Word encoded imdb review data\n",
      "[[ 140    1    4   49 2169  578 1891   53 3321 6335 1423 5304 1232 1029\n",
      "     2    1 4596    4    1 2269    7    7   42    3   62  576   16  651\n",
      "   480    2 1870 1268   12    6  835    5  110 6269   31    1  595   29\n",
      "  2160  563  174   42   28    4  145  492  118    9   63  284  140   12\n",
      "   313  572  185    3 1966   43    4  653  170   42   79  250 7583   48\n",
      "  1512 2788   24  226  212   25   74   37    7    7   35    8 1172    9\n",
      "     6   22   77 1143    1 1282    4   11   19  891  126  333  801    5\n",
      "  1896   22]\n",
      " [  15   24 1938    7    7  441 1900 3556 5778    8   32 1012    7    7\n",
      "   720 1313    2 1615    1 5557 4312  765 2814  426    1 2968    2  624\n",
      "  1840    2 1018 9457    8    3 5439 1012    7    7 1374 9256 5778    5\n",
      "  9686    1  175  422    8    3  539 1012    7    7 5671 5778 2004 5336\n",
      "     5 9686    1 4956    7    7    1 8075 1557    1    8    3  391 1012\n",
      "     7    7    1 9442 5778  440 4244    8    3  233 1359 1012    7    7\n",
      "   304 7791    2 5778  708 9254    2    8   32 4357 1012    7    7  441\n",
      "  1239  500]]\n",
      "\n",
      "Imdb review data lables\n",
      "[1 1]\n",
      "\n",
      "Note:  \n",
      "0 : \"Negative review\"\n",
      "1 : \"Positive review\"\n",
      "\n"
     ]
    }
   ],
   "source": [
    "# loading the IMDB dataset\n",
    "\n",
    "# download the dataset from \"ai.stanford.edu/~amaas/data/sentiment/\" \n",
    "# extract the dataset \n",
    "\n",
    "imdb_dir = \"/home/sj-ai-lsb/Documents/datasets/aclImdb\" # actual path to imdb dataset folder\n",
    "train_dir = os.path.join(imdb_dir,\"train\")\n",
    "\n",
    "\n",
    "# collecting text from each file \n",
    "# collecting corresponding text labels\n",
    "labels = []\n",
    "texts = []\n",
    "for label_type in ['neg', 'pos']:\n",
    "    dir_name = os.path.join(train_dir, label_type)\n",
    "    for fname in os.listdir(dir_name):\n",
    "         if fname[-4:] == '.txt':\n",
    "                f = open(os.path.join(dir_name, fname))\n",
    "                texts.append(f.read())\n",
    "                f.close()\n",
    "                if label_type == 'neg':\n",
    "                    labels.append(0)\n",
    "                else:\n",
    "                    labels.append(1)\n",
    "\n",
    "print (\"Raw data\\n\")\n",
    "\n",
    "print (\"Raw text {}\\n\".format(texts[:2]))\n",
    "print (\"text labels {}\\n\".format(labels[:2]))\n",
    "\n",
    "\n",
    "display(Markdown(\"#### creating word embedding on imdb dataset\"))\n",
    "\n",
    "# pre-processing initializations\n",
    "n_vocab = 10000 # max number of distinct vocabulary (top 10,000)\n",
    "max_sentence_length = 100  # Cuts a review after 100 words\n",
    "training_samples = 200 # number of training examples\n",
    "validation_samples = 10000 # number of validation examples\n",
    "\n",
    "# pre-processing dataset\n",
    "\n",
    "# starting to create word emdedding\n",
    "\n",
    "# building tokenizer (keras object that holds index_to_word dictionary, n_vocab, etc parameters)\n",
    "tokenizer = Tokenizer(num_words=n_vocab)\n",
    "tokenizer.fit_on_texts(texts) # feeding the text data to tokenizer\n",
    "\n",
    "# creating word vectors using keras tokenizer & cutting each sentence after 100 words\n",
    "sequences = tokenizer.texts_to_sequences(texts) \n",
    "sequences_padded = pad_sequences(sequences,maxlen=max_sentence_length) # default paddind is \"pre\" in keras\n",
    "word_index = tokenizer.word_index # word_to_index mappind dictionary\n",
    "\n",
    "print (\"Found {} unique token.\\n\".format(len(word_index)) )\n",
    "\n",
    "# training and testind data split\n",
    "indices = np.arange(sequences_padded.shape[0])\n",
    "np.random.shuffle(indices)\n",
    "sequences_padded = sequences_padded[indices]\n",
    "labels = np.asarray(labels)[indices]\n",
    "x_train = sequences_padded[:training_samples]\n",
    "y_train = labels[:training_samples]\n",
    "x_val = sequences_padded[training_samples: training_samples + validation_samples]\n",
    "y_val = labels[training_samples: training_samples + validation_samples]\n",
    "\n",
    "print (\"After data preprocessing\")\n",
    "print(\" # Training samples {}, # Testing samples {}\\n\".format(x_train.shape[0],x_val.shape[0]))\n",
    "print(\"Word encoded imdb review data\")\n",
    "print(x_train[:2])\n",
    "\n",
    "print(\"\\nImdb review data lables\")\n",
    "print(y_train[:2])\n",
    "print(\n",
    "\"\"\"\n",
    "Note:  \n",
    "0 : \"Negative review\"\n",
    "1 : \"Positive review\"\n",
    "\"\"\"\n",
    ")"
   ]
  },
  {
   "cell_type": "code",
   "execution_count": 26,
   "metadata": {},
   "outputs": [],
   "source": [
    "# function to plot model training logs\n",
    "def plot_model_training_history(history_dict, plot_val=True,chart_type=\"--o\"):\n",
    "    acc = history_dict['acc']\n",
    "    loss = history_dict['loss']\n",
    "    \n",
    "    if plot_val:\n",
    "        val_acc = history_dict['val_acc']\n",
    "        val_loss = history_dict['val_loss']\n",
    "    epochs = range(1, len(acc) + 1)\n",
    "\n",
    "    # visualize model training\n",
    "    epochs = range(1, len(acc) + 1)\n",
    "    fig, axs = plt.subplots(1, 2,figsize=(15,5))\n",
    "    axs[0].plot(epochs, loss, chart_type, label='Training loss')\n",
    "    if plot_val:\n",
    "        axs[0].plot(epochs, val_loss, chart_type, label='Validation loss')\n",
    "        axs[0].set_title('training & validation loss')\n",
    "    else:\n",
    "        axs[0].set_title('training loss')\n",
    "    axs[0].legend()\n",
    "    \n",
    "    axs[1].plot(epochs, acc, chart_type, label='Training acc')\n",
    "    if plot_val:\n",
    "        axs[1].plot(epochs, val_acc, chart_type, label='Validation acc')\n",
    "        axs[1].set_title('training & validation accuracy')                      \n",
    "    else:\n",
    "        axs[1].set_title('training accuracy')                      \n",
    "    axs[1].legend()\n",
    "    plt.show()\n",
    "    plt.close()"
   ]
  },
  {
   "cell_type": "markdown",
   "metadata": {},
   "source": [
    "### Building a sequential model using embedding layer"
   ]
  },
  {
   "cell_type": "code",
   "execution_count": 27,
   "metadata": {},
   "outputs": [
    {
     "name": "stdout",
     "output_type": "stream",
     "text": [
      "_________________________________________________________________\n",
      "Layer (type)                 Output Shape              Param #   \n",
      "=================================================================\n",
      "embedding_8 (Embedding)      (None, 100, 8)            80000     \n",
      "_________________________________________________________________\n",
      "flatten_8 (Flatten)          (None, 800)               0         \n",
      "_________________________________________________________________\n",
      "dense_10 (Dense)             (None, 1)                 801       \n",
      "=================================================================\n",
      "Total params: 80,801\n",
      "Trainable params: 80,801\n",
      "Non-trainable params: 0\n",
      "_________________________________________________________________\n",
      "Train on 200 samples, validate on 10000 samples\n",
      "Epoch 1/10\n",
      "200/200 [==============================] - 1s 4ms/step - loss: 0.6929 - acc: 0.5050 - val_loss: 0.6938 - val_acc: 0.4918\n",
      "Epoch 2/10\n",
      "200/200 [==============================] - 0s 2ms/step - loss: 0.6685 - acc: 0.8350 - val_loss: 0.6939 - val_acc: 0.4898\n",
      "Epoch 3/10\n",
      "200/200 [==============================] - 0s 2ms/step - loss: 0.6508 - acc: 0.9300 - val_loss: 0.6939 - val_acc: 0.4931\n",
      "Epoch 4/10\n",
      "200/200 [==============================] - 0s 2ms/step - loss: 0.6339 - acc: 0.9600 - val_loss: 0.6938 - val_acc: 0.4937\n",
      "Epoch 5/10\n",
      "200/200 [==============================] - 0s 2ms/step - loss: 0.6161 - acc: 0.9950 - val_loss: 0.6938 - val_acc: 0.4974\n",
      "Epoch 6/10\n",
      "200/200 [==============================] - 0s 2ms/step - loss: 0.5972 - acc: 0.9950 - val_loss: 0.6938 - val_acc: 0.4988\n",
      "Epoch 7/10\n",
      "200/200 [==============================] - 0s 2ms/step - loss: 0.5768 - acc: 1.0000 - val_loss: 0.6938 - val_acc: 0.5006\n",
      "Epoch 8/10\n",
      "200/200 [==============================] - 0s 2ms/step - loss: 0.5555 - acc: 1.0000 - val_loss: 0.6938 - val_acc: 0.5021\n",
      "Epoch 9/10\n",
      "200/200 [==============================] - 0s 2ms/step - loss: 0.5325 - acc: 1.0000 - val_loss: 0.6939 - val_acc: 0.5049\n",
      "Epoch 10/10\n",
      "200/200 [==============================] - 0s 2ms/step - loss: 0.5086 - acc: 1.0000 - val_loss: 0.6940 - val_acc: 0.5042\n"
     ]
    },
    {
     "data": {
      "text/markdown": [
       "#### result"
      ],
      "text/plain": [
       "<IPython.core.display.Markdown object>"
      ]
     },
     "metadata": {},
     "output_type": "display_data"
    },
    {
     "data": {
      "image/png": "[encoded data removed]",
      "text/plain": [
       "<Figure size 1080x360 with 2 Axes>"
      ]
     },
     "metadata": {
      "needs_background": "light"
     },
     "output_type": "display_data"
    }
   ],
   "source": [
    "# pre-training initializations\n",
    "max_sentence_length = max_sentence_length  # max sentence length taken from imdb dataset preparation stage\n",
    "\n",
    "#embedding layer initializations\n",
    "n_vocab_embedding_layer = n_vocab\n",
    "size_of_word_vector = 8\n",
    "\n",
    "## Embedding layer is trainable layer. It is best understood as a dictionary \n",
    "## that maps integer indices (which stands for specific words) to a dense vectors\n",
    "\n",
    "# Creating a 1 layer neural network\n",
    "model = Sequential()\n",
    "model.add(Embedding(n_vocab_embedding_layer,size_of_word_vector,input_length=max_sentence_length)) \n",
    "model.add(Flatten())\n",
    "model.add(Dense(1,activation='sigmoid'))\n",
    "model.compile(optimizer=\"rmsprop\",loss=\"binary_crossentropy\",metrics=[\"acc\"])\n",
    "model.summary()\n",
    "\n",
    "# Starting model training\n",
    "history = model.fit(x_train,y_train,\n",
    "                   epochs = 10,\n",
    "                    batch_size = 32,\n",
    "                    validation_data=(x_val,y_val)\n",
    "                   )\n",
    "\n",
    "# ploting model training results\n",
    "display(Markdown(\"#### result\"))\n",
    "plot_model_training_history(history.history)"
   ]
  },
  {
   "cell_type": "markdown",
   "metadata": {},
   "source": [
    "## USING GLOVE PRE-TRAINED EMBEDDING FOR EMBEDDING MATRIX\n",
    "\n",
    "Head to http://nlp.stanford.edu/projects/glove/ and download the pre-computed embeddings from 2014 English\n",
    "Wikipedia. It’s a 822MB zip file named , containing 100-dimensional glove.6B.zip\n",
    "embedding vectors for 400,000 words (or non-word tokens). Un-zip it."
   ]
  },
  {
   "cell_type": "code",
   "execution_count": 28,
   "metadata": {},
   "outputs": [
    {
     "name": "stdout",
     "output_type": "stream",
     "text": [
      "Found 400000 word vectors in pretrained glove embedding.\n"
     ]
    },
    {
     "data": {
      "text/markdown": [
       "### result"
      ],
      "text/plain": [
       "<IPython.core.display.Markdown object>"
      ]
     },
     "metadata": {},
     "output_type": "display_data"
    },
    {
     "name": "stdout",
     "output_type": "stream",
     "text": [
      "shape of created word-embedding layer : (10000, 100)\n",
      "\n",
      "sample representation of encoded words using glove pre-trained embedding\n",
      "[[-0.071953    0.23127     0.023731   -0.50638002  0.33923     0.19589999\n",
      "  -0.32943001  0.18364    -0.18057001  0.28963     0.20448001 -0.54960001\n",
      "   0.27399001  0.58327001  0.20468    -0.49228001  0.19973999 -0.070237\n",
      "  -0.88049001  0.29484999  0.14071    -0.1009      0.99449003  0.36973\n",
      "   0.44554001  0.28997999 -0.1376     -0.56365001 -0.029365   -0.4122\n",
      "  -0.25268999  0.63181001 -0.44767001  0.24363001 -0.10813     0.25163999\n",
      "   0.46967     0.37549999 -0.23613    -0.14128999 -0.44536999 -0.65736997\n",
      "  -0.042421   -0.28636    -0.28810999  0.063766    0.20281    -0.53542\n",
      "   0.41306999 -0.59722    -0.38613999  0.19389001 -0.17809001  1.66180003\n",
      "  -0.011819   -2.3736999   0.058427   -0.26980001  1.2823      0.81924999\n",
      "  -0.22322001  0.72931999 -0.053211    0.43507001  0.85010999 -0.42934999\n",
      "   0.92663997  0.39050999  1.05850005 -0.24561    -0.18265    -0.53280002\n",
      "   0.059518   -0.66018999  0.18990999  0.28836    -0.24339999  0.52784002\n",
      "  -0.65762001 -0.14081     1.04910004  0.51340002 -0.23816     0.69894999\n",
      "  -1.4813     -0.24869999 -0.17936    -0.059137   -0.08056    -0.48782\n",
      "   0.014487   -0.62589997 -0.32367     0.41861999 -1.08070004  0.46742001\n",
      "  -0.49930999 -0.71894997  0.86894     0.19539   ]\n",
      " [-0.27085999  0.044006   -0.02026    -0.17395     0.6444      0.71213001\n",
      "   0.35510001  0.47138    -0.29637     0.54426998 -0.72294003 -0.0047612\n",
      "   0.040611    0.043236    0.29729     0.10725     0.40156001 -0.53662002\n",
      "   0.033382    0.067396    0.64556003 -0.085523    0.14103     0.094539\n",
      "   0.74947    -0.19400001 -0.68739003 -0.41740999 -0.22807001  0.12\n",
      "  -0.48999     0.80944997  0.045138   -0.11898     0.20161     0.39276001\n",
      "  -0.20121001  0.31354001  0.75304002  0.25907001 -0.11566    -0.029319\n",
      "   0.93498999 -0.36067     0.52420002  0.23706     0.52714998  0.22869\n",
      "  -0.51958001 -0.79348999 -0.20367999 -0.50186998  0.18748     0.94282001\n",
      "  -0.44834    -3.67919993  0.044183   -0.26751     2.19970012  0.241\n",
      "  -0.033425    0.69553    -0.64472002 -0.0072277   0.89574999  0.20015\n",
      "   0.46493     0.61932999 -0.1066      0.08691    -0.4623      0.18262\n",
      "  -0.15849     0.020791    0.19373     0.063426   -0.31672999 -0.48177001\n",
      "  -1.38479996  0.13669001  0.96859002  0.049965   -0.27379999 -0.035686\n",
      "  -1.05770004 -0.24467     0.90366    -0.12442     0.080776   -0.83401\n",
      "   0.57200998  0.088945   -0.42532    -0.018253   -0.079995   -0.28580999\n",
      "  -0.01089    -0.4923      0.63687003  0.23642001]]\n"
     ]
    }
   ],
   "source": [
    "#loading data from glove embedding to dict\n",
    "embeddings_index = {}\n",
    "f = open(\"/home/sj-ai-lsb/Documents/datasets/glove.6B/glove.6B.100d.txt\")\n",
    "for line in f:\n",
    "    values = line.split()\n",
    "    word = values[0]\n",
    "    coefs = np.asarray(values[1:], dtype='float32')\n",
    "    embeddings_index[word] = coefs\n",
    "f.close()\n",
    "print('Found %s word vectors in pretrained glove embedding.' % len(embeddings_index))\n",
    "\n",
    "# preparing glove word-embedding matrix\n",
    "max_sentence_length = 100  # Cuts a review after 100 words\n",
    "embedding_dim = 100   # word - vector size as taken from glove embedding\n",
    "word_index = word_index # word_index taken from imdb dataset preparation stage\n",
    "n_vocab_embedding_layer = n_vocab # max vacabulory size taken from imdb dataset preparation stage\n",
    "embedding_matrix = np.zeros((n_vocab_embedding_layer, embedding_dim)) # embedding matrix initialization\n",
    "\n",
    "for word, i in word_index.items(): \n",
    "    embedding_vector = embeddings_index.get(word)\n",
    "    if i < n_vocab_embedding_layer:\n",
    "        if embedding_vector is not None:\n",
    "                embedding_matrix[i] = embedding_vector #Words not found in embedding index will be all-zeros.\n",
    "\n",
    "display(Markdown(\"### result\"))\n",
    "print(\"shape of created word-embedding layer : {}\\n\".format(embedding_matrix.shape))\n",
    "print(\"sample representation of encoded words using glove pre-trained embedding\")\n",
    "print(embedding_matrix[2:4])"
   ]
  },
  {
   "cell_type": "markdown",
   "metadata": {},
   "source": [
    "### Building a sequential model using glove embeding in embedding layer"
   ]
  },
  {
   "cell_type": "code",
   "execution_count": 29,
   "metadata": {},
   "outputs": [
    {
     "name": "stdout",
     "output_type": "stream",
     "text": [
      "_________________________________________________________________\n",
      "Layer (type)                 Output Shape              Param #   \n",
      "=================================================================\n",
      "embedding_9 (Embedding)      (None, 100, 100)          1000000   \n",
      "_________________________________________________________________\n",
      "flatten_9 (Flatten)          (None, 10000)             0         \n",
      "_________________________________________________________________\n",
      "dense_11 (Dense)             (None, 32)                320032    \n",
      "_________________________________________________________________\n",
      "dense_12 (Dense)             (None, 1)                 33        \n",
      "=================================================================\n",
      "Total params: 1,320,065\n",
      "Trainable params: 1,320,065\n",
      "Non-trainable params: 0\n",
      "_________________________________________________________________\n",
      "Train on 200 samples, validate on 10000 samples\n",
      "Epoch 1/10\n",
      "200/200 [==============================] - 1s 4ms/step - loss: 2.2331 - acc: 0.4550 - val_loss: 1.3645 - val_acc: 0.4954\n",
      "Epoch 2/10\n",
      "200/200 [==============================] - 0s 2ms/step - loss: 0.5110 - acc: 0.7400 - val_loss: 1.0673 - val_acc: 0.4964\n",
      "Epoch 3/10\n",
      "200/200 [==============================] - 0s 2ms/step - loss: 0.3368 - acc: 0.8650 - val_loss: 0.7353 - val_acc: 0.5426\n",
      "Epoch 4/10\n",
      "200/200 [==============================] - 0s 2ms/step - loss: 0.2485 - acc: 0.9350 - val_loss: 1.2207 - val_acc: 0.4965\n",
      "Epoch 5/10\n",
      "200/200 [==============================] - 0s 2ms/step - loss: 0.1696 - acc: 0.9700 - val_loss: 0.7412 - val_acc: 0.5554\n",
      "Epoch 6/10\n",
      "200/200 [==============================] - 0s 2ms/step - loss: 0.0959 - acc: 1.0000 - val_loss: 1.1371 - val_acc: 0.5087\n",
      "Epoch 7/10\n",
      "200/200 [==============================] - 0s 2ms/step - loss: 0.4119 - acc: 0.7750 - val_loss: 0.7330 - val_acc: 0.5697\n",
      "Epoch 8/10\n",
      "200/200 [==============================] - 0s 2ms/step - loss: 0.0496 - acc: 1.0000 - val_loss: 0.7219 - val_acc: 0.5692\n",
      "Epoch 9/10\n",
      "200/200 [==============================] - 0s 2ms/step - loss: 0.0419 - acc: 1.0000 - val_loss: 0.9358 - val_acc: 0.5273\n",
      "Epoch 10/10\n",
      "200/200 [==============================] - 0s 2ms/step - loss: 0.0344 - acc: 1.0000 - val_loss: 0.7456 - val_acc: 0.5720\n"
     ]
    },
    {
     "data": {
      "text/markdown": [
       "### result"
      ],
      "text/plain": [
       "<IPython.core.display.Markdown object>"
      ]
     },
     "metadata": {},
     "output_type": "display_data"
    },
    {
     "data": {
      "image/png": "[encoded data removed]",
      "text/plain": [
       "<Figure size 1080x360 with 2 Axes>"
      ]
     },
     "metadata": {
      "needs_background": "light"
     },
     "output_type": "display_data"
    }
   ],
   "source": [
    "# pre-processing initializations\n",
    "max_sentence_length = max_sentence_length  # max sentence length taken from imdb dataset preparation stage\n",
    "\n",
    "#embedding layer initializations\n",
    "n_vocab_embedding_layer = n_vocab # max number vocabulary taken from imdb dataset preparation stage\n",
    "size_of_word_vector = embedding_dim # taken from  embedding matrix creation stage\n",
    "\n",
    "# creating a 2 layer neural network\n",
    "model = Sequential()\n",
    "model.add(Embedding(n_vocab_embedding_layer, size_of_word_vector, input_length=max_sentence_length))\n",
    "model.add(Flatten())\n",
    "model.add(Dense(32, activation='relu')) # 1 hidden layer with relu activation\n",
    "model.add(Dense(1, activation='sigmoid'))\n",
    "model.summary()\n",
    "\n",
    "# freezing the weights of embedding layer so that glove embedding are maintained\n",
    "model.layers[0].set_weights([embedding_matrix])\n",
    "model.layers[0].trainable = False\n",
    "\n",
    "# staring model training\n",
    "model.compile(optimizer='rmsprop',loss='binary_crossentropy',metrics=['acc'])\n",
    "history = model.fit(x_train, y_train,\n",
    "                    epochs=10,\n",
    "                    batch_size=32,\n",
    "                    validation_data=(x_val, y_val))\n",
    "\n",
    "# ploting model training results\n",
    "display(Markdown(\"### result\"))\n",
    "plot_model_training_history(history.history)"
   ]
  },
  {
   "cell_type": "markdown",
   "metadata": {},
   "source": [
    "## 2 LAYER NEURAL NETWORK, NOW TRAINING EMBEDDING LAYER"
   ]
  },
  {
   "cell_type": "code",
   "execution_count": 30,
   "metadata": {},
   "outputs": [
    {
     "name": "stdout",
     "output_type": "stream",
     "text": [
      "_________________________________________________________________\n",
      "Layer (type)                 Output Shape              Param #   \n",
      "=================================================================\n",
      "embedding_10 (Embedding)     (None, 100, 100)          1000000   \n",
      "_________________________________________________________________\n",
      "flatten_10 (Flatten)         (None, 10000)             0         \n",
      "_________________________________________________________________\n",
      "dense_13 (Dense)             (None, 32)                320032    \n",
      "_________________________________________________________________\n",
      "dense_14 (Dense)             (None, 1)                 33        \n",
      "=================================================================\n",
      "Total params: 1,320,065\n",
      "Trainable params: 1,320,065\n",
      "Non-trainable params: 0\n",
      "_________________________________________________________________\n",
      "Train on 200 samples, validate on 10000 samples\n",
      "Epoch 1/10\n",
      "200/200 [==============================] - 1s 4ms/step - loss: 0.6982 - acc: 0.4950 - val_loss: 0.6934 - val_acc: 0.5083\n",
      "Epoch 2/10\n",
      "200/200 [==============================] - 0s 2ms/step - loss: 0.4896 - acc: 0.9950 - val_loss: 0.6986 - val_acc: 0.5136\n",
      "Epoch 3/10\n",
      "200/200 [==============================] - 0s 2ms/step - loss: 0.2667 - acc: 1.0000 - val_loss: 0.6999 - val_acc: 0.5299\n",
      "Epoch 4/10\n",
      "200/200 [==============================] - 0s 2ms/step - loss: 0.1140 - acc: 1.0000 - val_loss: 0.7084 - val_acc: 0.5204\n",
      "Epoch 5/10\n",
      "200/200 [==============================] - 0s 2ms/step - loss: 0.0528 - acc: 1.0000 - val_loss: 0.7159 - val_acc: 0.5220\n",
      "Epoch 6/10\n",
      "200/200 [==============================] - 0s 2ms/step - loss: 0.0279 - acc: 1.0000 - val_loss: 0.7209 - val_acc: 0.5245\n",
      "Epoch 7/10\n",
      "200/200 [==============================] - 0s 2ms/step - loss: 0.0155 - acc: 1.0000 - val_loss: 0.7354 - val_acc: 0.5185\n",
      "Epoch 8/10\n",
      "200/200 [==============================] - 0s 2ms/step - loss: 0.0090 - acc: 1.0000 - val_loss: 0.7310 - val_acc: 0.5334\n",
      "Epoch 9/10\n",
      "200/200 [==============================] - 0s 2ms/step - loss: 0.0055 - acc: 1.0000 - val_loss: 0.7394 - val_acc: 0.5285\n",
      "Epoch 10/10\n",
      "200/200 [==============================] - 0s 2ms/step - loss: 0.0033 - acc: 1.0000 - val_loss: 0.7480 - val_acc: 0.5261\n"
     ]
    },
    {
     "data": {
      "text/markdown": [
       "### result"
      ],
      "text/plain": [
       "<IPython.core.display.Markdown object>"
      ]
     },
     "metadata": {},
     "output_type": "display_data"
    },
    {
     "data": {
      "image/png": "[encoded data removed]",
      "text/plain": [
       "<Figure size 1080x360 with 2 Axes>"
      ]
     },
     "metadata": {
      "needs_background": "light"
     },
     "output_type": "display_data"
    }
   ],
   "source": [
    "\n",
    "# pre-processing initializations\n",
    "max_sentence_length = max_sentence_length  # max sentence length taken from imdb dataset preparation stage\n",
    "\n",
    "#embedding layer initializations\n",
    "n_vocab_embedding_layer = n_vocab # max number vocabulary taken from imdb dataset preparation stage\n",
    "size_of_word_vector = embedding_dim # taken from  embedding matrix creation stage\n",
    "\n",
    "\n",
    "# creating a 2 layer neural network\n",
    "model = Sequential()\n",
    "model.add(Embedding(n_vocab_embedding_layer, size_of_word_vector, input_length=max_sentence_length))\n",
    "model.add(Flatten())\n",
    "model.add(Dense(32, activation='relu')) # 1 hidden layer with relu activation\n",
    "model.add(Dense(1, activation='sigmoid'))\n",
    "model.summary()\n",
    "\n",
    "## NOTE: No layer freezing\n",
    "\n",
    "# staring model training\n",
    "model.compile(optimizer='rmsprop',loss='binary_crossentropy',metrics=['acc'])\n",
    "history = model.fit(x_train, y_train,\n",
    "                    epochs=10,\n",
    "                    batch_size=32,\n",
    "                    validation_data=(x_val, y_val))\n",
    "\n",
    "# ploting model training results\n",
    "display(Markdown(\"### result\"))\n",
    "plot_model_training_history(history.history)"
   ]
  }
 ],
 "metadata": {
  "kernelspec": {
   "display_name": "Python 3",
   "language": "python",
   "name": "python3"
  },
  "language_info": {
   "codemirror_mode": {
    "name": "ipython",
    "version": 3
   },
   "file_extension": ".py",
   "mimetype": "text/x-python",
   "name": "python",
   "nbconvert_exporter": "python",
   "pygments_lexer": "ipython3",
   "version": "3.6.7"
  }
 },
 "nbformat": 4,
 "nbformat_minor": 2
}
