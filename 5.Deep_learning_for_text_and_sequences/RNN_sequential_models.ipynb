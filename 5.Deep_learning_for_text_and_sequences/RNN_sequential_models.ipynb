{
 "cells": [
  {
   "cell_type": "markdown",
   "metadata": {},
   "source": [
    "## UNDERSTANDING SEQUENTIAL MODEL'S RNN, LSTM & BASIC IMPLEMENTATION"
   ]
  },
  {
   "cell_type": "code",
   "execution_count": 1,
   "metadata": {},
   "outputs": [
    {
     "name": "stderr",
     "output_type": "stream",
     "text": [
      "Using TensorFlow backend.\n"
     ]
    }
   ],
   "source": [
    "#imports\n",
    "\n",
    "#keras imports\n",
    "from keras.models import Sequential, Model\n",
    "from keras.layers import Embedding, SimpleRNN, Flatten, Input, Dense\n",
    "from keras import layers\n",
    "from keras.layers import LSTM\n",
    "from keras.datasets import imdb\n",
    "from keras.preprocessing import sequence\n",
    "from keras.optimizers import RMSprop\n",
    "\n",
    "\n",
    "# general imports\n",
    "from IPython.display import display, Markdown #just to display markdown\n",
    "import numpy as np\n",
    "import cv2\n",
    "\n",
    "# utility functions\n",
    "import os\n",
    "import sys\n",
    "%matplotlib inline\n",
    "os.path.dirname(os.path.abspath(\"__file__\"))\n",
    "sys.path.append(os.path.dirname(os.path.dirname(os.path.abspath(\"__file__\"))))\n",
    "from utility.utils import utils\n",
    "utility_obj = utils()"
   ]
  },
  {
   "cell_type": "markdown",
   "metadata": {},
   "source": [
    "### UNDERSTANDING RECURRENT NEURAL NETWORKS"
   ]
  },
  {
   "cell_type": "code",
   "execution_count": 2,
   "metadata": {},
   "outputs": [
    {
     "name": "stdout",
     "output_type": "stream",
     "text": [
      "\n",
      "RNN processes sequences by iterating through the sequence elements and maintaining \n",
      "a \"state\" containing information relative to what they have seen so far. \n",
      "\n",
      "Note: RNN is a loop\n",
      "\n",
      "state_t = 0\n",
      "for input_t in input_sequence:\n",
      "    output_t = activation(dot(W, input_t) + dot(U, state_t) + b)\n",
      "    state_t = output_t\n",
      "    \n",
      "\n"
     ]
    }
   ],
   "source": [
    "print (\"\"\"\n",
    "RNN processes sequences by iterating through the sequence elements and maintaining \n",
    "a \"state\" containing information relative to what they have seen so far. \n",
    "\n",
    "Note: RNN is a loop\n",
    "\n",
    "state_t = 0\n",
    "for input_t in input_sequence:\n",
    "    output_t = activation(dot(W, input_t) + dot(U, state_t) + b)\n",
    "    state_t = output_t\n",
    "    \n",
    "\"\"\")"
   ]
  },
  {
   "cell_type": "markdown",
   "metadata": {},
   "source": [
    "### NUMPY IMPLEMENTATION OF RECURRENT NEURAL NETWORKS"
   ]
  },
  {
   "cell_type": "code",
   "execution_count": 3,
   "metadata": {},
   "outputs": [
    {
     "name": "stdout",
     "output_type": "stream",
     "text": [
      "Raw data\n",
      "\n",
      "Shape of input data: (100, 32)\n",
      "first 2 timestamps data \n",
      "[[0.42521814 0.63479703 0.86238123 0.08045965 0.49077615 0.03910817\n",
      "  0.87780042 0.48580806 0.59203261 0.97909846 0.04710822 0.18922183\n",
      "  0.40904733 0.42579756 0.35839722 0.85442376 0.02187236 0.55173386\n",
      "  0.75379012 0.83551049 0.34173946 0.08137892 0.64566418 0.2900526\n",
      "  0.8372953  0.59280499 0.03575349 0.12556454 0.33941712 0.72358666\n",
      "  0.62440103 0.07901076]\n",
      " [0.3159697  0.31797966 0.66809352 0.53199872 0.71227977 0.83172279\n",
      "  0.94333389 0.59434714 0.32386302 0.75492342 0.45801405 0.73609207\n",
      "  0.88682818 0.75123521 0.08321535 0.34788002 0.66130903 0.49569906\n",
      "  0.33999274 0.55413424 0.59763844 0.49595168 0.68051103 0.91478706\n",
      "  0.76676194 0.89236643 0.86599791 0.75524041 0.47913219 0.4444374\n",
      "  0.79912721 0.48658045]]\n",
      "\n",
      "Expected output shape/timestamp: (64,)\n",
      "Random initial output state \n",
      "[0. 0. 0. 0. 0. 0. 0. 0. 0. 0. 0. 0. 0. 0. 0. 0. 0. 0. 0. 0. 0. 0. 0. 0.\n",
      " 0. 0. 0. 0. 0. 0. 0. 0. 0. 0. 0. 0. 0. 0. 0. 0. 0. 0. 0. 0. 0. 0. 0. 0.\n",
      " 0. 0. 0. 0. 0. 0. 0. 0. 0. 0. 0. 0. 0. 0. 0. 0.]\n",
      "\n"
     ]
    },
    {
     "data": {
      "text/markdown": [
       "### result"
      ],
      "text/plain": [
       "<IPython.core.display.Markdown object>"
      ]
     },
     "metadata": {},
     "output_type": "display_data"
    },
    {
     "name": "stdout",
     "output_type": "stream",
     "text": [
      "We have a 64 dimension vector for each time-step of input sequence\n",
      "\n",
      "[[0.99999996 0.99999696 0.99997359 ... 0.99999958 0.99999991 0.99999879]\n",
      " [1.         1.         1.         ... 1.         1.         1.        ]\n",
      " [1.         1.         1.         ... 1.         1.         1.        ]\n",
      " ...\n",
      " [1.         1.         1.         ... 1.         1.         1.        ]\n",
      " [1.         1.         1.         ... 1.         1.         1.        ]\n",
      " [1.         1.         1.         ... 1.         1.         1.        ]]\n",
      "\n",
      "Note:\n",
      "\n",
      "- RNN in each loop, produce result for that particular timestamp\n",
      "- While in a loop, RNN has output from earlier states stored in the form of state variable\n",
      "- This output corresponds is produced when \"return sequence = True\" in rnn parameter initialization\n",
      "- The above input data is 1 sample in a batch (for next sample the loop restarts)\n",
      "- The above implementation is the actual Keras SimpleRNN layer \n",
      "(the only difference is it can process batches of sequence)\n",
      "\n"
     ]
    }
   ],
   "source": [
    "timesteps = 100  # Number of timesteps in the input sequence\n",
    "inputs_features = 32  # Dimensionality of the input feature space\n",
    "output_features = 64  # Dimensionality of the output feature space\n",
    "\n",
    "\n",
    "# This is our input data - just random noise for the sake of our example.\n",
    "inputs = np.random.random((timesteps, inputs_features))\n",
    "# This is our \"initial state\": an all-zero vector.\n",
    "state_t = np.zeros((output_features,))\n",
    "\n",
    "\n",
    "\n",
    "print (\"Raw data\\n\")\n",
    "print(\"Shape of input data: {}\".format(inputs.shape))\n",
    "print (\"first 2 timestamps data \\n{}\\n\".format(inputs[:2]))\n",
    "print(\"Expected output shape/timestamp: {}\".format(state_t.shape))\n",
    "print (\"Random initial output state \\n{}\\n\".format(state_t))\n",
    "\n",
    "# Creating random weight matrices\n",
    "W = np.random.random((output_features, inputs_features))\n",
    "U = np.random.random((output_features, output_features))\n",
    "b = np.random.random((output_features,))\n",
    "\n",
    "successive_outputs = []\n",
    "for input_t in inputs:  # input_t is a vector of shape (input_features,)\n",
    "    # We combine the input with the current state\n",
    "    # (i.e. the previous output) to obtain the current output.\n",
    "    \n",
    "    output_t = np.tanh(np.dot(W, input_t) + np.dot(U, state_t) + b)\n",
    "    \n",
    "    # We store this output in a list.\n",
    "    successive_outputs.append(output_t)\n",
    "    \n",
    "    # We update the \"state\" of the network for the next timestep\n",
    "    state_t = output_t\n",
    "    \n",
    "\n",
    "\n",
    "display(Markdown(\"### result\"))\n",
    "\n",
    "# The final output is a 2D tensor of shape (timesteps, output_features).\n",
    "# final_output_sequence = np.concatenate(successive_outputs, axis=0)\n",
    "final_output_sequence = np.reshape(successive_outputs, (timesteps,output_features))\n",
    "\n",
    "print (\"We have a {} dimension vector for each time-step of input sequence\\n\".format(final_output_sequence.shape[1]))\n",
    "print (final_output_sequence)\n",
    "\n",
    "print (\"\"\"\n",
    "Note:\n",
    "\n",
    "- RNN in each loop, produce result for that particular timestamp\n",
    "- While in a loop, RNN has output from earlier states stored in the form of state variable\n",
    "- This output corresponds is produced when \"return sequence = True\" in rnn parameter initialization\n",
    "- The above input data is 1 sample in a batch (for next sample the loop restarts)\n",
    "- The above implementation is the actual Keras SimpleRNN layer \n",
    "(the only difference is it can process batches of sequence)\n",
    "\"\"\")"
   ]
  },
  {
   "cell_type": "markdown",
   "metadata": {},
   "source": [
    "### Implementing above model using keras SimpleRNN layer"
   ]
  },
  {
   "cell_type": "code",
   "execution_count": 4,
   "metadata": {},
   "outputs": [
    {
     "name": "stdout",
     "output_type": "stream",
     "text": [
      "_________________________________________________________________\n",
      "Layer (type)                 Output Shape              Param #   \n",
      "=================================================================\n",
      "rnn_layer (SimpleRNN)        (None, 100, 64)           6208      \n",
      "=================================================================\n",
      "Total params: 6,208\n",
      "Trainable params: 6,208\n",
      "Non-trainable params: 0\n",
      "_________________________________________________________________\n",
      "\n",
      "Note:\n",
      "In case of text, the embedding layer help to create this 2 dimensional input vector. \n",
      "In text each word represent the timestamp and word vector is smallest data unit.\n",
      "\n"
     ]
    }
   ],
   "source": [
    "# model architecture\n",
    "model = Sequential()\n",
    "model.add(SimpleRNN(64,return_sequences=True,input_shape=(100,32),name=\"rnn_layer\"))\n",
    "model.summary()\n",
    "\n",
    "print (\"\"\"\n",
    "Note:\n",
    "In case of text, the embedding layer help to create this 2 dimensional input vector. \n",
    "In text each word represent the timestamp and word vector is smallest data unit.\n",
    "\"\"\")"
   ]
  },
  {
   "cell_type": "markdown",
   "metadata": {},
   "source": [
    "### USING SIMPLE-RNN & RETURNING THE LAST STATE"
   ]
  },
  {
   "cell_type": "code",
   "execution_count": 5,
   "metadata": {},
   "outputs": [
    {
     "name": "stdout",
     "output_type": "stream",
     "text": [
      "_________________________________________________________________\n",
      "Layer (type)                 Output Shape              Param #   \n",
      "=================================================================\n",
      "embedding_layer (Embedding)  (None, 100, 32)           320000    \n",
      "_________________________________________________________________\n",
      "rnn_layer (SimpleRNN)        (None, 64)                6208      \n",
      "=================================================================\n",
      "Total params: 326,208\n",
      "Trainable params: 326,208\n",
      "Non-trainable params: 0\n",
      "_________________________________________________________________\n"
     ]
    },
    {
     "data": {
      "text/markdown": [
       "### USING SIMPLE-RNN & RETURNING ALL STATE's SEQUENCES"
      ],
      "text/plain": [
       "<IPython.core.display.Markdown object>"
      ]
     },
     "metadata": {},
     "output_type": "display_data"
    },
    {
     "name": "stdout",
     "output_type": "stream",
     "text": [
      "_________________________________________________________________\n",
      "Layer (type)                 Output Shape              Param #   \n",
      "=================================================================\n",
      "embedding_layer (Embedding)  (None, 100, 32)           320000    \n",
      "_________________________________________________________________\n",
      "rnn_layer (SimpleRNN)        (None, 100, 64)           6208      \n",
      "=================================================================\n",
      "Total params: 326,208\n",
      "Trainable params: 326,208\n",
      "Non-trainable params: 0\n",
      "_________________________________________________________________\n",
      "\n",
      "\"return_sequences\" parameter decides if the output is produced at each stage or final output is produced \n",
      "\n"
     ]
    }
   ],
   "source": [
    "#embedding layer initializations\n",
    "n_vocab_embedding_layer = 10000\n",
    "size_of_word_vector = 32\n",
    "\n",
    "model = Sequential()\n",
    "model.add(Embedding(n_vocab_embedding_layer, output_dim=size_of_word_vector , input_length=100,name=\"embedding_layer\"))\n",
    "model.add(SimpleRNN(64, name = \"rnn_layer\"))\n",
    "model.summary()\n",
    "\n",
    "\n",
    "display(Markdown(\"### USING SIMPLE-RNN & RETURNING ALL STATE's SEQUENCES\"))\n",
    "\n",
    "model = Sequential()\n",
    "model.add(Embedding(n_vocab_embedding_layer, output_dim=size_of_word_vector, input_length=100,name=\"embedding_layer\"))\n",
    "model.add(SimpleRNN(64, return_sequences=True, name = \"rnn_layer\"))\n",
    "model.summary()\n",
    "\n",
    "print (\"\"\"\n",
    "\"return_sequences\" parameter decides if the output is produced at each stage or final output is produced \n",
    "\"\"\")"
   ]
  },
  {
   "cell_type": "markdown",
   "metadata": {},
   "source": [
    "### Preparing data for model training"
   ]
  },
  {
   "cell_type": "code",
   "execution_count": 6,
   "metadata": {},
   "outputs": [
    {
     "name": "stdout",
     "output_type": "stream",
     "text": [
      "Loading data...\n",
      "after data preprocessing\n",
      "input_train shape: (25000, 500)\n",
      "input_test shape: (25000, 500) \n",
      "\n",
      "\n",
      "Imdb review 1 sample input data\n",
      "\n",
      "[[   0    0    0    0    0    0    0    0    0    0    0    0    0    0\n",
      "     0    0    0    0    0    0    0    0    0    0    0    0    0    0\n",
      "     0    0    0    0    0    0    0    0    0    0    0    0    0    0\n",
      "     0    0    0    0    0    0    0    0    0    0    0    0    0    0\n",
      "     0    0    0    0    0    0    0    0    0    0    0    0    0    0\n",
      "     0    0    0    0    0    0    0    0    0    0    0    0    0    0\n",
      "     0    0    0    0    0    0    0    0    0    0    0    0    0    0\n",
      "     0    0    0    0    0    0    0    0    0    0    0    0    0    0\n",
      "     0    0    0    0    0    0    0    0    0    0    0    0    0    0\n",
      "     0    0    0    0    0    0    0    0    0    0    0    0    0    0\n",
      "     0    0    0    0    0    0    0    0    0    0    0    0    0    0\n",
      "     0    0    0    0    0    0    0    0    0    0    0    0    0    0\n",
      "     0    0    0    0    0    0    0    0    0    0    0    0    0    0\n",
      "     0    0    0    0    0    0    0    0    0    0    0    0    0    0\n",
      "     0    0    0    0    0    0    0    0    0    0    0    0    0    0\n",
      "     0    0    0    0    0    0    0    0    0    0    0    0    0    0\n",
      "     0    0    0    0    0    0    0    0    0    0    0    0    0    0\n",
      "     0    0    0    0    0    0    0    0    0    0    0    0    0    0\n",
      "     0    0    0    0    0    0    0    0    0    0    0    0    0    0\n",
      "     0    0    0    0    0    0    0    0    0    0    0    0    0    0\n",
      "     0    0    1   14   22   16   43  530  973 1622 1385   65  458 4468\n",
      "    66 3941    4  173   36  256    5   25  100   43  838  112   50  670\n",
      "     2    9   35  480  284    5  150    4  172  112  167    2  336  385\n",
      "    39    4  172 4536 1111   17  546   38   13  447    4  192   50   16\n",
      "     6  147 2025   19   14   22    4 1920 4613  469    4   22   71   87\n",
      "    12   16   43  530   38   76   15   13 1247    4   22   17  515   17\n",
      "    12   16  626   18    2    5   62  386   12    8  316    8  106    5\n",
      "     4 2223 5244   16  480   66 3785   33    4  130   12   16   38  619\n",
      "     5   25  124   51   36  135   48   25 1415   33    6   22   12  215\n",
      "    28   77   52    5   14  407   16   82    2    8    4  107  117 5952\n",
      "    15  256    4    2    7 3766    5  723   36   71   43  530  476   26\n",
      "   400  317   46    7    4    2 1029   13  104   88    4  381   15  297\n",
      "    98   32 2071   56   26  141    6  194 7486   18    4  226   22   21\n",
      "   134  476   26  480    5  144   30 5535   18   51   36   28  224   92\n",
      "    25  104    4  226   65   16   38 1334   88   12   16  283    5   16\n",
      "  4472  113  103   32   15   16 5345   19  178   32]]\n",
      "\n",
      "Imdb review data lables\n",
      "[1 0]\n",
      "\n",
      "Note:  \n",
      "0 : \"Negative review\"\n",
      "1 : \"Positive review\"\n",
      "post_padding in input data helps gragient in LSTM flow better \n",
      "\n",
      "\n"
     ]
    }
   ],
   "source": [
    "# pre-processing initializations\n",
    "max_features = 10000  # number of words to consider as features\n",
    "maxlen = 500  # cut texts after this number of words (among top max_features most common words)\n",
    "batch_size = 32\n",
    "\n",
    "# data pre-prcessing\n",
    "### IMDB data encoding from text will be extensively covered in \"text_pre-processing_basic_model_building\"###\n",
    "\n",
    "\n",
    "print('Loading data...')\n",
    "(input_train, y_train), (input_test, y_test) = imdb.load_data(num_words=max_features)\n",
    "\n",
    "# cutting sentences to max length of 500\n",
    "input_train = sequence.pad_sequences(input_train, maxlen=maxlen)\n",
    "input_test = sequence.pad_sequences(input_test, maxlen=maxlen)\n",
    "\n",
    "print (\"after data preprocessing\")\n",
    "print('input_train shape:', input_train.shape)\n",
    "print('input_test shape:', input_test.shape, \"\\n\")\n",
    "\n",
    "print(\"\\nImdb review 1 sample input data\\n\")\n",
    "print(input_train[:1]) \n",
    "\n",
    "print(\"\\nImdb review data lables\")\n",
    "print(y_train[:2])\n",
    "print(\n",
    "\"\"\"\n",
    "Note:  \n",
    "0 : \"Negative review\"\n",
    "1 : \"Positive review\"\n",
    "post_padding in input data helps gragient in LSTM flow better \n",
    "\n",
    "\"\"\"\n",
    ")"
   ]
  },
  {
   "cell_type": "markdown",
   "metadata": {},
   "source": [
    "### TRAINING MODEL USING SIMPLE-RNN LAYER"
   ]
  },
  {
   "cell_type": "code",
   "execution_count": 7,
   "metadata": {
    "scrolled": false
   },
   "outputs": [
    {
     "name": "stdout",
     "output_type": "stream",
     "text": [
      "starting model training...\n",
      "_________________________________________________________________\n",
      "Layer (type)                 Output Shape              Param #   \n",
      "=================================================================\n",
      "embedding_1 (Embedding)      (None, None, 64)          640000    \n",
      "_________________________________________________________________\n",
      "simple_rnn_1 (SimpleRNN)     (None, 64)                8256      \n",
      "_________________________________________________________________\n",
      "dense_1 (Dense)              (None, 1)                 65        \n",
      "=================================================================\n",
      "Total params: 648,321\n",
      "Trainable params: 648,321\n",
      "Non-trainable params: 0\n",
      "_________________________________________________________________\n",
      "\n",
      "\n",
      "Train on 20000 samples, validate on 5000 samples\n",
      "Epoch 1/10\n",
      "20000/20000 [==============================] - 83s 4ms/step - loss: 0.5845 - acc: 0.6782 - val_loss: 0.5153 - val_acc: 0.7442\n",
      "Epoch 2/10\n",
      "20000/20000 [==============================] - 84s 4ms/step - loss: 0.3648 - acc: 0.8448 - val_loss: 0.3773 - val_acc: 0.8354\n",
      "Epoch 3/10\n",
      "20000/20000 [==============================] - 90s 4ms/step - loss: 0.2655 - acc: 0.8946 - val_loss: 0.9324 - val_acc: 0.6970\n",
      "Epoch 4/10\n",
      "20000/20000 [==============================] - 89s 4ms/step - loss: 0.2015 - acc: 0.9239 - val_loss: 0.3928 - val_acc: 0.8328\n",
      "Epoch 5/10\n",
      "20000/20000 [==============================] - 95s 5ms/step - loss: 0.1410 - acc: 0.9496 - val_loss: 0.5272 - val_acc: 0.8170\n",
      "Epoch 6/10\n",
      "20000/20000 [==============================] - 95s 5ms/step - loss: 0.1504 - acc: 0.9462 - val_loss: 0.5286 - val_acc: 0.8078\n",
      "Epoch 7/10\n",
      "20000/20000 [==============================] - 97s 5ms/step - loss: 0.0742 - acc: 0.9743 - val_loss: 0.6095 - val_acc: 0.7900\n",
      "Epoch 8/10\n",
      "20000/20000 [==============================] - 97s 5ms/step - loss: 0.0382 - acc: 0.9888 - val_loss: 0.8030 - val_acc: 0.7612\n",
      "Epoch 9/10\n",
      "20000/20000 [==============================] - 98s 5ms/step - loss: 0.0266 - acc: 0.9910 - val_loss: 0.7108 - val_acc: 0.8212\n",
      "Epoch 10/10\n",
      "20000/20000 [==============================] - 98s 5ms/step - loss: 0.0182 - acc: 0.9944 - val_loss: 0.8021 - val_acc: 0.7922\n"
     ]
    }
   ],
   "source": [
    "# model architecture and training\n",
    "print(\"starting model training...\")\n",
    "model = Sequential()\n",
    "model.add(Embedding(max_features, 64))\n",
    "model.add(SimpleRNN(64))\n",
    "model.add(Dense(1, activation='sigmoid'))\n",
    "model.summary()\n",
    "print (\"\\n\")\n",
    "model.compile(optimizer='rmsprop', loss='binary_crossentropy', metrics=['acc'])\n",
    "history = model.fit(input_train, y_train,\n",
    "                    epochs=10,\n",
    "                    batch_size=128,\n",
    "                    validation_split=0.2)"
   ]
  },
  {
   "cell_type": "markdown",
   "metadata": {},
   "source": [
    "### result"
   ]
  },
  {
   "cell_type": "code",
   "execution_count": 8,
   "metadata": {},
   "outputs": [
    {
     "data": {
      "image/png": "[encoded data removed]",
      "text/plain": [
       "<Figure size 1080x360 with 2 Axes>"
      ]
     },
     "metadata": {
      "needs_background": "light"
     },
     "output_type": "display_data"
    }
   ],
   "source": [
    "# ploting model training results\n",
    "utility_obj.plot_training_history(history.history)"
   ]
  }
 ],
 "metadata": {
  "kernelspec": {
   "display_name": "Python 3",
   "language": "python",
   "name": "python3"
  },
  "language_info": {
   "codemirror_mode": {
    "name": "ipython",
    "version": 3
   },
   "file_extension": ".py",
   "mimetype": "text/x-python",
   "name": "python",
   "nbconvert_exporter": "python",
   "pygments_lexer": "ipython3",
   "version": "3.6.7"
  }
 },
 "nbformat": 4,
 "nbformat_minor": 2
}
