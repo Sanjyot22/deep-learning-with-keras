{
 "cells": [
  {
   "cell_type": "markdown",
   "metadata": {},
   "source": [
    "## UNDERSTANDING SEQUENTIAL MODEL'S RNN, LSTM & BASIC IMPLEMENTATION"
   ]
  },
  {
   "cell_type": "code",
   "execution_count": 16,
   "metadata": {},
   "outputs": [],
   "source": [
    "#imports\n",
    "\n",
    "from keras.models import Sequential, Model\n",
    "from keras.layers import Embedding, SimpleRNN, Flatten, Input, Dense\n",
    "from keras.layers import LSTM\n",
    "from keras.datasets import imdb\n",
    "from keras.preprocessing import sequence\n",
    "\n",
    "\n",
    "# general imports\n",
    "from IPython.display import display, Markdown #just to display markdown\n",
    "import numpy as np\n",
    "\n",
    "# visualiaztion imports\n",
    "%matplotlib inline\n",
    "import matplotlib.pyplot as plt"
   ]
  },
  {
   "cell_type": "code",
   "execution_count": 2,
   "metadata": {},
   "outputs": [
    {
     "data": {
      "text/markdown": [
       "## UNDERSTANDING RECURRENT NEURAL NETWORKS"
      ],
      "text/plain": [
       "<IPython.core.display.Markdown object>"
      ]
     },
     "metadata": {},
     "output_type": "display_data"
    },
    {
     "name": "stdout",
     "output_type": "stream",
     "text": [
      "\n",
      "RNN processes sequences by iterating through the sequence elements and maintaining \n",
      "a \"state\" containing information relative to what they have seen so far. \n",
      "\n",
      "Note: RNN is a loop\n",
      "\n",
      "state_t = 0\n",
      "for input_t in input_sequence:\n",
      "    output_t = activation(dot(W, input_t) + dot(U, state_t) + b)\n",
      "    state_t = output_t\n",
      "    \n",
      "\n"
     ]
    }
   ],
   "source": [
    "display(Markdown(\"## UNDERSTANDING RECURRENT NEURAL NETWORKS\"))\n",
    "\n",
    "print (\"\"\"\n",
    "RNN processes sequences by iterating through the sequence elements and maintaining \n",
    "a \"state\" containing information relative to what they have seen so far. \n",
    "\n",
    "Note: RNN is a loop\n",
    "\n",
    "state_t = 0\n",
    "for input_t in input_sequence:\n",
    "    output_t = activation(dot(W, input_t) + dot(U, state_t) + b)\n",
    "    state_t = output_t\n",
    "    \n",
    "\"\"\")"
   ]
  },
  {
   "cell_type": "code",
   "execution_count": 10,
   "metadata": {},
   "outputs": [
    {
     "data": {
      "text/markdown": [
       "## NUMPY IMPLEMENTATION OF RECURRENT NEURAL NETWORKS"
      ],
      "text/plain": [
       "<IPython.core.display.Markdown object>"
      ]
     },
     "metadata": {},
     "output_type": "display_data"
    },
    {
     "name": "stdout",
     "output_type": "stream",
     "text": [
      "Raw data\n",
      "\n",
      "Shape of input data: (100, 32)\n",
      "first 2 timestamps data \n",
      "[[0.27592385 0.72894211 0.03599346 0.92322249 0.00794755 0.98331935\n",
      "  0.69407542 0.0586693  0.06637979 0.27789378 0.51585338 0.00325667\n",
      "  0.90317277 0.57116882 0.24121566 0.64105797 0.97053364 0.83762517\n",
      "  0.01441893 0.47993864 0.72854565 0.56255475 0.93081124 0.84045122\n",
      "  0.3285138  0.14724177 0.07990898 0.4026298  0.98645396 0.13911373\n",
      "  0.66763828 0.68428558]\n",
      " [0.63772173 0.65476873 0.11449802 0.9071212  0.09317165 0.68358939\n",
      "  0.49549971 0.03327695 0.90736899 0.35035601 0.36230129 0.1201081\n",
      "  0.6966637  0.8039649  0.65985955 0.59447943 0.68836892 0.74462949\n",
      "  0.68967092 0.77016202 0.04895765 0.14899816 0.55779603 0.20478825\n",
      "  0.6121378  0.12386328 0.98933522 0.74035245 0.71293392 0.8068365\n",
      "  0.07374322 0.5391325 ]]\n",
      "\n",
      "Expected output shape/timestamp: (64,)\n",
      "Random initial output state \n",
      "[0. 0. 0. 0. 0. 0. 0. 0. 0. 0. 0. 0. 0. 0. 0. 0. 0. 0. 0. 0. 0. 0. 0. 0.\n",
      " 0. 0. 0. 0. 0. 0. 0. 0. 0. 0. 0. 0. 0. 0. 0. 0. 0. 0. 0. 0. 0. 0. 0. 0.\n",
      " 0. 0. 0. 0. 0. 0. 0. 0. 0. 0. 0. 0. 0. 0. 0. 0.]\n",
      "\n"
     ]
    },
    {
     "data": {
      "text/markdown": [
       "### result"
      ],
      "text/plain": [
       "<IPython.core.display.Markdown object>"
      ]
     },
     "metadata": {},
     "output_type": "display_data"
    },
    {
     "name": "stdout",
     "output_type": "stream",
     "text": [
      "We have a 64 dimension vector for each time-step of input sequence\n",
      "\n",
      "[[0.99999999 0.99999995 0.99999999 ... 0.99999983 0.99999956 0.99999963]\n",
      " [1.         1.         1.         ... 1.         1.         1.        ]\n",
      " [1.         1.         1.         ... 1.         1.         1.        ]\n",
      " ...\n",
      " [1.         1.         1.         ... 1.         1.         1.        ]\n",
      " [1.         1.         1.         ... 1.         1.         1.        ]\n",
      " [1.         1.         1.         ... 1.         1.         1.        ]]\n",
      "\n",
      "Note:\n",
      "\n",
      "- RNN in each loop, produce result for that particular timestamp\n",
      "- While in a loop, RNN has output from earlier states stored in the form of state variable\n",
      "- This output corresponds is produced when \"return sequence = True\" in rnn parameter initialization\n",
      "- The above input data is 1 sample in a batch (for next sample the loop restarts)\n",
      "- The above implementation is the actual Keras SimpleRNN layer \n",
      "(the only difference is it can process batches of sequence)\n",
      "\n"
     ]
    }
   ],
   "source": [
    "display(Markdown(\"## NUMPY IMPLEMENTATION OF RECURRENT NEURAL NETWORKS\"))\n",
    "\n",
    "timesteps = 100  # Number of timesteps in the input sequence\n",
    "inputs_features = 32  # Dimensionality of the input feature space\n",
    "output_features = 64  # Dimensionality of the output feature space\n",
    "\n",
    "\n",
    "# This is our input data - just random noise for the sake of our example.\n",
    "inputs = np.random.random((timesteps, inputs_features))\n",
    "# This is our \"initial state\": an all-zero vector.\n",
    "state_t = np.zeros((output_features,))\n",
    "\n",
    "\n",
    "\n",
    "print (\"Raw data\\n\")\n",
    "print(\"Shape of input data: {}\".format(inputs.shape))\n",
    "print (\"first 2 timestamps data \\n{}\\n\".format(inputs[:2]))\n",
    "print(\"Expected output shape/timestamp: {}\".format(state_t.shape))\n",
    "print (\"Random initial output state \\n{}\\n\".format(state_t))\n",
    "\n",
    "# Creating random weight matrices\n",
    "W = np.random.random((output_features, inputs_features))\n",
    "U = np.random.random((output_features, output_features))\n",
    "b = np.random.random((output_features,))\n",
    "\n",
    "successive_outputs = []\n",
    "for input_t in inputs:  # input_t is a vector of shape (input_features,)\n",
    "    # We combine the input with the current state\n",
    "    # (i.e. the previous output) to obtain the current output.\n",
    "    \n",
    "    output_t = np.tanh(np.dot(W, input_t) + np.dot(U, state_t) + b)\n",
    "    \n",
    "    # We store this output in a list.\n",
    "    successive_outputs.append(output_t)\n",
    "    \n",
    "    # We update the \"state\" of the network for the next timestep\n",
    "    state_t = output_t\n",
    "    \n",
    "\n",
    "\n",
    "display(Markdown(\"### result\"))\n",
    "\n",
    "# The final output is a 2D tensor of shape (timesteps, output_features).\n",
    "# final_output_sequence = np.concatenate(successive_outputs, axis=0)\n",
    "final_output_sequence = np.reshape(successive_outputs, (timesteps,output_features))\n",
    "\n",
    "print (\"We have a {} dimension vector for each time-step of input sequence\\n\".format(final_output_sequence.shape[1]))\n",
    "print (final_output_sequence)\n",
    "\n",
    "print (\"\"\"\n",
    "Note:\n",
    "\n",
    "- RNN in each loop, produce result for that particular timestamp\n",
    "- While in a loop, RNN has output from earlier states stored in the form of state variable\n",
    "- This output corresponds is produced when \"return sequence = True\" in rnn parameter initialization\n",
    "- The above input data is 1 sample in a batch (for next sample the loop restarts)\n",
    "- The above implementation is the actual Keras SimpleRNN layer \n",
    "(the only difference is it can process batches of sequence)\n",
    "\"\"\")"
   ]
  },
  {
   "cell_type": "code",
   "execution_count": 20,
   "metadata": {},
   "outputs": [
    {
     "data": {
      "text/markdown": [
       "### implementing above model using keras SimpleRNN layer"
      ],
      "text/plain": [
       "<IPython.core.display.Markdown object>"
      ]
     },
     "metadata": {},
     "output_type": "display_data"
    },
    {
     "name": "stdout",
     "output_type": "stream",
     "text": [
      "_________________________________________________________________\n",
      "Layer (type)                 Output Shape              Param #   \n",
      "=================================================================\n",
      "rnn_layer (SimpleRNN)        (None, 100, 64)           6208      \n",
      "=================================================================\n",
      "Total params: 6,208\n",
      "Trainable params: 6,208\n",
      "Non-trainable params: 0\n",
      "_________________________________________________________________\n",
      "\n",
      "Note:\n",
      "In case of text, the embedding layer help to create this 2 dimensional input vector. \n",
      "In text each word represent the timestamp and word vector is smallest data unit.\n",
      "\n"
     ]
    }
   ],
   "source": [
    "display(Markdown(\"### implementing above model using keras SimpleRNN layer\"))\n",
    "\n",
    "model = Sequential()\n",
    "model.add(SimpleRNN(64,return_sequences=True,input_shape=(100,32),name=\"rnn_layer\"))\n",
    "model.summary()\n",
    "\n",
    "print (\"\"\"\n",
    "Note:\n",
    "In case of text, the embedding layer help to create this 2 dimensional input vector. \n",
    "In text each word represent the timestamp and word vector is smallest data unit.\n",
    "\"\"\")"
   ]
  },
  {
   "cell_type": "code",
   "execution_count": 12,
   "metadata": {},
   "outputs": [
    {
     "data": {
      "text/markdown": [
       "### Using SimpleRNN and returning the last state"
      ],
      "text/plain": [
       "<IPython.core.display.Markdown object>"
      ]
     },
     "metadata": {},
     "output_type": "display_data"
    },
    {
     "name": "stdout",
     "output_type": "stream",
     "text": [
      "_________________________________________________________________\n",
      "Layer (type)                 Output Shape              Param #   \n",
      "=================================================================\n",
      "embedding_layer (Embedding)  (None, 100, 32)           320000    \n",
      "_________________________________________________________________\n",
      "rnn_layer (SimpleRNN)        (None, 64)                6208      \n",
      "=================================================================\n",
      "Total params: 326,208\n",
      "Trainable params: 326,208\n",
      "Non-trainable params: 0\n",
      "_________________________________________________________________\n"
     ]
    },
    {
     "data": {
      "text/markdown": [
       "### Using SimpleRNN and returning the full state sequence"
      ],
      "text/plain": [
       "<IPython.core.display.Markdown object>"
      ]
     },
     "metadata": {},
     "output_type": "display_data"
    },
    {
     "name": "stdout",
     "output_type": "stream",
     "text": [
      "_________________________________________________________________\n",
      "Layer (type)                 Output Shape              Param #   \n",
      "=================================================================\n",
      "embedding_layer (Embedding)  (None, 100, 32)           320000    \n",
      "_________________________________________________________________\n",
      "rnn_layer (SimpleRNN)        (None, 100, 64)           6208      \n",
      "=================================================================\n",
      "Total params: 326,208\n",
      "Trainable params: 326,208\n",
      "Non-trainable params: 0\n",
      "_________________________________________________________________\n",
      "\n",
      "\"return_sequences\" parameter decides if the output is produced at each stage or final output is produced \n",
      "\n"
     ]
    }
   ],
   "source": [
    "display(Markdown(\"### Using SimpleRNN and returning the last state\"))\n",
    "\n",
    "#embedding layer initializations\n",
    "n_vocab_embedding_layer = 10000\n",
    "size_of_word_vector = 32\n",
    "\n",
    "model = Sequential()\n",
    "model.add(Embedding(n_vocab_embedding_layer, output_dim=size_of_word_vector , input_length=100,name=\"embedding_layer\"))\n",
    "model.add(SimpleRNN(64, name = \"rnn_layer\"))\n",
    "model.summary()\n",
    "\n",
    "\n",
    "display(Markdown(\"### Using SimpleRNN and returning the full state sequence\"))\n",
    "\n",
    "model = Sequential()\n",
    "model.add(Embedding(n_vocab_embedding_layer, output_dim=size_of_word_vector, input_length=100,name=\"embedding_layer\"))\n",
    "model.add(SimpleRNN(64, return_sequences=True, name = \"rnn_layer\"))\n",
    "model.summary()\n",
    "\n",
    "print (\"\"\"\n",
    "\"return_sequences\" parameter decides if the output is produced at each stage or final output is produced \n",
    "\"\"\")"
   ]
  },
  {
   "cell_type": "code",
   "execution_count": 13,
   "metadata": {},
   "outputs": [],
   "source": [
    "def plot_model_training_history(history):\n",
    "    \n",
    "    #collecting all post-training values \n",
    "    acc = history.history['acc']\n",
    "    val_acc = history.history['val_acc']\n",
    "    loss = history.history['loss']\n",
    "    val_loss = history.history['val_loss']\n",
    "    epochs = range(1, len(acc) + 1)\n",
    "    \n",
    "    # ploting losses\n",
    "    plt.plot(epochs, loss, 'bo', label='Training loss')\n",
    "    plt.plot(epochs, val_loss, 'b', label='Validation loss')\n",
    "    plt.title('Training and validation loss')\n",
    "    plt.legend()\n",
    "    plt.show()\n",
    "    \n",
    "    plt.figure()\n",
    "    \n",
    "    # ploting accuracies\n",
    "    plt.plot(epochs, acc, 'bo', label='Training acc')\n",
    "    plt.plot(epochs, val_acc, 'b', label='Validation acc')\n",
    "    plt.title('Training and validation accuracy')\n",
    "    plt.legend()\n",
    "    return"
   ]
  },
  {
   "cell_type": "code",
   "execution_count": 14,
   "metadata": {},
   "outputs": [
    {
     "data": {
      "text/markdown": [
       "### Training a model including an Embedding layer and a SimpleRNN layer"
      ],
      "text/plain": [
       "<IPython.core.display.Markdown object>"
      ]
     },
     "metadata": {},
     "output_type": "display_data"
    },
    {
     "name": "stdout",
     "output_type": "stream",
     "text": [
      "Loading data...\n",
      "after data preprocessing\n",
      "input_train shape: (25000, 500)\n",
      "input_test shape: (25000, 500) \n",
      "\n",
      "\n",
      "Imdb review data lables\n",
      "[1 0]\n",
      "\n",
      "Note:  \n",
      "0 : \"Negative review\"\n",
      "1 : \"Positive review\"\n",
      "\n",
      "\n",
      "starting model training...\n",
      "_________________________________________________________________\n",
      "Layer (type)                 Output Shape              Param #   \n",
      "=================================================================\n",
      "embedding_3 (Embedding)      (None, None, 32)          320000    \n",
      "_________________________________________________________________\n",
      "simple_rnn_5 (SimpleRNN)     (None, 32)                2080      \n",
      "_________________________________________________________________\n",
      "dense_3 (Dense)              (None, 1)                 33        \n",
      "=================================================================\n",
      "Total params: 322,113\n",
      "Trainable params: 322,113\n",
      "Non-trainable params: 0\n",
      "_________________________________________________________________\n",
      "\n",
      "\n",
      "Train on 20000 samples, validate on 5000 samples\n",
      "Epoch 1/10\n",
      "20000/20000 [==============================] - 71s 4ms/step - loss: 0.6435 - acc: 0.6148 - val_loss: 0.5876 - val_acc: 0.6886\n",
      "Epoch 2/10\n",
      "20000/20000 [==============================] - 70s 4ms/step - loss: 0.4236 - acc: 0.8179 - val_loss: 0.4095 - val_acc: 0.8210\n",
      "Epoch 3/10\n",
      "20000/20000 [==============================] - 70s 4ms/step - loss: 0.3313 - acc: 0.8653 - val_loss: 0.4024 - val_acc: 0.8190\n",
      "Epoch 4/10\n",
      "20000/20000 [==============================] - 71s 4ms/step - loss: 0.2429 - acc: 0.9052 - val_loss: 0.3734 - val_acc: 0.8364\n",
      "Epoch 5/10\n",
      "20000/20000 [==============================] - 73s 4ms/step - loss: 0.1947 - acc: 0.9269 - val_loss: 0.4077 - val_acc: 0.8368\n",
      "Epoch 6/10\n",
      "20000/20000 [==============================] - 73s 4ms/step - loss: 0.1351 - acc: 0.9525 - val_loss: 0.3895 - val_acc: 0.8648\n",
      "Epoch 7/10\n",
      "20000/20000 [==============================] - 71s 4ms/step - loss: 0.0914 - acc: 0.9697 - val_loss: 0.4212 - val_acc: 0.8530\n",
      "Epoch 8/10\n",
      "20000/20000 [==============================] - 71s 4ms/step - loss: 0.0547 - acc: 0.9830 - val_loss: 0.7523 - val_acc: 0.7942\n",
      "Epoch 9/10\n",
      "20000/20000 [==============================] - 71s 4ms/step - loss: 0.0345 - acc: 0.9908 - val_loss: 0.5609 - val_acc: 0.8290\n",
      "Epoch 10/10\n",
      "20000/20000 [==============================] - 71s 4ms/step - loss: 0.0224 - acc: 0.9937 - val_loss: 0.6277 - val_acc: 0.8242\n"
     ]
    },
    {
     "data": {
      "text/markdown": [
       "### result"
      ],
      "text/plain": [
       "<IPython.core.display.Markdown object>"
      ]
     },
     "metadata": {},
     "output_type": "display_data"
    },
    {
     "data": {
      "image/png": "[encoded data removed]",
      "text/plain": [
       "<Figure size 432x288 with 1 Axes>"
      ]
     },
     "metadata": {
      "needs_background": "light"
     },
     "output_type": "display_data"
    },
    {
     "data": {
      "image/png": "[encoded data removed]",
      "text/plain": [
       "<Figure size 432x288 with 1 Axes>"
      ]
     },
     "metadata": {
      "needs_background": "light"
     },
     "output_type": "display_data"
    }
   ],
   "source": [
    "display(Markdown(\"### Training a model including an Embedding layer and a SimpleRNN layer\"))\n",
    "\n",
    "# pre-processing initializations\n",
    "max_features = 10000  # number of words to consider as features\n",
    "maxlen = 500  # cut texts after this number of words (among top max_features most common words)\n",
    "batch_size = 32\n",
    "\n",
    "# data pre-prcessing\n",
    "### IMDB data preparation was extensively cover in \"text_pre-processing_basic model_building\"(earlier module) ###\n",
    "\n",
    "print('Loading data...')\n",
    "(input_train, y_train), (input_test, y_test) = imdb.load_data(num_words=max_features)\n",
    "\n",
    "# cutting sentences to max length of 500\n",
    "input_train = sequence.pad_sequences(input_train, maxlen=maxlen)\n",
    "input_test = sequence.pad_sequences(input_test, maxlen=maxlen)\n",
    "\n",
    "print (\"after data preprocessing\")\n",
    "print('input_train shape:', input_train.shape)\n",
    "print('input_test shape:', input_test.shape, \"\\n\")\n",
    "\n",
    "print(\"\\nImdb review data lables\")\n",
    "print(y_train[:2])\n",
    "print(\n",
    "\"\"\"\n",
    "Note:  \n",
    "0 : \"Negative review\"\n",
    "1 : \"Positive review\"\n",
    "\n",
    "\"\"\"\n",
    ")\n",
    "\n",
    "# model architecture and training\n",
    "print(\"starting model training...\")\n",
    "model = Sequential()\n",
    "model.add(Embedding(max_features, 32))\n",
    "model.add(SimpleRNN(32))\n",
    "model.add(Dense(1, activation='sigmoid'))\n",
    "model.summary()\n",
    "print (\"\\n\")\n",
    "model.compile(optimizer='rmsprop', loss='binary_crossentropy', metrics=['acc'])\n",
    "history = model.fit(input_train, y_train,\n",
    "                    epochs=10,\n",
    "                    batch_size=128,\n",
    "                    validation_split=0.2)\n",
    "\n",
    "# ploting model training results\n",
    "display(Markdown(\"### result\"))\n",
    "plot_model_training_history(history)"
   ]
  },
  {
   "cell_type": "code",
   "execution_count": null,
   "metadata": {},
   "outputs": [],
   "source": [
    "display(Markdown(\"## UNDERSTANDING LONG SHORT TERM MEMORY (LSTM)\"))\n",
    "\n",
    "print (\"\"\"\n",
    "\n",
    "    \n",
    "\"\"\")"
   ]
  },
  {
   "cell_type": "code",
   "execution_count": 18,
   "metadata": {},
   "outputs": [
    {
     "data": {
      "text/markdown": [
       "### Training a model including an Embedding layer and a LSTM layer"
      ],
      "text/plain": [
       "<IPython.core.display.Markdown object>"
      ]
     },
     "metadata": {},
     "output_type": "display_data"
    },
    {
     "name": "stdout",
     "output_type": "stream",
     "text": [
      "starting model training...\n",
      "_________________________________________________________________\n",
      "Layer (type)                 Output Shape              Param #   \n",
      "=================================================================\n",
      "embedding_6 (Embedding)      (None, None, 32)          320000    \n",
      "_________________________________________________________________\n",
      "lstm_2 (LSTM)                (None, 32)                8320      \n",
      "_________________________________________________________________\n",
      "dense_5 (Dense)              (None, 1)                 33        \n",
      "=================================================================\n",
      "Total params: 328,353\n",
      "Trainable params: 328,353\n",
      "Non-trainable params: 0\n",
      "_________________________________________________________________\n",
      "\n",
      "\n",
      "Train on 20000 samples, validate on 5000 samples\n",
      "Epoch 1/10\n",
      "20000/20000 [==============================] - 238s 12ms/step - loss: 0.5143 - acc: 0.7563 - val_loss: 0.3657 - val_acc: 0.8554\n",
      "Epoch 2/10\n",
      "20000/20000 [==============================] - 242s 12ms/step - loss: 0.3079 - acc: 0.8797 - val_loss: 0.4125 - val_acc: 0.8134\n",
      "Epoch 3/10\n",
      "20000/20000 [==============================] - 246s 12ms/step - loss: 0.2428 - acc: 0.9054 - val_loss: 0.4813 - val_acc: 0.8482\n",
      "Epoch 4/10\n",
      "20000/20000 [==============================] - 247s 12ms/step - loss: 0.2028 - acc: 0.9249 - val_loss: 0.2920 - val_acc: 0.8828\n",
      "Epoch 5/10\n",
      "20000/20000 [==============================] - 247s 12ms/step - loss: 0.1796 - acc: 0.9335 - val_loss: 0.4467 - val_acc: 0.8624\n",
      "Epoch 6/10\n",
      "20000/20000 [==============================] - 248s 12ms/step - loss: 0.1589 - acc: 0.9435 - val_loss: 0.4982 - val_acc: 0.8614\n",
      "Epoch 7/10\n",
      "20000/20000 [==============================] - 248s 12ms/step - loss: 0.1497 - acc: 0.9473 - val_loss: 0.3400 - val_acc: 0.8622\n",
      "Epoch 8/10\n",
      "20000/20000 [==============================] - 245s 12ms/step - loss: 0.1342 - acc: 0.9535 - val_loss: 0.3690 - val_acc: 0.8656\n",
      "Epoch 9/10\n",
      "20000/20000 [==============================] - 247s 12ms/step - loss: 0.1235 - acc: 0.9567 - val_loss: 0.5060 - val_acc: 0.8708\n",
      "Epoch 10/10\n",
      "20000/20000 [==============================] - 247s 12ms/step - loss: 0.1152 - acc: 0.9605 - val_loss: 0.3444 - val_acc: 0.8796\n"
     ]
    },
    {
     "data": {
      "text/markdown": [
       "### result"
      ],
      "text/plain": [
       "<IPython.core.display.Markdown object>"
      ]
     },
     "metadata": {},
     "output_type": "display_data"
    },
    {
     "data": {
      "image/png": "[encoded data removed]",
      "text/plain": [
       "<Figure size 432x288 with 1 Axes>"
      ]
     },
     "metadata": {
      "needs_background": "light"
     },
     "output_type": "display_data"
    },
    {
     "data": {
      "image/png": "[encoded data removed]",
      "text/plain": [
       "<Figure size 432x288 with 1 Axes>"
      ]
     },
     "metadata": {
      "needs_background": "light"
     },
     "output_type": "display_data"
    }
   ],
   "source": [
    "display(Markdown(\"### Training a model including an Embedding layer and a LSTM layer\"))\n",
    "\n",
    "# model architecture and training\n",
    "print(\"starting model training...\")\n",
    "model = Sequential()\n",
    "model.add(Embedding(max_features, 32))\n",
    "model.add(LSTM(32))\n",
    "model.add(Dense(1, activation='sigmoid'))\n",
    "model.summary()\n",
    "print (\"\\n\")\n",
    "\n",
    "model.compile(optimizer='rmsprop',\n",
    "              loss='binary_crossentropy',\n",
    "              metrics=['acc'])\n",
    "\n",
    "history = model.fit(input_train, y_train,\n",
    "                    epochs=10,\n",
    "                    batch_size=128,\n",
    "                    validation_split=0.2)\n",
    "\n",
    "# ploting model training results\n",
    "display(Markdown(\"### result\"))\n",
    "plot_model_training_history(history)"
   ]
  }
 ],
 "metadata": {
  "kernelspec": {
   "display_name": "Python 3",
   "language": "python",
   "name": "python3"
  },
  "language_info": {
   "codemirror_mode": {
    "name": "ipython",
    "version": 3
   },
   "file_extension": ".py",
   "mimetype": "text/x-python",
   "name": "python",
   "nbconvert_exporter": "python",
   "pygments_lexer": "ipython3",
   "version": "3.6.7"
  }
 },
 "nbformat": 4,
 "nbformat_minor": 2
}
