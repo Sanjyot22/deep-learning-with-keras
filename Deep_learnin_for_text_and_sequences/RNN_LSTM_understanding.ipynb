{
 "cells": [
  {
   "cell_type": "markdown",
   "metadata": {},
   "source": [
    "## UNDERSTANDING SEQUENTIAL MODEL'S RNN, LSTM & BASIC IMPLEMENTATION"
   ]
  },
  {
   "cell_type": "code",
   "execution_count": 21,
   "metadata": {},
   "outputs": [],
   "source": [
    "#imports\n",
    "\n",
    "from keras.models import Sequential, Model\n",
    "from keras.layers import Embedding, SimpleRNN, Flatten, Input, Dense\n",
    "from keras.layers import LSTM\n",
    "from keras.datasets import imdb\n",
    "from keras.preprocessing import sequence\n",
    "\n",
    "\n",
    "# general imports\n",
    "from IPython.display import display, Markdown #just to display markdown\n",
    "import numpy as np\n",
    "\n",
    "# visualiaztion imports\n",
    "%matplotlib inline\n",
    "import matplotlib.pyplot as plt"
   ]
  },
  {
   "cell_type": "code",
   "execution_count": 22,
   "metadata": {},
   "outputs": [
    {
     "data": {
      "text/markdown": [
       "## UNDERSTANDING RECURRENT NEURAL NETWORKS"
      ],
      "text/plain": [
       "<IPython.core.display.Markdown object>"
      ]
     },
     "metadata": {},
     "output_type": "display_data"
    },
    {
     "name": "stdout",
     "output_type": "stream",
     "text": [
      "\n",
      "RNN processes sequences by iterating through the sequence elements and maintaining \n",
      "a \"state\" containing information relative to what they have seen so far. \n",
      "\n",
      "Note: RNN is a loop\n",
      "\n",
      "state_t = 0\n",
      "for input_t in input_sequence:\n",
      "    output_t = activation(dot(W, input_t) + dot(U, state_t) + b)\n",
      "    state_t = output_t\n",
      "    \n",
      "\n"
     ]
    }
   ],
   "source": [
    "display(Markdown(\"## UNDERSTANDING RECURRENT NEURAL NETWORKS\"))\n",
    "\n",
    "print (\"\"\"\n",
    "RNN processes sequences by iterating through the sequence elements and maintaining \n",
    "a \"state\" containing information relative to what they have seen so far. \n",
    "\n",
    "Note: RNN is a loop\n",
    "\n",
    "state_t = 0\n",
    "for input_t in input_sequence:\n",
    "    output_t = activation(dot(W, input_t) + dot(U, state_t) + b)\n",
    "    state_t = output_t\n",
    "    \n",
    "\"\"\")"
   ]
  },
  {
   "cell_type": "code",
   "execution_count": 23,
   "metadata": {},
   "outputs": [
    {
     "data": {
      "text/markdown": [
       "## NUMPY IMPLEMENTATION OF RECURRENT NEURAL NETWORKS"
      ],
      "text/plain": [
       "<IPython.core.display.Markdown object>"
      ]
     },
     "metadata": {},
     "output_type": "display_data"
    },
    {
     "name": "stdout",
     "output_type": "stream",
     "text": [
      "Raw data\n",
      "\n",
      "Shape of input data: (100, 32)\n",
      "first 2 timestamps data \n",
      "[[0.52545319 0.36632492 0.05882097 0.37371295 0.56120112 0.57216176\n",
      "  0.59791977 0.9913791  0.74243668 0.70739501 0.07255158 0.96555477\n",
      "  0.5258065  0.09598744 0.01858741 0.28521419 0.98790828 0.35561619\n",
      "  0.05327376 0.53746068 0.90357379 0.59944064 0.983542   0.9204624\n",
      "  0.03901978 0.65341672 0.67291409 0.34448272 0.15664814 0.05335054\n",
      "  0.44190881 0.30970667]\n",
      " [0.25228456 0.54108719 0.88922339 0.92822936 0.54185385 0.78789096\n",
      "  0.19161471 0.17639849 0.92776416 0.07974501 0.49835244 0.79683705\n",
      "  0.24743101 0.95001604 0.00967635 0.7070091  0.67402026 0.19469339\n",
      "  0.74773807 0.0375805  0.23535595 0.50092232 0.76946801 0.50816746\n",
      "  0.75372922 0.27837067 0.63468875 0.07356102 0.88209314 0.90376002\n",
      "  0.8363225  0.96047229]]\n",
      "\n",
      "Expected output shape/timestamp: (64,)\n",
      "Random initial output state \n",
      "[0. 0. 0. 0. 0. 0. 0. 0. 0. 0. 0. 0. 0. 0. 0. 0. 0. 0. 0. 0. 0. 0. 0. 0.\n",
      " 0. 0. 0. 0. 0. 0. 0. 0. 0. 0. 0. 0. 0. 0. 0. 0. 0. 0. 0. 0. 0. 0. 0. 0.\n",
      " 0. 0. 0. 0. 0. 0. 0. 0. 0. 0. 0. 0. 0. 0. 0. 0.]\n",
      "\n"
     ]
    },
    {
     "data": {
      "text/markdown": [
       "### result"
      ],
      "text/plain": [
       "<IPython.core.display.Markdown object>"
      ]
     },
     "metadata": {},
     "output_type": "display_data"
    },
    {
     "name": "stdout",
     "output_type": "stream",
     "text": [
      "We have a 64 dimension vector for each time-step of input sequence\n",
      "\n",
      "[[0.99999979 0.99999977 0.99999863 ... 0.99999975 0.99999982 0.99999977]\n",
      " [1.         1.         1.         ... 1.         1.         1.        ]\n",
      " [1.         1.         1.         ... 1.         1.         1.        ]\n",
      " ...\n",
      " [1.         1.         1.         ... 1.         1.         1.        ]\n",
      " [1.         1.         1.         ... 1.         1.         1.        ]\n",
      " [1.         1.         1.         ... 1.         1.         1.        ]]\n",
      "\n",
      "Note:\n",
      "\n",
      "- RNN in each loop, produce result for that particular timestamp\n",
      "- While in a loop, RNN has output from earlier states stored in the form of state variable\n",
      "- This output corresponds is produced when \"return sequence = True\" in rnn parameter initialization\n",
      "- The above input data is 1 sample in a batch (for next sample the loop restarts)\n",
      "- The above implementation is the actual Keras SimpleRNN layer \n",
      "(the only difference is it can process batches of sequence)\n",
      "\n"
     ]
    }
   ],
   "source": [
    "display(Markdown(\"## NUMPY IMPLEMENTATION OF RECURRENT NEURAL NETWORKS\"))\n",
    "\n",
    "timesteps = 100  # Number of timesteps in the input sequence\n",
    "inputs_features = 32  # Dimensionality of the input feature space\n",
    "output_features = 64  # Dimensionality of the output feature space\n",
    "\n",
    "\n",
    "# This is our input data - just random noise for the sake of our example.\n",
    "inputs = np.random.random((timesteps, inputs_features))\n",
    "# This is our \"initial state\": an all-zero vector.\n",
    "state_t = np.zeros((output_features,))\n",
    "\n",
    "\n",
    "\n",
    "print (\"Raw data\\n\")\n",
    "print(\"Shape of input data: {}\".format(inputs.shape))\n",
    "print (\"first 2 timestamps data \\n{}\\n\".format(inputs[:2]))\n",
    "print(\"Expected output shape/timestamp: {}\".format(state_t.shape))\n",
    "print (\"Random initial output state \\n{}\\n\".format(state_t))\n",
    "\n",
    "# Creating random weight matrices\n",
    "W = np.random.random((output_features, inputs_features))\n",
    "U = np.random.random((output_features, output_features))\n",
    "b = np.random.random((output_features,))\n",
    "\n",
    "successive_outputs = []\n",
    "for input_t in inputs:  # input_t is a vector of shape (input_features,)\n",
    "    # We combine the input with the current state\n",
    "    # (i.e. the previous output) to obtain the current output.\n",
    "    \n",
    "    output_t = np.tanh(np.dot(W, input_t) + np.dot(U, state_t) + b)\n",
    "    \n",
    "    # We store this output in a list.\n",
    "    successive_outputs.append(output_t)\n",
    "    \n",
    "    # We update the \"state\" of the network for the next timestep\n",
    "    state_t = output_t\n",
    "    \n",
    "\n",
    "\n",
    "display(Markdown(\"### result\"))\n",
    "\n",
    "# The final output is a 2D tensor of shape (timesteps, output_features).\n",
    "# final_output_sequence = np.concatenate(successive_outputs, axis=0)\n",
    "final_output_sequence = np.reshape(successive_outputs, (timesteps,output_features))\n",
    "\n",
    "print (\"We have a {} dimension vector for each time-step of input sequence\\n\".format(final_output_sequence.shape[1]))\n",
    "print (final_output_sequence)\n",
    "\n",
    "print (\"\"\"\n",
    "Note:\n",
    "\n",
    "- RNN in each loop, produce result for that particular timestamp\n",
    "- While in a loop, RNN has output from earlier states stored in the form of state variable\n",
    "- This output corresponds is produced when \"return sequence = True\" in rnn parameter initialization\n",
    "- The above input data is 1 sample in a batch (for next sample the loop restarts)\n",
    "- The above implementation is the actual Keras SimpleRNN layer \n",
    "(the only difference is it can process batches of sequence)\n",
    "\"\"\")"
   ]
  },
  {
   "cell_type": "code",
   "execution_count": 24,
   "metadata": {},
   "outputs": [
    {
     "data": {
      "text/markdown": [
       "### implementing above model using keras SimpleRNN layer"
      ],
      "text/plain": [
       "<IPython.core.display.Markdown object>"
      ]
     },
     "metadata": {},
     "output_type": "display_data"
    },
    {
     "name": "stdout",
     "output_type": "stream",
     "text": [
      "_________________________________________________________________\n",
      "Layer (type)                 Output Shape              Param #   \n",
      "=================================================================\n",
      "rnn_layer (SimpleRNN)        (None, 100, 64)           6208      \n",
      "=================================================================\n",
      "Total params: 6,208\n",
      "Trainable params: 6,208\n",
      "Non-trainable params: 0\n",
      "_________________________________________________________________\n",
      "\n",
      "Note:\n",
      "In case of text, the embedding layer help to create this 2 dimensional input vector. \n",
      "In text each word represent the timestamp and word vector is smallest data unit.\n",
      "\n"
     ]
    }
   ],
   "source": [
    "display(Markdown(\"### implementing above model using keras SimpleRNN layer\"))\n",
    "\n",
    "model = Sequential()\n",
    "model.add(SimpleRNN(64,return_sequences=True,input_shape=(100,32),name=\"rnn_layer\"))\n",
    "model.summary()\n",
    "\n",
    "print (\"\"\"\n",
    "Note:\n",
    "In case of text, the embedding layer help to create this 2 dimensional input vector. \n",
    "In text each word represent the timestamp and word vector is smallest data unit.\n",
    "\"\"\")"
   ]
  },
  {
   "cell_type": "code",
   "execution_count": 25,
   "metadata": {},
   "outputs": [
    {
     "data": {
      "text/markdown": [
       "## USING SimpleRNN & RETURNING THE LAST STATE"
      ],
      "text/plain": [
       "<IPython.core.display.Markdown object>"
      ]
     },
     "metadata": {},
     "output_type": "display_data"
    },
    {
     "name": "stdout",
     "output_type": "stream",
     "text": [
      "_________________________________________________________________\n",
      "Layer (type)                 Output Shape              Param #   \n",
      "=================================================================\n",
      "embedding_layer (Embedding)  (None, 100, 32)           320000    \n",
      "_________________________________________________________________\n",
      "rnn_layer (SimpleRNN)        (None, 64)                6208      \n",
      "=================================================================\n",
      "Total params: 326,208\n",
      "Trainable params: 326,208\n",
      "Non-trainable params: 0\n",
      "_________________________________________________________________\n"
     ]
    },
    {
     "data": {
      "text/markdown": [
       "## USING SimpleRNN & RETURNING ALL STATE's SEQUENCES"
      ],
      "text/plain": [
       "<IPython.core.display.Markdown object>"
      ]
     },
     "metadata": {},
     "output_type": "display_data"
    },
    {
     "name": "stdout",
     "output_type": "stream",
     "text": [
      "_________________________________________________________________\n",
      "Layer (type)                 Output Shape              Param #   \n",
      "=================================================================\n",
      "embedding_layer (Embedding)  (None, 100, 32)           320000    \n",
      "_________________________________________________________________\n",
      "rnn_layer (SimpleRNN)        (None, 100, 64)           6208      \n",
      "=================================================================\n",
      "Total params: 326,208\n",
      "Trainable params: 326,208\n",
      "Non-trainable params: 0\n",
      "_________________________________________________________________\n",
      "\n",
      "\"return_sequences\" parameter decides if the output is produced at each stage or final output is produced \n",
      "\n"
     ]
    }
   ],
   "source": [
    "display(Markdown(\"## USING SIMPLE-RNN & RETURNING THE LAST STATE\"))\n",
    "\n",
    "#embedding layer initializations\n",
    "n_vocab_embedding_layer = 10000\n",
    "size_of_word_vector = 32\n",
    "\n",
    "model = Sequential()\n",
    "model.add(Embedding(n_vocab_embedding_layer, output_dim=size_of_word_vector , input_length=100,name=\"embedding_layer\"))\n",
    "model.add(SimpleRNN(64, name = \"rnn_layer\"))\n",
    "model.summary()\n",
    "\n",
    "\n",
    "display(Markdown(\"## USING SIMPLE-RNN & RETURNING ALL STATE's SEQUENCES\"))\n",
    "\n",
    "model = Sequential()\n",
    "model.add(Embedding(n_vocab_embedding_layer, output_dim=size_of_word_vector, input_length=100,name=\"embedding_layer\"))\n",
    "model.add(SimpleRNN(64, return_sequences=True, name = \"rnn_layer\"))\n",
    "model.summary()\n",
    "\n",
    "print (\"\"\"\n",
    "\"return_sequences\" parameter decides if the output is produced at each stage or final output is produced \n",
    "\"\"\")"
   ]
  },
  {
   "cell_type": "code",
   "execution_count": 26,
   "metadata": {},
   "outputs": [],
   "source": [
    "def plot_model_training_history(history):\n",
    "    \n",
    "    #collecting all post-training values \n",
    "    acc = history.history['acc']\n",
    "    val_acc = history.history['val_acc']\n",
    "    loss = history.history['loss']\n",
    "    val_loss = history.history['val_loss']\n",
    "    epochs = range(1, len(acc) + 1)\n",
    "    \n",
    "    # ploting losses\n",
    "    plt.plot(epochs, loss, 'bo', label='Training loss')\n",
    "    plt.plot(epochs, val_loss, 'b', label='Validation loss')\n",
    "    plt.title('Training and validation loss')\n",
    "    plt.legend()\n",
    "    plt.show()\n",
    "    \n",
    "    plt.figure()\n",
    "    \n",
    "    # ploting accuracies\n",
    "    plt.plot(epochs, acc, 'bo', label='Training acc')\n",
    "    plt.plot(epochs, val_acc, 'b', label='Validation acc')\n",
    "    plt.title('Training and validation accuracy')\n",
    "    plt.legend()\n",
    "    return"
   ]
  },
  {
   "cell_type": "code",
   "execution_count": 27,
   "metadata": {},
   "outputs": [
    {
     "data": {
      "text/markdown": [
       "## TRAINING MODEL USING SIMPLE-RNN LAYER "
      ],
      "text/plain": [
       "<IPython.core.display.Markdown object>"
      ]
     },
     "metadata": {},
     "output_type": "display_data"
    },
    {
     "name": "stdout",
     "output_type": "stream",
     "text": [
      "Loading data...\n",
      "after data preprocessing\n",
      "input_train shape: (25000, 500)\n",
      "input_test shape: (25000, 500) \n",
      "\n",
      "\n",
      "Imdb review data lables\n",
      "[1 0]\n",
      "\n",
      "Note:  \n",
      "0 : \"Negative review\"\n",
      "1 : \"Positive review\"\n",
      "\n",
      "\n",
      "starting model training...\n",
      "_________________________________________________________________\n",
      "Layer (type)                 Output Shape              Param #   \n",
      "=================================================================\n",
      "embedding_7 (Embedding)      (None, None, 32)          320000    \n",
      "_________________________________________________________________\n",
      "simple_rnn_6 (SimpleRNN)     (None, 32)                2080      \n",
      "_________________________________________________________________\n",
      "dense_6 (Dense)              (None, 1)                 33        \n",
      "=================================================================\n",
      "Total params: 322,113\n",
      "Trainable params: 322,113\n",
      "Non-trainable params: 0\n",
      "_________________________________________________________________\n",
      "\n",
      "\n",
      "Train on 20000 samples, validate on 5000 samples\n",
      "Epoch 1/10\n",
      "20000/20000 [==============================] - 70s 3ms/step - loss: 0.6478 - acc: 0.6084 - val_loss: 0.5131 - val_acc: 0.7660\n",
      "Epoch 2/10\n",
      "20000/20000 [==============================] - 69s 3ms/step - loss: 0.4233 - acc: 0.8158 - val_loss: 0.3905 - val_acc: 0.8314\n",
      "Epoch 3/10\n",
      "20000/20000 [==============================] - 69s 3ms/step - loss: 0.3077 - acc: 0.8763 - val_loss: 0.4027 - val_acc: 0.8198\n",
      "Epoch 4/10\n",
      "20000/20000 [==============================] - 69s 3ms/step - loss: 0.2250 - acc: 0.9122 - val_loss: 0.3726 - val_acc: 0.8520\n",
      "Epoch 5/10\n",
      "20000/20000 [==============================] - 72s 4ms/step - loss: 0.1645 - acc: 0.9408 - val_loss: 0.4481 - val_acc: 0.8068\n",
      "Epoch 6/10\n",
      "20000/20000 [==============================] - 71s 4ms/step - loss: 0.1005 - acc: 0.9657 - val_loss: 0.4073 - val_acc: 0.8544\n",
      "Epoch 7/10\n",
      "20000/20000 [==============================] - 71s 4ms/step - loss: 0.0634 - acc: 0.9806 - val_loss: 0.6835 - val_acc: 0.8132\n",
      "Epoch 8/10\n",
      "20000/20000 [==============================] - 71s 4ms/step - loss: 0.0391 - acc: 0.9882 - val_loss: 0.6420 - val_acc: 0.7810\n",
      "Epoch 9/10\n",
      "20000/20000 [==============================] - 71s 4ms/step - loss: 0.0216 - acc: 0.9940 - val_loss: 0.6689 - val_acc: 0.7834\n",
      "Epoch 10/10\n",
      "20000/20000 [==============================] - 71s 4ms/step - loss: 0.0154 - acc: 0.9961 - val_loss: 0.8405 - val_acc: 0.7540\n"
     ]
    },
    {
     "data": {
      "text/markdown": [
       "### result"
      ],
      "text/plain": [
       "<IPython.core.display.Markdown object>"
      ]
     },
     "metadata": {},
     "output_type": "display_data"
    },
    {
     "data": {
      "image/png": "[encoded data removed]",
      "text/plain": [
       "<Figure size 432x288 with 1 Axes>"
      ]
     },
     "metadata": {
      "needs_background": "light"
     },
     "output_type": "display_data"
    },
    {
     "data": {
      "image/png": "[encoded data removed]",
      "text/plain": [
       "<Figure size 432x288 with 1 Axes>"
      ]
     },
     "metadata": {
      "needs_background": "light"
     },
     "output_type": "display_data"
    }
   ],
   "source": [
    "display(Markdown(\"## TRAINING MODEL USING SIMPLE-RNN LAYER \"))\n",
    "\n",
    "# pre-processing initializations\n",
    "max_features = 10000  # number of words to consider as features\n",
    "maxlen = 500  # cut texts after this number of words (among top max_features most common words)\n",
    "batch_size = 32\n",
    "\n",
    "# data pre-prcessing\n",
    "### IMDB data preparation was extensively cover in \"text_pre-processing_basic model_building\"(earlier module) ###\n",
    "\n",
    "print('Loading data...')\n",
    "(input_train, y_train), (input_test, y_test) = imdb.load_data(num_words=max_features)\n",
    "\n",
    "# cutting sentences to max length of 500\n",
    "input_train = sequence.pad_sequences(input_train, maxlen=maxlen)\n",
    "input_test = sequence.pad_sequences(input_test, maxlen=maxlen)\n",
    "\n",
    "print (\"after data preprocessing\")\n",
    "print('input_train shape:', input_train.shape)\n",
    "print('input_test shape:', input_test.shape, \"\\n\")\n",
    "\n",
    "print(\"\\nImdb review data lables\")\n",
    "print(y_train[:2])\n",
    "print(\n",
    "\"\"\"\n",
    "Note:  \n",
    "0 : \"Negative review\"\n",
    "1 : \"Positive review\"\n",
    "\n",
    "\"\"\"\n",
    ")\n",
    "\n",
    "# model architecture and training\n",
    "print(\"starting model training...\")\n",
    "model = Sequential()\n",
    "model.add(Embedding(max_features, 32))\n",
    "model.add(SimpleRNN(32))\n",
    "model.add(Dense(1, activation='sigmoid'))\n",
    "model.summary()\n",
    "print (\"\\n\")\n",
    "model.compile(optimizer='rmsprop', loss='binary_crossentropy', metrics=['acc'])\n",
    "history = model.fit(input_train, y_train,\n",
    "                    epochs=10,\n",
    "                    batch_size=128,\n",
    "                    validation_split=0.2)\n",
    "\n",
    "# ploting model training results\n",
    "display(Markdown(\"### result\"))\n",
    "plot_model_training_history(history)"
   ]
  },
  {
   "cell_type": "code",
   "execution_count": 28,
   "metadata": {},
   "outputs": [
    {
     "data": {
      "text/markdown": [
       "## UNDERSTANDING LONG SHORT TERM MEMORY (LSTM)"
      ],
      "text/plain": [
       "<IPython.core.display.Markdown object>"
      ]
     },
     "metadata": {},
     "output_type": "display_data"
    },
    {
     "name": "stdout",
     "output_type": "stream",
     "text": [
      "\n",
      "\n",
      "    \n",
      "\n"
     ]
    }
   ],
   "source": [
    "display(Markdown(\"## UNDERSTANDING LONG SHORT TERM MEMORY (LSTM)\"))\n",
    "\n",
    "print (\"\"\"\n",
    "\n",
    "    \n",
    "\"\"\")"
   ]
  },
  {
   "cell_type": "code",
   "execution_count": 29,
   "metadata": {},
   "outputs": [
    {
     "data": {
      "text/markdown": [
       "## TRAINING A MODEL USING LSTM LAYER"
      ],
      "text/plain": [
       "<IPython.core.display.Markdown object>"
      ]
     },
     "metadata": {},
     "output_type": "display_data"
    },
    {
     "name": "stdout",
     "output_type": "stream",
     "text": [
      "starting model training...\n",
      "_________________________________________________________________\n",
      "Layer (type)                 Output Shape              Param #   \n",
      "=================================================================\n",
      "embedding_8 (Embedding)      (None, None, 32)          320000    \n",
      "_________________________________________________________________\n",
      "lstm_3 (LSTM)                (None, 32)                8320      \n",
      "_________________________________________________________________\n",
      "dense_7 (Dense)              (None, 1)                 33        \n",
      "=================================================================\n",
      "Total params: 328,353\n",
      "Trainable params: 328,353\n",
      "Non-trainable params: 0\n",
      "_________________________________________________________________\n",
      "\n",
      "\n",
      "Train on 20000 samples, validate on 5000 samples\n",
      "Epoch 1/10\n",
      "20000/20000 [==============================] - 247s 12ms/step - loss: 0.5104 - acc: 0.7652 - val_loss: 0.6867 - val_acc: 0.6968\n",
      "Epoch 2/10\n",
      "20000/20000 [==============================] - 246s 12ms/step - loss: 0.2953 - acc: 0.8862 - val_loss: 0.3147 - val_acc: 0.8808\n",
      "Epoch 3/10\n",
      "20000/20000 [==============================] - 245s 12ms/step - loss: 0.2323 - acc: 0.9113 - val_loss: 0.2795 - val_acc: 0.8904\n",
      "Epoch 4/10\n",
      "20000/20000 [==============================] - 247s 12ms/step - loss: 0.1987 - acc: 0.9263 - val_loss: 0.2963 - val_acc: 0.8726\n",
      "Epoch 5/10\n",
      "20000/20000 [==============================] - 247s 12ms/step - loss: 0.1739 - acc: 0.9369 - val_loss: 0.3353 - val_acc: 0.8554\n",
      "Epoch 6/10\n",
      "20000/20000 [==============================] - 244s 12ms/step - loss: 0.1518 - acc: 0.9456 - val_loss: 0.3581 - val_acc: 0.8814\n",
      "Epoch 7/10\n",
      "20000/20000 [==============================] - 247s 12ms/step - loss: 0.1432 - acc: 0.9485 - val_loss: 0.3061 - val_acc: 0.8880\n",
      "Epoch 8/10\n",
      "20000/20000 [==============================] - 247s 12ms/step - loss: 0.1309 - acc: 0.9549 - val_loss: 0.3389 - val_acc: 0.8726\n",
      "Epoch 9/10\n",
      "20000/20000 [==============================] - 247s 12ms/step - loss: 0.1199 - acc: 0.9597 - val_loss: 0.3703 - val_acc: 0.8808\n",
      "Epoch 10/10\n",
      "20000/20000 [==============================] - 248s 12ms/step - loss: 0.1082 - acc: 0.9625 - val_loss: 0.3875 - val_acc: 0.8802\n"
     ]
    },
    {
     "data": {
      "text/markdown": [
       "### result"
      ],
      "text/plain": [
       "<IPython.core.display.Markdown object>"
      ]
     },
     "metadata": {},
     "output_type": "display_data"
    },
    {
     "data": {
      "image/png": "[encoded data removed]",
      "text/plain": [
       "<Figure size 432x288 with 1 Axes>"
      ]
     },
     "metadata": {
      "needs_background": "light"
     },
     "output_type": "display_data"
    },
    {
     "data": {
      "image/png": "[encoded data removed]",
      "text/plain": [
       "<Figure size 432x288 with 1 Axes>"
      ]
     },
     "metadata": {
      "needs_background": "light"
     },
     "output_type": "display_data"
    }
   ],
   "source": [
    "display(Markdown(\"## TRAINING A MODEL USING LSTM LAYER\"))\n",
    "\n",
    "# model architecture and training\n",
    "print(\"starting model training...\")\n",
    "model = Sequential()\n",
    "model.add(Embedding(max_features, 32))\n",
    "model.add(LSTM(32))\n",
    "model.add(Dense(1, activation='sigmoid'))\n",
    "model.summary()\n",
    "print (\"\\n\")\n",
    "\n",
    "model.compile(optimizer='rmsprop',\n",
    "              loss='binary_crossentropy',\n",
    "              metrics=['acc'])\n",
    "\n",
    "history = model.fit(input_train, y_train,\n",
    "                    epochs=10,\n",
    "                    batch_size=128,\n",
    "                    validation_split=0.2)\n",
    "\n",
    "# ploting model training results\n",
    "display(Markdown(\"### result\"))\n",
    "plot_model_training_history(history)"
   ]
  }
 ],
 "metadata": {
  "kernelspec": {
   "display_name": "Python 3",
   "language": "python",
   "name": "python3"
  },
  "language_info": {
   "codemirror_mode": {
    "name": "ipython",
    "version": 3
   },
   "file_extension": ".py",
   "mimetype": "text/x-python",
   "name": "python",
   "nbconvert_exporter": "python",
   "pygments_lexer": "ipython3",
   "version": "3.6.7"
  }
 },
 "nbformat": 4,
 "nbformat_minor": 2
}
